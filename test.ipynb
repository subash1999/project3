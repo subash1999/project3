{
 "nbformat": 4,
 "nbformat_minor": 2,
 "metadata": {
  "language_info": {
   "name": "python",
   "codemirror_mode": {
    "name": "ipython",
    "version": 3
   },
   "version": "3.7.4"
  },
  "orig_nbformat": 2,
  "file_extension": ".py",
  "mimetype": "text/x-python",
  "name": "python",
  "npconvert_exporter": "python",
  "pygments_lexer": "ipython3",
  "version": 3
 },
 "cells": [
  {
   "cell_type": "code",
   "execution_count": 1,
   "metadata": {},
   "outputs": [],
   "source": [
    "from final_dataset.FinalDataSet import FinalDataSet"
   ]
  },
  {
   "cell_type": "code",
   "execution_count": 2,
   "metadata": {},
   "outputs": [],
   "source": [
    "f = FinalDataSet()"
   ]
  },
  {
   "cell_type": "code",
   "execution_count": 3,
   "metadata": {},
   "outputs": [
    {
     "data": {
      "text/html": "<div>\n<style scoped>\n    .dataframe tbody tr th:only-of-type {\n        vertical-align: middle;\n    }\n\n    .dataframe tbody tr th {\n        vertical-align: top;\n    }\n\n    .dataframe thead th {\n        text-align: right;\n    }\n</style>\n<table border=\"1\" class=\"dataframe\">\n  <thead>\n    <tr style=\"text-align: right;\">\n      <th></th>\n      <th>ID_REF</th>\n      <th>GSM107072</th>\n      <th>GSM107073</th>\n      <th>GSM107074</th>\n      <th>GSM107075</th>\n      <th>GSM107076</th>\n      <th>GSM107077</th>\n      <th>GSM107078</th>\n      <th>GSM107079</th>\n      <th>GSM107080</th>\n      <th>...</th>\n      <th>b0243</th>\n      <th>s0059</th>\n      <th>b0672</th>\n      <th>b0667</th>\n      <th>b0629</th>\n      <th>s0101</th>\n      <th>s1551</th>\n      <th>b0165</th>\n      <th>s0168</th>\n      <th>s1511</th>\n    </tr>\n  </thead>\n  <tbody>\n    <tr>\n      <th>0</th>\n      <td>218408_at</td>\n      <td>7.560190</td>\n      <td>8.216851</td>\n      <td>7.327913</td>\n      <td>7.526142</td>\n      <td>7.445010</td>\n      <td>7.211209</td>\n      <td>7.130519</td>\n      <td>7.152266</td>\n      <td>7.102678</td>\n      <td>...</td>\n      <td>7.847141</td>\n      <td>7.757594</td>\n      <td>8.545787</td>\n      <td>8.211628</td>\n      <td>7.943478</td>\n      <td>8.401075</td>\n      <td>7.032361</td>\n      <td>8.033365</td>\n      <td>8.095337</td>\n      <td>8.359068</td>\n    </tr>\n    <tr>\n      <th>1</th>\n      <td>218409_s_at</td>\n      <td>7.328363</td>\n      <td>7.960426</td>\n      <td>8.093310</td>\n      <td>8.066513</td>\n      <td>7.196754</td>\n      <td>7.670646</td>\n      <td>8.408002</td>\n      <td>6.584597</td>\n      <td>6.864336</td>\n      <td>...</td>\n      <td>7.862245</td>\n      <td>9.538100</td>\n      <td>9.424723</td>\n      <td>8.203117</td>\n      <td>8.735654</td>\n      <td>8.382529</td>\n      <td>10.283394</td>\n      <td>8.737878</td>\n      <td>8.460917</td>\n      <td>9.120799</td>\n    </tr>\n    <tr>\n      <th>2</th>\n      <td>218410_s_at</td>\n      <td>5.463634</td>\n      <td>5.599258</td>\n      <td>5.945356</td>\n      <td>4.644165</td>\n      <td>4.223127</td>\n      <td>4.785609</td>\n      <td>3.073255</td>\n      <td>5.015193</td>\n      <td>5.695580</td>\n      <td>...</td>\n      <td>5.543625</td>\n      <td>5.105964</td>\n      <td>6.043033</td>\n      <td>4.880036</td>\n      <td>5.550701</td>\n      <td>5.004156</td>\n      <td>5.243062</td>\n      <td>5.139305</td>\n      <td>5.581081</td>\n      <td>5.127601</td>\n    </tr>\n    <tr>\n      <th>3</th>\n      <td>218411_s_at</td>\n      <td>6.415767</td>\n      <td>5.721424</td>\n      <td>6.278524</td>\n      <td>6.276451</td>\n      <td>6.081324</td>\n      <td>6.381029</td>\n      <td>5.155097</td>\n      <td>6.395743</td>\n      <td>6.465460</td>\n      <td>...</td>\n      <td>6.044905</td>\n      <td>5.319436</td>\n      <td>5.519697</td>\n      <td>5.630613</td>\n      <td>5.623075</td>\n      <td>7.842210</td>\n      <td>5.707372</td>\n      <td>5.636907</td>\n      <td>5.885631</td>\n      <td>5.886268</td>\n    </tr>\n    <tr>\n      <th>4</th>\n      <td>218412_s_at</td>\n      <td>7.952580</td>\n      <td>7.586203</td>\n      <td>7.241598</td>\n      <td>7.581596</td>\n      <td>7.342801</td>\n      <td>7.707944</td>\n      <td>7.561984</td>\n      <td>7.349153</td>\n      <td>7.368270</td>\n      <td>...</td>\n      <td>7.858991</td>\n      <td>8.730489</td>\n      <td>8.647647</td>\n      <td>8.261406</td>\n      <td>8.720696</td>\n      <td>8.825327</td>\n      <td>8.529515</td>\n      <td>8.280820</td>\n      <td>8.168640</td>\n      <td>8.674222</td>\n    </tr>\n  </tbody>\n</table>\n<p>5 rows × 1198 columns</p>\n</div>",
      "text/plain": "        ID_REF  GSM107072  GSM107073  GSM107074  GSM107075  GSM107076  \\\n0    218408_at   7.560190   8.216851   7.327913   7.526142   7.445010   \n1  218409_s_at   7.328363   7.960426   8.093310   8.066513   7.196754   \n2  218410_s_at   5.463634   5.599258   5.945356   4.644165   4.223127   \n3  218411_s_at   6.415767   5.721424   6.278524   6.276451   6.081324   \n4  218412_s_at   7.952580   7.586203   7.241598   7.581596   7.342801   \n\n   GSM107077  GSM107078  GSM107079  GSM107080  ...     b0243     s0059  \\\n0   7.211209   7.130519   7.152266   7.102678  ...  7.847141  7.757594   \n1   7.670646   8.408002   6.584597   6.864336  ...  7.862245  9.538100   \n2   4.785609   3.073255   5.015193   5.695580  ...  5.543625  5.105964   \n3   6.381029   5.155097   6.395743   6.465460  ...  6.044905  5.319436   \n4   7.707944   7.561984   7.349153   7.368270  ...  7.858991  8.730489   \n\n      b0672     b0667     b0629     s0101      s1551     b0165     s0168  \\\n0  8.545787  8.211628  7.943478  8.401075   7.032361  8.033365  8.095337   \n1  9.424723  8.203117  8.735654  8.382529  10.283394  8.737878  8.460917   \n2  6.043033  4.880036  5.550701  5.004156   5.243062  5.139305  5.581081   \n3  5.519697  5.630613  5.623075  7.842210   5.707372  5.636907  5.885631   \n4  8.647647  8.261406  8.720696  8.825327   8.529515  8.280820  8.168640   \n\n      s1511  \n0  8.359068  \n1  9.120799  \n2  5.127601  \n3  5.886268  \n4  8.674222  \n\n[5 rows x 1198 columns]"
     },
     "execution_count": 3,
     "metadata": {},
     "output_type": "execute_result"
    }
   ],
   "source": [
    "f.series_matrix.head()"
   ]
  },
  {
   "cell_type": "code",
   "execution_count": 4,
   "metadata": {},
   "outputs": [],
   "source": [
    "cols = list(f.series_matrix.columns)\n",
    "cols[0] = \"GEO_ACC\"\n",
    "f.series_matrix.columns = cols"
   ]
  },
  {
   "cell_type": "code",
   "execution_count": 5,
   "metadata": {},
   "outputs": [
    {
     "data": {
      "text/html": "<div>\n<style scoped>\n    .dataframe tbody tr th:only-of-type {\n        vertical-align: middle;\n    }\n\n    .dataframe tbody tr th {\n        vertical-align: top;\n    }\n\n    .dataframe thead th {\n        text-align: right;\n    }\n</style>\n<table border=\"1\" class=\"dataframe\">\n  <thead>\n    <tr style=\"text-align: right;\">\n      <th></th>\n      <th>GEO_ACC</th>\n      <th>GSM107072</th>\n      <th>GSM107073</th>\n      <th>GSM107074</th>\n      <th>GSM107075</th>\n      <th>GSM107076</th>\n      <th>GSM107077</th>\n      <th>GSM107078</th>\n      <th>GSM107079</th>\n      <th>GSM107080</th>\n      <th>...</th>\n      <th>b0243</th>\n      <th>s0059</th>\n      <th>b0672</th>\n      <th>b0667</th>\n      <th>b0629</th>\n      <th>s0101</th>\n      <th>s1551</th>\n      <th>b0165</th>\n      <th>s0168</th>\n      <th>s1511</th>\n    </tr>\n  </thead>\n  <tbody>\n    <tr>\n      <th>0</th>\n      <td>218408_at</td>\n      <td>7.560190</td>\n      <td>8.216851</td>\n      <td>7.327913</td>\n      <td>7.526142</td>\n      <td>7.445010</td>\n      <td>7.211209</td>\n      <td>7.130519</td>\n      <td>7.152266</td>\n      <td>7.102678</td>\n      <td>...</td>\n      <td>7.847141</td>\n      <td>7.757594</td>\n      <td>8.545787</td>\n      <td>8.211628</td>\n      <td>7.943478</td>\n      <td>8.401075</td>\n      <td>7.032361</td>\n      <td>8.033365</td>\n      <td>8.095337</td>\n      <td>8.359068</td>\n    </tr>\n    <tr>\n      <th>1</th>\n      <td>218409_s_at</td>\n      <td>7.328363</td>\n      <td>7.960426</td>\n      <td>8.093310</td>\n      <td>8.066513</td>\n      <td>7.196754</td>\n      <td>7.670646</td>\n      <td>8.408002</td>\n      <td>6.584597</td>\n      <td>6.864336</td>\n      <td>...</td>\n      <td>7.862245</td>\n      <td>9.538100</td>\n      <td>9.424723</td>\n      <td>8.203117</td>\n      <td>8.735654</td>\n      <td>8.382529</td>\n      <td>10.283394</td>\n      <td>8.737878</td>\n      <td>8.460917</td>\n      <td>9.120799</td>\n    </tr>\n    <tr>\n      <th>2</th>\n      <td>218410_s_at</td>\n      <td>5.463634</td>\n      <td>5.599258</td>\n      <td>5.945356</td>\n      <td>4.644165</td>\n      <td>4.223127</td>\n      <td>4.785609</td>\n      <td>3.073255</td>\n      <td>5.015193</td>\n      <td>5.695580</td>\n      <td>...</td>\n      <td>5.543625</td>\n      <td>5.105964</td>\n      <td>6.043033</td>\n      <td>4.880036</td>\n      <td>5.550701</td>\n      <td>5.004156</td>\n      <td>5.243062</td>\n      <td>5.139305</td>\n      <td>5.581081</td>\n      <td>5.127601</td>\n    </tr>\n    <tr>\n      <th>3</th>\n      <td>218411_s_at</td>\n      <td>6.415767</td>\n      <td>5.721424</td>\n      <td>6.278524</td>\n      <td>6.276451</td>\n      <td>6.081324</td>\n      <td>6.381029</td>\n      <td>5.155097</td>\n      <td>6.395743</td>\n      <td>6.465460</td>\n      <td>...</td>\n      <td>6.044905</td>\n      <td>5.319436</td>\n      <td>5.519697</td>\n      <td>5.630613</td>\n      <td>5.623075</td>\n      <td>7.842210</td>\n      <td>5.707372</td>\n      <td>5.636907</td>\n      <td>5.885631</td>\n      <td>5.886268</td>\n    </tr>\n    <tr>\n      <th>4</th>\n      <td>218412_s_at</td>\n      <td>7.952580</td>\n      <td>7.586203</td>\n      <td>7.241598</td>\n      <td>7.581596</td>\n      <td>7.342801</td>\n      <td>7.707944</td>\n      <td>7.561984</td>\n      <td>7.349153</td>\n      <td>7.368270</td>\n      <td>...</td>\n      <td>7.858991</td>\n      <td>8.730489</td>\n      <td>8.647647</td>\n      <td>8.261406</td>\n      <td>8.720696</td>\n      <td>8.825327</td>\n      <td>8.529515</td>\n      <td>8.280820</td>\n      <td>8.168640</td>\n      <td>8.674222</td>\n    </tr>\n  </tbody>\n</table>\n<p>5 rows × 1198 columns</p>\n</div>",
      "text/plain": "       GEO_ACC  GSM107072  GSM107073  GSM107074  GSM107075  GSM107076  \\\n0    218408_at   7.560190   8.216851   7.327913   7.526142   7.445010   \n1  218409_s_at   7.328363   7.960426   8.093310   8.066513   7.196754   \n2  218410_s_at   5.463634   5.599258   5.945356   4.644165   4.223127   \n3  218411_s_at   6.415767   5.721424   6.278524   6.276451   6.081324   \n4  218412_s_at   7.952580   7.586203   7.241598   7.581596   7.342801   \n\n   GSM107077  GSM107078  GSM107079  GSM107080  ...     b0243     s0059  \\\n0   7.211209   7.130519   7.152266   7.102678  ...  7.847141  7.757594   \n1   7.670646   8.408002   6.584597   6.864336  ...  7.862245  9.538100   \n2   4.785609   3.073255   5.015193   5.695580  ...  5.543625  5.105964   \n3   6.381029   5.155097   6.395743   6.465460  ...  6.044905  5.319436   \n4   7.707944   7.561984   7.349153   7.368270  ...  7.858991  8.730489   \n\n      b0672     b0667     b0629     s0101      s1551     b0165     s0168  \\\n0  8.545787  8.211628  7.943478  8.401075   7.032361  8.033365  8.095337   \n1  9.424723  8.203117  8.735654  8.382529  10.283394  8.737878  8.460917   \n2  6.043033  4.880036  5.550701  5.004156   5.243062  5.139305  5.581081   \n3  5.519697  5.630613  5.623075  7.842210   5.707372  5.636907  5.885631   \n4  8.647647  8.261406  8.720696  8.825327   8.529515  8.280820  8.168640   \n\n      s1511  \n0  8.359068  \n1  9.120799  \n2  5.127601  \n3  5.886268  \n4  8.674222  \n\n[5 rows x 1198 columns]"
     },
     "execution_count": 5,
     "metadata": {},
     "output_type": "execute_result"
    }
   ],
   "source": [
    "f.series_matrix.head()"
   ]
  },
  {
   "cell_type": "code",
   "execution_count": 6,
   "metadata": {},
   "outputs": [
    {
     "data": {
      "text/html": "<div>\n<style scoped>\n    .dataframe tbody tr th:only-of-type {\n        vertical-align: middle;\n    }\n\n    .dataframe tbody tr th {\n        vertical-align: top;\n    }\n\n    .dataframe thead th {\n        text-align: right;\n    }\n</style>\n<table border=\"1\" class=\"dataframe\">\n  <thead>\n    <tr style=\"text-align: right;\">\n      <th>GEO_ACC</th>\n      <th>218408_at</th>\n      <th>218409_s_at</th>\n      <th>218410_s_at</th>\n      <th>218411_s_at</th>\n      <th>218412_s_at</th>\n      <th>218413_s_at</th>\n      <th>218414_s_at</th>\n      <th>218415_at</th>\n      <th>218416_s_at</th>\n      <th>218417_s_at</th>\n      <th>...</th>\n      <th>209384_at</th>\n      <th>209385_s_at</th>\n      <th>209386_at</th>\n      <th>209387_s_at</th>\n      <th>209388_at</th>\n      <th>209389_x_at</th>\n      <th>209390_at</th>\n      <th>209391_at</th>\n      <th>209392_at</th>\n      <th>209393_s_at</th>\n    </tr>\n  </thead>\n  <tbody>\n    <tr>\n      <th>GSM107072</th>\n      <td>7.560190</td>\n      <td>7.328363</td>\n      <td>5.463634</td>\n      <td>6.415767</td>\n      <td>7.952580</td>\n      <td>5.364931</td>\n      <td>7.326653</td>\n      <td>6.207707</td>\n      <td>5.388132</td>\n      <td>5.857392</td>\n      <td>...</td>\n      <td>9.133069</td>\n      <td>9.012352</td>\n      <td>9.466734</td>\n      <td>8.761550</td>\n      <td>6.491076</td>\n      <td>8.963549</td>\n      <td>7.042686</td>\n      <td>7.126041</td>\n      <td>7.337434</td>\n      <td>7.331653</td>\n    </tr>\n    <tr>\n      <th>GSM107073</th>\n      <td>8.216851</td>\n      <td>7.960426</td>\n      <td>5.599258</td>\n      <td>5.721424</td>\n      <td>7.586203</td>\n      <td>4.494428</td>\n      <td>7.535226</td>\n      <td>6.512595</td>\n      <td>5.888274</td>\n      <td>6.948820</td>\n      <td>...</td>\n      <td>7.668738</td>\n      <td>7.544618</td>\n      <td>7.396842</td>\n      <td>6.454705</td>\n      <td>6.118596</td>\n      <td>9.387824</td>\n      <td>6.671596</td>\n      <td>7.594375</td>\n      <td>6.397113</td>\n      <td>7.353231</td>\n    </tr>\n    <tr>\n      <th>GSM107074</th>\n      <td>7.327913</td>\n      <td>8.093310</td>\n      <td>5.945356</td>\n      <td>6.278524</td>\n      <td>7.241598</td>\n      <td>2.949031</td>\n      <td>7.616553</td>\n      <td>4.036523</td>\n      <td>5.844131</td>\n      <td>7.051792</td>\n      <td>...</td>\n      <td>7.973379</td>\n      <td>7.911776</td>\n      <td>8.256877</td>\n      <td>7.901130</td>\n      <td>6.780964</td>\n      <td>8.886918</td>\n      <td>6.927206</td>\n      <td>7.101041</td>\n      <td>6.839835</td>\n      <td>6.730038</td>\n    </tr>\n    <tr>\n      <th>GSM107075</th>\n      <td>7.526142</td>\n      <td>8.066513</td>\n      <td>4.644165</td>\n      <td>6.276451</td>\n      <td>7.581596</td>\n      <td>5.590600</td>\n      <td>7.764528</td>\n      <td>6.332092</td>\n      <td>5.202964</td>\n      <td>6.606449</td>\n      <td>...</td>\n      <td>8.181723</td>\n      <td>7.854266</td>\n      <td>9.594199</td>\n      <td>7.991984</td>\n      <td>6.902417</td>\n      <td>9.522730</td>\n      <td>7.403009</td>\n      <td>7.260703</td>\n      <td>8.365834</td>\n      <td>6.734814</td>\n    </tr>\n    <tr>\n      <th>GSM107076</th>\n      <td>7.445010</td>\n      <td>7.196754</td>\n      <td>4.223127</td>\n      <td>6.081324</td>\n      <td>7.342801</td>\n      <td>4.371747</td>\n      <td>7.438367</td>\n      <td>5.353096</td>\n      <td>5.551553</td>\n      <td>5.991942</td>\n      <td>...</td>\n      <td>7.844762</td>\n      <td>7.721768</td>\n      <td>8.123578</td>\n      <td>7.184592</td>\n      <td>6.271318</td>\n      <td>9.163866</td>\n      <td>7.000110</td>\n      <td>7.275068</td>\n      <td>7.896344</td>\n      <td>6.818569</td>\n    </tr>\n  </tbody>\n</table>\n<p>5 rows × 22215 columns</p>\n</div>",
      "text/plain": "GEO_ACC    218408_at  218409_s_at  218410_s_at  218411_s_at  218412_s_at  \\\nGSM107072   7.560190     7.328363     5.463634     6.415767     7.952580   \nGSM107073   8.216851     7.960426     5.599258     5.721424     7.586203   \nGSM107074   7.327913     8.093310     5.945356     6.278524     7.241598   \nGSM107075   7.526142     8.066513     4.644165     6.276451     7.581596   \nGSM107076   7.445010     7.196754     4.223127     6.081324     7.342801   \n\nGEO_ACC    218413_s_at  218414_s_at  218415_at  218416_s_at  218417_s_at  ...  \\\nGSM107072     5.364931     7.326653   6.207707     5.388132     5.857392  ...   \nGSM107073     4.494428     7.535226   6.512595     5.888274     6.948820  ...   \nGSM107074     2.949031     7.616553   4.036523     5.844131     7.051792  ...   \nGSM107075     5.590600     7.764528   6.332092     5.202964     6.606449  ...   \nGSM107076     4.371747     7.438367   5.353096     5.551553     5.991942  ...   \n\nGEO_ACC    209384_at  209385_s_at  209386_at  209387_s_at  209388_at  \\\nGSM107072   9.133069     9.012352   9.466734     8.761550   6.491076   \nGSM107073   7.668738     7.544618   7.396842     6.454705   6.118596   \nGSM107074   7.973379     7.911776   8.256877     7.901130   6.780964   \nGSM107075   8.181723     7.854266   9.594199     7.991984   6.902417   \nGSM107076   7.844762     7.721768   8.123578     7.184592   6.271318   \n\nGEO_ACC    209389_x_at  209390_at  209391_at  209392_at  209393_s_at  \nGSM107072     8.963549   7.042686   7.126041   7.337434     7.331653  \nGSM107073     9.387824   6.671596   7.594375   6.397113     7.353231  \nGSM107074     8.886918   6.927206   7.101041   6.839835     6.730038  \nGSM107075     9.522730   7.403009   7.260703   8.365834     6.734814  \nGSM107076     9.163866   7.000110   7.275068   7.896344     6.818569  \n\n[5 rows x 22215 columns]"
     },
     "execution_count": 6,
     "metadata": {},
     "output_type": "execute_result"
    }
   ],
   "source": [
    "f.series_matrix.set_index(\"GEO_ACC\").T.head()"
   ]
  },
  {
   "cell_type": "code",
   "execution_count": null,
   "metadata": {},
   "outputs": [],
   "source": []
  }
 ]
}