{
 "nbformat": 4,
 "nbformat_minor": 2,
 "metadata": {
  "language_info": {
   "name": "python",
   "codemirror_mode": {
    "name": "ipython",
    "version": 3
   },
   "version": "3.6.8-final"
  },
  "orig_nbformat": 2,
  "file_extension": ".py",
  "mimetype": "text/x-python",
  "name": "python",
  "npconvert_exporter": "python",
  "pygments_lexer": "ipython3",
  "version": 3,
  "kernelspec": {
   "name": "python36864bit5cbe49f610aa411e8c53eb13e742ec54",
   "display_name": "Python 3.6.8 64-bit"
  }
 },
 "cells": [
  {
   "cell_type": "code",
   "execution_count": 2,
   "metadata": {},
   "outputs": [],
   "source": [
    "import numpy as np\n",
    "import pandas as pd\n",
    "import math"
   ]
  },
  {
   "cell_type": "code",
   "execution_count": 4,
   "metadata": {},
   "outputs": [
    {
     "name": "stdout",
     "output_type": "stream",
     "text": "[0, 4] [1, 2, 3]\n"
    }
   ],
   "source": [
    "N = 5\n",
    "G = \"H...H\"\n",
    "H = []\n",
    "F = []\n",
    "for i in range(len(G)):\n",
    "    if G[i] == 'H' : \n",
    "        H.append(i)\n",
    "    if G[i] == '.' : \n",
    "        F.append(i)\n",
    "print(H,F)"
   ]
  },
  {
   "cell_type": "code",
   "execution_count": null,
   "metadata": {},
   "outputs": [],
   "source": [
    "for i in range(1,(N//len(H))+1):\n",
    "    if i==1:\n",
    "        replace\n",
    "    assign = \n",
    "        for h in H:\n",
    "            if h==0:\n"
   ]
  }
 ]
}