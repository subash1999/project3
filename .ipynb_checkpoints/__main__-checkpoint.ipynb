{
 "cells": [
  {
   "cell_type": "code",
   "execution_count": 1,
   "metadata": {},
   "outputs": [],
   "source": [
    "from multiprocessing import Process\n",
    "import os\n",
    "import time\n",
    "import pandas as pd\n",
    "import numpy as np\n",
    "from sklearn.metrics import roc_auc_score, accuracy_score, precision_score, recall_score, f1_score\n",
    "from sklearn.linear_model import LogisticRegression\n",
    "from sklearn.tree import DecisionTreeClassifier\n",
    "from sklearn.svm import SVC\n",
    "from sklearn.ensemble import RandomForestClassifier\n",
    "from sklearn.discriminant_analysis import LinearDiscriminantAnalysis, QuadraticDiscriminantAnalysis\n",
    "from sklearn.cluster import KMeans\n",
    "from sklearn.neighbors import KNeighborsClassifier\n",
    "from sklearn.naive_bayes import GaussianNB\n",
    "from sklearn.metrics import precision_recall_fscore_support\n",
    "from sklearn.metrics import mean_squared_error as mse\n",
    "from sklearn.preprocessing import StandardScaler\n",
    "from sklearn.model_selection import cross_validate\n",
    "from sklearn.model_selection import train_test_split\n",
    "from sklearn.ensemble import ExtraTreesClassifier\n",
    "from sklearn.feature_selection import SelectFromModel\n",
    "from sklearn.svm import LinearSVC\n",
    "from sklearn.ensemble import VotingClassifier\n",
    "from sklearn.feature_selection import RFECV,RFE"
   ]
  },
  {
   "cell_type": "code",
   "execution_count": 2,
   "metadata": {},
   "outputs": [
    {
     "name": "stdout",
     "output_type": "stream",
     "text": [
      "F:\\project3\n"
     ]
    }
   ],
   "source": [
    "print(os.getcwd())\n",
    "from feature_selection import feature_selection"
   ]
  },
  {
   "cell_type": "code",
   "execution_count": 3,
   "metadata": {},
   "outputs": [],
   "source": [
    "# feature_selection.required_features = 10000"
   ]
  },
  {
   "cell_type": "code",
   "execution_count": 4,
   "metadata": {},
   "outputs": [],
   "source": [
    "X = feature_selection.X\n",
    "y = feature_selection.y"
   ]
  },
  {
   "cell_type": "code",
   "execution_count": null,
   "metadata": {},
   "outputs": [
    {
     "name": "stdout",
     "output_type": "stream",
     "text": [
      "***** CORRELATION *****\n"
     ]
    }
   ],
   "source": [
    "correlation = feature_selection.correlation(500)"
   ]
  },
  {
   "cell_type": "code",
   "execution_count": 5,
   "metadata": {},
   "outputs": [
    {
     "name": "stdout",
     "output_type": "stream",
     "text": [
      "***** SELECT K BEST f_classif*****\n",
      "[12.061 10.33   3.082 ...  7.795  3.542  8.02 ]\n",
      "summarize selected features f_classif\n",
      "[[0.339 0.299 0.295 ... 0.23  0.262 0.399]\n",
      " [0.314 0.42  0.279 ... 0.291 0.352 0.298]\n",
      " [0.246 0.394 0.111 ... 0.312 0.278 0.374]\n",
      " [0.311 0.431 0.286 ... 0.301 0.376 0.449]\n",
      " [0.316 0.41  0.213 ... 0.263 0.314 0.373]]\n",
      "Time Required :  1.0948007106781006\n",
      "Shape ::  (1197, 1000)\n"
     ]
    }
   ],
   "source": [
    "t = time.time()\n",
    "fclassif = feature_selection.f_classif_select_k_best()\n",
    "print(\"Time Required : \",time.time()-t)\n",
    "print(\"Shape :: \",fclassif[0].shape)"
   ]
  },
  {
   "cell_type": "code",
   "execution_count": 6,
   "metadata": {},
   "outputs": [
    {
     "name": "stdout",
     "output_type": "stream",
     "text": [
      "***** SELECT K BEST chi2*****\n",
      "[0.961 0.611 0.139 ... 0.327 0.299 0.503]\n",
      "summarize selected features chi2\n",
      "[[0.119 0.119 0.151 ... 0.23  0.399 0.187]\n",
      " [0.106 0.111 0.092 ... 0.291 0.298 0.177]\n",
      " [0.032 0.    0.075 ... 0.312 0.374 0.128]\n",
      " [0.109 0.14  0.134 ... 0.301 0.449 0.093]\n",
      " [0.133 0.147 0.092 ... 0.263 0.373 0.271]]\n",
      "Time Required :  0.6119771003723145\n",
      "Shape ::  (1197, 1000)\n"
     ]
    }
   ],
   "source": [
    "t = time.time()\n",
    "chi2 = feature_selection.chi2_select_k_best()\n",
    "print(\"Time Required : \",time.time()-t)\n",
    "print(\"Shape :: \",chi2[0].shape)"
   ]
  },
  {
   "cell_type": "code",
   "execution_count": 7,
   "metadata": {},
   "outputs": [],
   "source": [
    "result_scores = ['fit_time','score_time','test_accuracy','test_precision_macro','test_recall_macro']\n",
    "result_scores+= ['test_f1_weighted','test_roc_auc']"
   ]
  },
  {
   "cell_type": "code",
   "execution_count": 10,
   "metadata": {},
   "outputs": [],
   "source": [
    "# feature_selection.correlation()"
   ]
  },
  {
   "cell_type": "code",
   "execution_count": 14,
   "metadata": {},
   "outputs": [
    {
     "name": "stdout",
     "output_type": "stream",
     "text": [
      "X_SVC shape :  (1197, 9147)\n",
      "fit_time ::  4.41527259349823\n",
      "score_time ::  0.010094022750854493\n",
      "test_accuracy ::  0.8223365286653699\n",
      "test_precision_macro ::  0.8469342090397893\n",
      "test_recall_macro ::  0.7963615332036384\n",
      "test_f1_weighted ::  0.8116963778385807\n",
      "test_roc_auc ::  0.8725014021066653\n"
     ]
    }
   ],
   "source": [
    "lsvc = LinearSVC(C=0.05, penalty=\"l2\", dual=False).fit(X, y)\n",
    "model = SelectFromModel(lsvc, prefit=True)\n",
    "X_svc = model.transform(X)\n",
    "print(\"X_SVC shape : \",X_svc.shape) \n",
    "X_train, X_test, y_train, y_test = train_test_split(X_svc,y,test_size=0.34)\n",
    "LR = LogisticRegression()\n",
    "\n",
    "scoring = ['accuracy', 'precision_macro', 'recall_macro' , 'f1_weighted', 'roc_auc']\n",
    "scores_l2_svc = cross_validate(LR, X_svc, y, scoring=scoring, cv=20)\n",
    "for x in result_scores:\n",
    "    print(x,\":: \",scores_l2_svc[x].mean() )"
   ]
  },
  {
   "cell_type": "code",
   "execution_count": 8,
   "metadata": {},
   "outputs": [
    {
     "name": "stderr",
     "output_type": "stream",
     "text": [
      "\n",
      "KeyboardInterrupt\n",
      "\n"
     ]
    }
   ],
   "source": [
    "# t= time.time()\n",
    "# lsvc = LinearSVC(C=0.05, penalty=\"l1\", dual=False)\n",
    "# model = RFECV(estimator=lsvc, step=1, cv=20).fit(X,y)\n",
    "# X_rfecv = model.transform(X)\n",
    "# print(\"Time Required :: \",time.time()-t)\n",
    "# X_rfecv.to_csv(\"x_rfecv.csv\")\n",
    "# X_rfecv.shape"
   ]
  },
  {
   "cell_type": "code",
   "execution_count": 9,
   "metadata": {},
   "outputs": [],
   "source": [
    "feature_n = 500"
   ]
  },
  {
   "cell_type": "code",
   "execution_count": 13,
   "metadata": {},
   "outputs": [],
   "source": [
    "model = LogisticRegression()\n",
    "rfe = RFE(model, feature_n)\n",
    "fit = rfe.fit(X, y)"
   ]
  },
  {
   "cell_type": "code",
   "execution_count": null,
   "metadata": {},
   "outputs": [],
   "source": [
    "from keras.models import Sequential\n",
    "from keras.layers import Dense"
   ]
  },
  {
   "cell_type": "code",
   "execution_count": null,
   "metadata": {},
   "outputs": [],
   "source": [
    "# fix random seed for reproducibility\n",
    "seed = 7\n",
    "np.random.seed(seed)\n",
    "# load pima indians dataset\n",
    "# split into input (X) and output (Y) variables\n",
    "X = X.as_matrix()\n",
    "y = y.as_matrix()\n",
    "# create model\n",
    "model = Sequential()\n",
    "model.add(Dense(50, input_dim=feature_n, init='uniform', activation='relu'))\n",
    "model.add(Dense(25, init='uniform', activation='relu'))\n",
    "model.add(Dense(1, init='uniform', activation='sigmoid'))\n",
    "# Compile model\n",
    "model.compile(loss='binary_crossentropy', optimizer='adam', metrics=['accuracy'])\n",
    "# Fit the model\n",
    "model.fit(X, Y, nb_epoch=500, batch_size=5)\n",
    "# evaluate the model\n",
    "scores = model.evaluate(X, Y)\n",
    "print(\"%s: %.2f%%\" % (model.metrics_names[1], scores[1]*100))"
   ]
  }
 ],
 "metadata": {
  "file_extension": ".py",
  "kernelspec": {
   "display_name": "Python 3.6.8 64-bit",
   "language": "python",
   "name": "python36864bit5cbe49f610aa411e8c53eb13e742ec54"
  },
  "language_info": {
   "codemirror_mode": {
    "name": "ipython",
    "version": 3
   },
   "file_extension": ".py",
   "mimetype": "text/x-python",
   "name": "python",
   "nbconvert_exporter": "python",
   "pygments_lexer": "ipython3",
   "version": "3.6.8"
  },
  "mimetype": "text/x-python",
  "name": "python",
  "npconvert_exporter": "python",
  "pygments_lexer": "ipython3",
  "version": 3
 },
 "nbformat": 4,
 "nbformat_minor": 2
}
