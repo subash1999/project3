{
 "cells": [
  {
   "cell_type": "code",
   "execution_count": null,
   "metadata": {},
   "outputs": [],
   "source": [
    "import os,sys\n",
    "import time"
   ]
  },
  {
   "cell_type": "code",
   "execution_count": null,
   "metadata": {},
   "outputs": [],
   "source": [
    "from sklearn.feature_selection import SelectFromModel\n",
    "from sklearn.svm import LinearSVC\n",
    "from sklearn.ensemble import RandomForestClassifier, AdaBoostClassifier\n",
    "from sklearn.neural_network import MLPClassifier\n",
    "from sklearn.neighbors import KNeighborsClassifier\n",
    "from sklearn.svm import SVC\n",
    "from sklearn.naive_bayes import GaussianNB\n",
    "from sklearn.discriminant_analysis import QuadraticDiscriminantAnalysis\n",
    "\n",
    "from sklearn.model_selection import GridSearchCV\n",
    "from sklearn.svm import SVC\n",
    "from sklearn.datasets import load_iris\n",
    "from sklearn.decomposition import PCA,DictionaryLearning\n",
    "from sklearn.feature_selection import SelectKBest\n",
    "from sklearn.pipeline import Pipeline"
   ]
  },
  {
   "cell_type": "code",
   "execution_count": null,
   "metadata": {},
   "outputs": [],
   "source": [
    "\n",
    "from preprocessing.Normalize import Normalize\n",
    "import helper.SeriesHelper as series_helper\n"
   ]
  },
  {
   "cell_type": "code",
   "execution_count": null,
   "metadata": {},
   "outputs": [],
   "source": [
    "normal_matrix = Normalize().get_normalized_data()\n",
    "X = normal_matrix.to_numpy()\n",
    "y = series_helper.get_relapse_value_from_series_matrix(normal_matrix)"
   ]
  },
  {
   "cell_type": "code",
   "execution_count": null,
   "metadata": {},
   "outputs": [],
   "source": [
    "from sklearn.model_selection import train_test_split\n",
    "X_train,X_test,y_train,y_test = train_test_split(X,y,test_size=0.33)"
   ]
  },
  {
   "cell_type": "code",
   "execution_count": null,
   "metadata": {},
   "outputs": [],
   "source": [
    "# This dataset is way too high-dimensional. Better do PCA:\n",
    "pca = DictionaryLearning()\n",
    "X_train_pca = pca.fit_transform(X_train)\n"
   ]
  },
  {
   "cell_type": "code",
   "execution_count": null,
   "metadata": {},
   "outputs": [],
   "source": [
    "val = 0.00075\n",
    "keep = []\n",
    "s =0\n",
    "for i in range(0,len(pca.explained_variance_ratio_),1):\n",
    "    if pca.explained_variance_ratio_[i]>val:\n",
    "        keep.append(i)\n",
    "        s+=pca.explained_variance_ratio_[i]\n",
    "# sorted(pca.explained_variance_ratio_)\n",
    "print(s)\n",
    "len(keep)"
   ]
  },
  {
   "cell_type": "code",
   "execution_count": null,
   "metadata": {},
   "outputs": [],
   "source": [
    "clf = Pipeline([\n",
    "  ('feature_selection', SelectFromModel(LinearSVC(penalty=\"l1\",dual=False))),\n",
    "  ('classification', KNeighborsClassifier())\n",
    "])\n",
    "clf.fit(X_train_pca[:,0:70], y_train)"
   ]
  },
  {
   "cell_type": "code",
   "execution_count": null,
   "metadata": {},
   "outputs": [],
   "source": [
    "clf.score(X_train_pca[:,0:70],y_train)"
   ]
  },
  {
   "cell_type": "code",
   "execution_count": null,
   "metadata": {},
   "outputs": [],
   "source": [
    "clf.score(X_test_pca[:,0:70],y_test)"
   ]
  },
  {
   "cell_type": "code",
   "execution_count": 1,
   "metadata": {},
   "outputs": [],
   "source": []
  },
  {
   "cell_type": "code",
   "execution_count": 2,
   "metadata": {},
   "outputs": [],
   "source": []
  },
  {
   "cell_type": "code",
   "execution_count": 3,
   "metadata": {},
   "outputs": [],
   "source": []
  },
  {
   "cell_type": "code",
   "execution_count": null,
   "metadata": {},
   "outputs": [
    {
     "name": "stdout",
     "output_type": "stream",
     "text": [
      "args finished\n"
     ]
    }
   ],
   "source": [
    "from preprocessing.Normalize import Normalize\n",
    "import helper.SeriesHelper as series_helper\n",
    "from multiprocessing import Pool,Manager\n",
    "def job(args):\n",
    "    X = args[0]\n",
    "    remove_list = args[1]\n",
    "    val_list = args[2]\n",
    "    process_no = args[3]\n",
    "    for i in range(len(X[0])) : \n",
    "        for j in range(0,i):\n",
    "            val = abs(np.corrcoef(X[:,i],X[:,j])[1][0])\n",
    "            if val>0.8:\n",
    "                remove_list.append(j)\n",
    "                val_list.append([i,j,val])\n",
    "        print(\"For \",i)\n",
    "    print(\"Finished Process no , \",process_no)\n",
    "\n",
    "if __name__==\"__main__\":\n",
    "    normal_matrix = Normalize().get_normalized_data()\n",
    "    cols = normal_matrix.columns\n",
    "    index = normal_matrix.index\n",
    "    X = normal_matrix.to_numpy()\n",
    "    y = series_helper.get_relapse_value_from_series_matrix(normal_matrix)\n",
    "    manager = Manager()\n",
    "    remove_list = Manager().list()\n",
    "    val_list = Manager().list()\n",
    "    args = []\n",
    "    process_no = 1\n",
    "    for i in range(0,X.shape[1],500):\n",
    "        args.append([X[:,i:i+500],remove_list,val_list,process_no])\n",
    "        process_no+=1\n",
    "    print(\"args finished\")\n",
    "    p = Pool()\n",
    "    p.map(job,args)"
   ]
  },
  {
   "cell_type": "code",
   "execution_count": null,
   "metadata": {},
   "outputs": [],
   "source": []
  }
 ],
 "metadata": {
  "file_extension": ".py",
  "kernelspec": {
   "display_name": "Python 3.6.8 64-bit",
   "language": "python",
   "name": "python36864bit5cbe49f610aa411e8c53eb13e742ec54"
  },
  "language_info": {
   "codemirror_mode": {
    "name": "ipython",
    "version": 3
   },
   "file_extension": ".py",
   "mimetype": "text/x-python",
   "name": "python",
   "nbconvert_exporter": "python",
   "pygments_lexer": "ipython3",
   "version": "3.6.8"
  },
  "mimetype": "text/x-python",
  "name": "python",
  "npconvert_exporter": "python",
  "pygments_lexer": "ipython3",
  "version": 3
 },
 "nbformat": 4,
 "nbformat_minor": 2
}
