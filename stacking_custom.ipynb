{
 "cells": [
  {
   "cell_type": "code",
   "execution_count": null,
   "metadata": {},
   "outputs": [],
   "source": []
  },
  {
   "cell_type": "code",
   "execution_count": 4,
   "metadata": {},
   "outputs": [],
   "source": [
    "def get_train_values():\n",
    "    pred = []\n",
    "    \n",
    "    pred.append(knn_f1()[0])\n",
    "    pred.append(knn_roc_auc()[0])\n",
    "    pred.append(knn_precision()[0])\n",
    "    pred.append(knn_recall()[0])\n",
    "    pred.append(knn_accuracy()[0])\n",
    "    \n",
    "    pred.append(mlp_f1()[0])\n",
    "    pred.append(mlp_roc_auc()[0])\n",
    "    pred.append(mlp_precision()[0])\n",
    "    pred.append(mlp_recall()[0])\n",
    "    pred.append(mlp_accuracy()[0])\n",
    "    \n",
    "    pred.append(lda_f1()[0])\n",
    "    pred.append(lda_roc_auc()[0])\n",
    "    pred.append(lda_precision()[0])\n",
    "    pred.append(lda_recall()[0])\n",
    "    pred.append(lda_accuracy()[0])\n",
    "    \n",
    "    pred.append(qda_f1()[0])\n",
    "    pred.append(qda_roc_auc()[0])\n",
    "    pred.append(qda_precision()[0])\n",
    "    pred.append(qda_recall()[0])\n",
    "    pred.append(qda_accuracy()[0])\n",
    "    \n",
    "    pred.append(svc_f1()[0])\n",
    "    pred.append(svc_roc_auc()[0])\n",
    "    pred.append(svc_precision()[0])\n",
    "    pred.append(svc_recall()[0])\n",
    "    pred.append(svc_accuracy()[0])\n",
    "    \n",
    "    pred.append(lgbm()[0])\n",
    "    pred.append(xgb()[0])\n",
    "    \n",
    "    return pred"
   ]
  },
  {
   "cell_type": "code",
   "execution_count": 5,
   "metadata": {},
   "outputs": [],
   "source": [
    "def get_test_values():\n",
    "    pred = []\n",
    "    \n",
    "    pred.append(knn_f1()[1])\n",
    "    pred.append(knn_roc_auc()[1])\n",
    "    pred.append(knn_precision()[1])\n",
    "    pred.append(knn_recall()[1])\n",
    "    pred.append(knn_accuracy()[1])\n",
    "    \n",
    "    pred.append(mlp_f1()[1])\n",
    "    pred.append(mlp_roc_auc()[1])\n",
    "    pred.append(mlp_precision()[1])\n",
    "    pred.append(mlp_recall()[1])\n",
    "    pred.append(mlp_accuracy()[1])\n",
    "    \n",
    "    pred.append(lda_f1()[1])\n",
    "    pred.append(lda_roc_auc()[1])\n",
    "    pred.append(lda_precision()[1])\n",
    "    pred.append(lda_recall()[1])\n",
    "    pred.append(lda_accuracy()[1])\n",
    "    \n",
    "    pred.append(qda_f1()[1])\n",
    "    pred.append(qda_roc_auc()[1])\n",
    "    pred.append(qda_precision()[1])\n",
    "    pred.append(qda_recall()[1])\n",
    "    pred.append(qda_accuracy()[1])\n",
    "    \n",
    "    pred.append(svc_f1()[1])\n",
    "    pred.append(svc_roc_auc()[1])\n",
    "    pred.append(svc_precision()[1])\n",
    "    pred.append(svc_recall()[1])\n",
    "    pred.append(svc_accuracy()[1])\n",
    "    \n",
    "    pred.append(lgbm()[1])\n",
    "    pred.append(xgb()[1]) # best at SelectKBest(score_func=chi2,k=859) and SelectFromModel(LinearDiscriminantAnalysis()) two times\n",
    "    \n",
    "    return pred"
   ]
  },
  {
   "cell_type": "code",
   "execution_count": 6,
   "metadata": {},
   "outputs": [
    {
     "ename": "NameError",
     "evalue": "name 'np' is not defined",
     "output_type": "error",
     "traceback": [
      "\u001b[0;31m---------------------------------------------------------------------------\u001b[0m",
      "\u001b[0;31mNameError\u001b[0m                                 Traceback (most recent call last)",
      "\u001b[0;32m<ipython-input-6-ff456615a455>\u001b[0m in \u001b[0;36m<module>\u001b[0;34m\u001b[0m\n\u001b[0;32m----> 1\u001b[0;31m \u001b[0mX_train\u001b[0m \u001b[0;34m=\u001b[0m \u001b[0mnp\u001b[0m\u001b[0;34m.\u001b[0m\u001b[0marray\u001b[0m\u001b[0;34m(\u001b[0m\u001b[0mget_train_values\u001b[0m\u001b[0;34m(\u001b[0m\u001b[0;34m)\u001b[0m\u001b[0;34m)\u001b[0m\u001b[0;34m\u001b[0m\u001b[0;34m\u001b[0m\u001b[0m\n\u001b[0m\u001b[1;32m      2\u001b[0m \u001b[0mX_test\u001b[0m \u001b[0;34m=\u001b[0m \u001b[0mnp\u001b[0m\u001b[0;34m.\u001b[0m\u001b[0marray\u001b[0m\u001b[0;34m(\u001b[0m\u001b[0mget_test_values\u001b[0m\u001b[0;34m(\u001b[0m\u001b[0;34m)\u001b[0m\u001b[0;34m)\u001b[0m\u001b[0;34m\u001b[0m\u001b[0;34m\u001b[0m\u001b[0m\n",
      "\u001b[0;31mNameError\u001b[0m: name 'np' is not defined"
     ]
    }
   ],
   "source": [
    "X_train = np.array(get_train_values())\n",
    "X_test = np.array(get_test_values())"
   ]
  },
  {
   "cell_type": "code",
   "execution_count": null,
   "metadata": {},
   "outputs": [],
   "source": [
    "model = XGBClassifier().fit(X_train,y_train)\n",
    "pred = model.predict(X_test)\n",
    "\n",
    "print(classification_report(y_test,pred))\n",
    "\n",
    "print('accuracy : ',accuracy_score(y_test,pred))\n",
    "print('precision : ',average_precision_score(y_test,pred))\n",
    "print('f1_score : ',f1_score(y_test,pred))\n",
    "print('recall_score : ',recall_score(y_test,pred))\n",
    "print('roc_auc : ',roc_auc_score(y_test,pred))"
   ]
  }
 ],
 "metadata": {
  "kernelspec": {
   "display_name": "Python 3",
   "language": "python",
   "name": "python3"
  },
  "language_info": {
   "codemirror_mode": {
    "name": "ipython",
    "version": 3
   },
   "file_extension": ".py",
   "mimetype": "text/x-python",
   "name": "python",
   "nbconvert_exporter": "python",
   "pygments_lexer": "ipython3",
   "version": "3.6.9"
  }
 },
 "nbformat": 4,
 "nbformat_minor": 4
}
