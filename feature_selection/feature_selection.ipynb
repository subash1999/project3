{
 "nbformat": 4,
 "nbformat_minor": 2,
 "metadata": {
  "language_info": {
   "name": "python",
   "codemirror_mode": {
    "name": "ipython",
    "version": 3
   },
   "version": "3.6.8-final"
  },
  "orig_nbformat": 2,
  "file_extension": ".py",
  "mimetype": "text/x-python",
  "name": "python",
  "npconvert_exporter": "python",
  "pygments_lexer": "ipython3",
  "version": 3,
  "kernelspec": {
   "name": "python36864bit5cbe49f610aa411e8c53eb13e742ec54",
   "display_name": "Python 3.6.8 64-bit"
  }
 },
 "cells": [
  {
   "cell_type": "code",
   "execution_count": 17,
   "metadata": {},
   "outputs": [],
   "source": [
    "# pipeline recommended for the feature selection e.g.\n",
    "# clf = Pipeline([\n",
    "#   ('feature_selection', SelectFromModel(LinearSVC(penalty=\"l1\"))),\n",
    "#   ('classification', RandomForestClassifier())\n",
    "# ])\n",
    "# clf.fit(X, y)"
   ]
  },
  {
   "cell_type": "code",
   "execution_count": 1,
   "metadata": {},
   "outputs": [],
   "source": [
    "# Change working directory\n",
    "import os,sys\n",
    "sys.path.append(os.path.abspath(\"../\"))\n",
    "sys.path.append(os.path.abspath(\"\"))\n",
    "os.chdir(\"../\")"
   ]
  },
  {
   "cell_type": "code",
   "execution_count": 2,
   "metadata": {},
   "outputs": [],
   "source": [
    "# ignore warnings\n",
    "import warnings\n",
    "warnings.simplefilter(\"ignore\")"
   ]
  },
  {
   "cell_type": "code",
   "execution_count": 3,
   "metadata": {},
   "outputs": [],
   "source": [
    "#importing libraries\n",
    "from sklearn.datasets import load_boston\n",
    "import pandas as pd\n",
    "import numpy as np\n",
    "import matplotlib\n",
    "import matplotlib.pyplot as plt\n",
    "import seaborn as sns\n",
    "import statsmodels.api as sm\n",
    "%matplotlib inline\n",
    "from sklearn.model_selection import train_test_split\n",
    "from sklearn.linear_model import LinearRegression\n",
    "from sklearn.feature_selection import RFE\n",
    "from sklearn.linear_model import RidgeCV, LassoCV, Ridge, Lasso\n",
    "from sklearn.feature_selection import SelectKBest\n",
    "from sklearn.feature_selection import chi2\n",
    "from numpy import set_printoptions\n",
    "from sklearn.feature_selection import SelectKBest\n",
    "from sklearn.feature_selection import f_classif\n",
    "from sklearn.feature_selection import chi2\n",
    "from sklearn.linear_model import Ridge\n",
    "from sklearn.feature_selection import RFE\n",
    "from sklearn.linear_model import LogisticRegression\n",
    "import tensorflow as tensorflow\n",
    "from sklearn.ensemble import ExtraTreesClassifier\n",
    "from sklearn.feature_selection import SelectFromModel\n",
    "from sklearn.feature_selection import VarianceThreshold"
   ]
  },
  {
   "cell_type": "code",
   "execution_count": 4,
   "metadata": {},
   "outputs": [],
   "source": [
    "# get the custom models\n",
    "from preprocessing.Normalize import Normalize\n",
    "import helper.SeriesHelper as series_helper"
   ]
  },
  {
   "cell_type": "code",
   "execution_count": 5,
   "metadata": {},
   "outputs": [],
   "source": [
    "n = Normalize()\n",
    "normal_matrix = n.get_normalized_data()"
   ]
  },
  {
   "cell_type": "code",
   "execution_count": null,
   "metadata": {},
   "outputs": [],
   "source": [
    "required_features = 1000"
   ]
  },
  {
   "cell_type": "code",
   "execution_count": 6,
   "metadata": {},
   "outputs": [],
   "source": [
    "X = normal_matrix.to_numpy()\n",
    "y = series_helper.get_relapse_value_from_series_matrix(normal_matrix)"
   ]
  },
  {
   "cell_type": "markdown",
   "execution_count": 10,
   "metadata": {},
   "outputs": [],
   "source": [
    "# Filter Method"
   ]
  },
  {
   "cell_type": "code",
   "execution_count": 7,
   "metadata": {},
   "outputs": [],
   "source": [
    "# finding correlation using the pandas dataframe function\n",
    "def correlation(col_no):\n",
    "    print(\"***** CORRELATION *****\")\n",
    "    corr = normal_matrix.corr()\n",
    "        #Correlation with output variable\n",
    "    cor_target = abs(cor[list(normal_matrix.columns)[col_no]])\n",
    "    #Selecting highly correlated features\n",
    "    relevant_features = cor_target[cor_target>0.5]\n",
    "    print(\"Relevent Features : \\n\",relevant_features)\n",
    "    return (corr,relevant_features)"
   ]
  },
  {
   "cell_type": "markdown",
   "execution_count": null,
   "metadata": {},
   "outputs": [],
   "source": [
    "# Wrapper Methods"
   ]
  },
  {
   "cell_type": "code",
   "execution_count": 8,
   "metadata": {},
   "outputs": [],
   "source": [
    "#Backward Elimination\n",
    "def backward_elimination():    \n",
    "    print(\"***** BACKWARD ELIMINATOIN *****\")\n",
    "    cols = list(normal_matrix.columns)\n",
    "    pmax = 1\n",
    "    count = 0\n",
    "    while (len(cols)>0):\n",
    "        p= []\n",
    "        X_1 = normal_matrix[cols]\n",
    "        X_1 = sm.add_constant(X_1)\n",
    "        model = sm.Poisson(y,X_1).fit()\n",
    "        p = pd.Series(model.pvalues.values[1:],index = cols)      \n",
    "        pmax = max(p)\n",
    "        feature_with_p_max = p.idxmax()\n",
    "        if(pmax>0.05):\n",
    "            cols.remove(feature_with_p_max)\n",
    "        else:\n",
    "            break\n",
    "        print(\"Count : \",count)\n",
    "    selected_features_BE = cols\n",
    "    print(\"Selected features BE : \\n\",selected_features_BE)\n",
    "    return (selected_features_BE)"
   ]
  },
  {
   "cell_type": "markdown",
   "execution_count": 9,
   "metadata": {},
   "outputs": [],
   "source": [
    "# Embedded Method"
   ]
  },
  {
   "cell_type": "code",
   "execution_count": 9,
   "metadata": {},
   "outputs": [],
   "source": [
    "# embedded method using lassoCV\n",
    "def lassoCV():\n",
    "    reg = LassoCV()\n",
    "    reg.fit(X, y)\n",
    "    print(\"***** LASSO CV *****\")\n",
    "    print(\"Best alpha using built-in LassoCV: %f\" % reg.alpha_)\n",
    "    print(\"Best score using built-in LassoCV: %f\" %reg.score(X,y))\n",
    "    coef = pd.Series(reg.coef_, index = X.columns)\n",
    "    print(\"Lasso picked \" + str(sum(coef != 0)) + \" variables and eliminated the other \" +  str(sum(coef == 0)) + \" variables\")\n",
    "    return (reg)"
   ]
  },
  {
   "cell_type": "markdown",
   "execution_count": null,
   "metadata": {},
   "outputs": [],
   "source": [
    "# Select K Best"
   ]
  },
  {
   "cell_type": "code",
   "execution_count": 10,
   "metadata": {},
   "outputs": [],
   "source": [
    "def f_classif_select_k_best():\n",
    "    # feature extraction\n",
    "    test = SelectKBest(score_func=f_classif, k=required_features)\n",
    "    fit = test.fit(X, y)\n",
    "    # summarize scores\n",
    "    set_printoptions(precision=3)\n",
    "    print(\"***** SELECT K BEST f_classif*****\")\n",
    "    print(fit.scores_)\n",
    "    features = fit.transform(X)\n",
    "    # summarize selected features\n",
    "    print(\"summarize selected features f_classif\")\n",
    "    print(features[0:5,:])\n",
    "    return (features,fit.scores_)"
   ]
  },
  {
   "cell_type": "code",
   "execution_count": 11,
   "metadata": {},
   "outputs": [],
   "source": [
    "def chi2_select_k_best():\n",
    "    # feature extraction\n",
    "    test = SelectKBest(score_func=chi2, k=required_features)\n",
    "    fit = test.fit(X, y)\n",
    "    # summarize scores\n",
    "    set_printoptions(precision=3)\n",
    "    print(\"***** SELECT K BEST chi2*****\")\n",
    "    print(fit.scores_)\n",
    "    features = fit.transform(X)\n",
    "    # summarize selected features\n",
    "    print(\"summarize selected features chi2\")\n",
    "    print(features[0:5,:])\n",
    "    return (features,fit.scores_)"
   ]
  },
  {
   "cell_type": "markdown",
   "execution_count": null,
   "metadata": {},
   "outputs": [],
   "source": [
    "# RFE"
   ]
  },
  {
   "cell_type": "code",
   "execution_count": 12,
   "metadata": {},
   "outputs": [],
   "source": [
    "def rfe():\n",
    "    # Feature extraction\n",
    "    model = LogisticRegression()\n",
    "    rfe = RFE(model, required_features)\n",
    "    fit = rfe.fit(X, y)\n",
    "    print(\"***** RFE *****\")\n",
    "    print(\"Num Features: %s\" % (fit.n_features_))\n",
    "    print(\"Selected Features: %s\" % (fit.support_))\n",
    "    print(\"Feature Ranking: %s\" % (fit.ranking_))\n",
    "    return (fit,fit.ranking_)"
   ]
  },
  {
   "cell_type": "markdown",
   "execution_count": null,
   "metadata": {},
   "outputs": [],
   "source": [
    "# Ridge"
   ]
  },
  {
   "cell_type": "code",
   "execution_count": 13,
   "metadata": {},
   "outputs": [],
   "source": [
    "# A helper method for pretty-printing the coefficients\n",
    "def pretty_print_coefs(coefs, names = None, sort = False):\n",
    "    if names == None:\n",
    "        names = [\"X%s\" % x for x in range(len(coefs))]\n",
    "    lst = zip(coefs, names)\n",
    "    if sort:\n",
    "        lst = sorted(lst,  key = lambda x:-np.abs(x[0]))\n",
    "    return \" + \".join(\"%s * %s\" % (round(coef, 3), name)\n",
    "                                   for coef, name in lst)"
   ]
  },
  {
   "cell_type": "code",
   "execution_count": 14,
   "metadata": {},
   "outputs": [],
   "source": [
    "def ridge():\n",
    "    ridge = Ridge(alpha=1.0)\n",
    "    ridge.fit(X,Y)\n",
    "    print (\"Ridge model:\", pretty_print_coefs(ridge.coef_))\n",
    "    return (ridge,ridge.coef_)"
   ]
  },
  {
   "cell_type": "markdown",
   "execution_count": null,
   "metadata": {},
   "outputs": [],
   "source": [
    "# PCA"
   ]
  },
  {
   "cell_type": "code",
   "execution_count": 15,
   "metadata": {},
   "outputs": [],
   "source": [
    "def pca():\n",
    "    # feature extraction\n",
    "    pca = PCA(n_components=required_features)\n",
    "    fit = pca.fit(X)\n",
    "    # summarize components\n",
    "    print(\"Explained Variance: %s\" % fit.explained_variance_ratio_)\n",
    "    print(fit.components_)\n",
    "    return (fit,fit.components_)"
   ]
  },
  {
   "cell_type": "markdown",
   "execution_count": null,
   "metadata": {},
   "outputs": [],
   "source": [
    "# Feature Importance"
   ]
  },
  {
   "cell_type": "code",
   "execution_count": 16,
   "metadata": {},
   "outputs": [],
   "source": [
    "def feature_importance():\n",
    "     # feature extraction\n",
    "    model = ExtraTreesClassifier(n_estimators=required_features)\n",
    "    model.fit(X, y)\n",
    "    print(\"************Feature Importances ************\\n\",model.feature_importances_)\n",
    "    return (model,model.feature_importances_)"
   ]
  },
  {
   "cell_type": "markdown",
   "execution_count": null,
   "metadata": {},
   "outputs": [],
   "source": [
    "# Select From Model"
   ]
  },
  {
   "cell_type": "code",
   "execution_count": null,
   "metadata": {},
   "outputs": [],
   "source": [
    "def select_from_model(model):\n",
    "    model = SelectFromModel(model, prefit=True)\n",
    "    X_new = model.transform(X)\n",
    "    print(\"Select From Model, New Shape : \",X_new.shape)\n",
    "    return X_new"
   ]
  },
  {
   "cell_type": "markdown",
   "execution_count": 1,
   "metadata": {},
   "outputs": [],
   "source": [
    "# Variance Threshold"
   ]
  },
  {
   "cell_type": "code",
   "execution_count": null,
   "metadata": {},
   "outputs": [],
   "source": [
    "def variance_thershold():\n",
    "        sel = VarianceThreshold(threshold=(.9 * (1 - .9)))\n",
    "        return sel.fit_transform(X)"
   ]
  },
  {
   "cell_type": "code",
   "execution_count": null,
   "metadata": {},
   "outputs": [],
   "source": []
  }
 ]
}