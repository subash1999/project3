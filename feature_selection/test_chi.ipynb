{
 "nbformat": 4,
 "nbformat_minor": 2,
 "metadata": {
  "language_info": {
   "name": "python",
   "codemirror_mode": {
    "name": "ipython",
    "version": 3
   },
   "version": "3.6.8"
  },
  "orig_nbformat": 2,
  "file_extension": ".py",
  "mimetype": "text/x-python",
  "name": "python",
  "npconvert_exporter": "python",
  "pygments_lexer": "ipython3",
  "version": 3
 },
 "cells": [
  {
   "cell_type": "code",
   "execution_count": 1,
   "metadata": {},
   "outputs": [],
   "source": [
    "import os,sys\n",
    "sys.path.append(os.path.abspath(\"\"))\n",
    "from preprocessing.Normalize import Normalize\n",
    "from feature_selection.ChiSquareCustom import ChiSquare\n",
    "import multiprocessing"
   ]
  },
  {
   "cell_type": "code",
   "execution_count": null,
   "metadata": {},
   "outputs": [],
   "source": [
    "def test_cols(test_cols,cT,beg,end):\n",
    "    for var in testColumns[]:\n",
    "        if(cT.TestIndependence(colX=var)):\n",
    "            print(var)    "
   ]
  },
  {
   "cell_type": "code",
   "execution_count": 2,
   "metadata": {},
   "outputs": [],
   "source": [
    "if __name__=\"__main__\":\n",
    "    n = Normalize()\n",
    "    normal_matrix  = n.get_normalized_data()    \n",
    "    #Initialize ChiSquare Class\n",
    "    cT = ChiSquare(normal_matrix)\n",
    "    #Feature Selection\n",
    "    testColumns = normal_matrix.columns\n",
    "    processes = []\n",
    "    p_count = 0\n",
    "    # multiprocess(i,normal_matrix.to_numpy(),p_count)        \n",
    "    for i in range(0,len(testColumns),5000):\n",
    "        p_count +=1\n",
    "        print(\"Process Init : \",p_count, \" of \",end)\n",
    "        p = multiprocessing.Process(target=test_cols,args=([testColumns,cT,i,(i+5000)]))  \n",
    "        p.start() \n",
    "        processes.append(p)                        \n",
    "    for process in processes:\n",
    "        process.join()"
   ]
  },
  {
   "cell_type": "code",
   "execution_count": null,
   "metadata": {},
   "outputs": [],
   "source": []
  }
 ]
}