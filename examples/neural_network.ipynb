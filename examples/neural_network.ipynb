{
 "nbformat": 4,
 "nbformat_minor": 2,
 "metadata": {
  "language_info": {
   "name": "python",
   "codemirror_mode": {
    "name": "ipython",
    "version": 3
   },
   "version": "3.6.8-final"
  },
  "orig_nbformat": 2,
  "file_extension": ".py",
  "mimetype": "text/x-python",
  "name": "python",
  "npconvert_exporter": "python",
  "pygments_lexer": "ipython3",
  "version": 3,
  "kernelspec": {
   "name": "python36864bit5cbe49f610aa411e8c53eb13e742ec54",
   "display_name": "Python 3.6.8 64-bit"
  }
 },
 "cells": [
  {
   "cell_type": "code",
   "execution_count": 1,
   "metadata": {},
   "outputs": [],
   "source": [
    "import os\n",
    "os.chdir(\"../\")"
   ]
  },
  {
   "cell_type": "code",
   "execution_count": 2,
   "metadata": {},
   "outputs": [
    {
     "name": "stderr",
     "output_type": "stream",
     "text": "Using TensorFlow backend.\n"
    }
   ],
   "source": [
    "import pandas as pd\n",
    "import numpy as np\n",
    "from sklearn.feature_selection import SelectFromModel\n",
    "from sklearn.linear_model import LassoCV\n",
    "from sklearn.model_selection import GridSearchCV\n",
    "from sklearn.preprocessing import RobustScaler\n",
    "from keras import backend as K\n",
    "from keras.models import Sequential\n",
    "from keras.layers import Dense, InputLayer, GaussianNoise\n",
    "from keras.wrappers.scikit_learn import KerasRegressor\n",
    "from sklearn.model_selection import train_test_split\n",
    "import tensorflow as tf"
   ]
  },
  {
   "cell_type": "code",
   "execution_count": 3,
   "metadata": {},
   "outputs": [
    {
     "data": {
      "text/plain": "'f:\\\\project3'"
     },
     "execution_count": 3,
     "metadata": {},
     "output_type": "execute_result"
    }
   ],
   "source": [
    "os.getcwd()"
   ]
  },
  {
   "cell_type": "code",
   "execution_count": 36,
   "metadata": {},
   "outputs": [],
   "source": [
    "from preprocessing.Normalize import Normalize\n",
    "import helper.SeriesHelper as series_helper"
   ]
  },
  {
   "cell_type": "code",
   "execution_count": 37,
   "metadata": {},
   "outputs": [],
   "source": [
    "normal_matrix = Normalize().get_normalized_data()\n",
    "X = normal_matrix.to_numpy()\n",
    "y = series_helper.get_relapse_value_from_series_matrix(normal_matrix)"
   ]
  },
  {
   "cell_type": "code",
   "execution_count": 38,
   "metadata": {},
   "outputs": [],
   "source": [
    "# Sscaling features\n",
    "scaler = RobustScaler()\n",
    "X = scaler.fit_transform(X)"
   ]
  },
  {
   "cell_type": "code",
   "execution_count": 39,
   "metadata": {},
   "outputs": [],
   "source": [
    "X_train, X_test, y_train, y_test = train_test_split(X,y,test_size=0.33)"
   ]
  },
  {
   "cell_type": "code",
   "execution_count": 7,
   "metadata": {},
   "outputs": [],
   "source": [
    "# Keep only the most contributing features\n",
    "# sfm = SelectFromModel(LassoCV())\n",
    "# sfm.fit(X_train, y_train)\n",
    "# X_train = sfm.transform(X_train)\n",
    "# X_test = sfm.transform(X_test)"
   ]
  },
  {
   "cell_type": "code",
   "execution_count": 8,
   "metadata": {},
   "outputs": [],
   "source": [
    "# pd.DataFrame(X_train).to_csv(\"X_train.csv\")\n",
    "# pd.DataFrame(X_test).to_csv(\"X_test.csv\")\n",
    "# pd.DataFrame(y_train).to_csv(\"y_train.csv\")\n",
    "# pd.DataFrame(y_test).to_csv(\"y_test.csv\")"
   ]
  },
  {
   "cell_type": "code",
   "execution_count": 4,
   "metadata": {},
   "outputs": [],
   "source": [
    "X_train = pd.read_csv(\"X_train.csv\")\n",
    "X_test = pd.read_csv(\"X_test.csv\")\n",
    "y_train = pd.read_csv(\"y_train.csv\")\n",
    "y_test = pd.read_csv(\"y_test.csv\")"
   ]
  },
  {
   "cell_type": "code",
   "execution_count": 40,
   "metadata": {},
   "outputs": [],
   "source": [
    "def r2_keras(y_true, y_pred):\n",
    "    SS_res =  K.sum(K.square( y_true - y_pred ))\n",
    "    SS_tot = K.sum(K.square( y_true - K.mean(y_true) ) )\n",
    "    return ( 1 - SS_res/(SS_tot + K.epsilon()) )"
   ]
  },
  {
   "cell_type": "code",
   "execution_count": 41,
   "metadata": {},
   "outputs": [],
   "source": [
    "\n",
    "def build_model_fn(neurons=50, noise=0.25):\n",
    "    model = Sequential()\n",
    "    model.add(InputLayer(input_shape=(X_train.shape[1],)))\n",
    "    model.add(GaussianNoise(noise))\n",
    "    model.add(Dense(neurons, activation='relu'))\n",
    "    model.add(Dense(1, activation='sigmoid'))\n",
    "    model.compile(loss='binary_crossentropy', optimizer='nadam', metrics=[r2_keras])\n",
    "    return model"
   ]
  },
  {
   "cell_type": "code",
   "execution_count": 42,
   "metadata": {},
   "outputs": [],
   "source": [
    "#\n",
    "# Tuning model parameters\n",
    "#\n",
    "model = KerasRegressor(build_fn=build_model_fn, epochs=100, verbose=0)"
   ]
  },
  {
   "cell_type": "code",
   "execution_count": 43,
   "metadata": {},
   "outputs": [],
   "source": [
    "gsc = GridSearchCV(\n",
    "    estimator=model,\n",
    "    param_grid={\n",
    "        #'neurons': range(18,31,4),\n",
    "        'noise': [x/20.0 for x in range(3, 7)],\n",
    "    },\n",
    "    #scoring='r2',\n",
    "    scoring='neg_mean_squared_error',\n",
    "    cv=5\n",
    ")"
   ]
  },
  {
   "cell_type": "code",
   "execution_count": 44,
   "metadata": {},
   "outputs": [
    {
     "name": "stderr",
     "output_type": "stream",
     "text": "C:\\Users\\subas\\AppData\\Local\\Programs\\Python\\Python36\\lib\\site-packages\\sklearn\\model_selection\\_search.py:813: DeprecationWarning: The default of the `iid` parameter will change from True to False in version 0.22 and will be removed in 0.24. This will change numeric results when test-set sizes are unequal.\n  DeprecationWarning)\n"
    }
   ],
   "source": [
    "grid_result = gsc.fit(X_train, y_train)"
   ]
  },
  {
   "cell_type": "code",
   "execution_count": 49,
   "metadata": {},
   "outputs": [
    {
     "data": {
      "text/plain": "{'mean_fit_time': array([140.4731916 , 155.21334977, 150.54983373, 133.06099405]),\n 'std_fit_time': array([15.67006872,  5.3825702 , 37.16268435,  6.92313102]),\n 'mean_score_time': array([1.27036304, 2.37593155, 2.03602762, 1.90557199]),\n 'std_score_time': array([0.49081274, 0.4996602 , 0.3884246 , 0.34055637]),\n 'param_noise': masked_array(data=[0.15, 0.2, 0.25, 0.3],\n              mask=[False, False, False, False],\n        fill_value='?',\n             dtype=object),\n 'params': [{'noise': 0.15}, {'noise': 0.2}, {'noise': 0.25}, {'noise': 0.3}],\n 'split0_test_score': array([-0.29026788, -0.25012226, -0.57763975, -0.55603381]),\n 'split1_test_score': array([-0.50625, -0.325  , -0.44375, -0.5125 ]),\n 'split2_test_score': array([-0.5482556 , -0.5875    , -0.39138341, -0.33125   ]),\n 'split3_test_score': array([-0.45970145, -0.50625   , -0.46875   , -0.39375   ]),\n 'split4_test_score': array([-0.4    , -0.4    , -0.31875, -0.38125]),\n 'mean_test_score': array([-0.44070694, -0.41357014, -0.4402264 , -0.43510792]),\n 'std_test_score': array([0.09011444, 0.12137551, 0.08593306, 0.08491943]),\n 'rank_test_score': array([4, 1, 3, 2])}"
     },
     "execution_count": 49,
     "metadata": {},
     "output_type": "execute_result"
    }
   ],
   "source": [
    "grid_result.cv_results_"
   ]
  },
  {
   "cell_type": "code",
   "execution_count": 50,
   "metadata": {},
   "outputs": [
    {
     "name": "stdout",
     "output_type": "stream",
     "text": "Best: -0.413570 using {'noise': 0.2}\n"
    },
    {
     "ename": "KeyError",
     "evalue": "'mean_train_score'",
     "output_type": "error",
     "traceback": [
      "\u001b[1;31m---------------------------------------------------------------------------\u001b[0m",
      "\u001b[1;31mKeyError\u001b[0m                                  Traceback (most recent call last)",
      "\u001b[1;32m<ipython-input-50-391b88c7792d>\u001b[0m in \u001b[0;36m<module>\u001b[1;34m\u001b[0m\n\u001b[0;32m      3\u001b[0m         \u001b[0mgrid_result\u001b[0m\u001b[1;33m.\u001b[0m\u001b[0mcv_results_\u001b[0m\u001b[1;33m[\u001b[0m\u001b[1;34m'mean_test_score'\u001b[0m\u001b[1;33m]\u001b[0m\u001b[1;33m,\u001b[0m\u001b[1;33m\u001b[0m\u001b[1;33m\u001b[0m\u001b[0m\n\u001b[0;32m      4\u001b[0m         \u001b[0mgrid_result\u001b[0m\u001b[1;33m.\u001b[0m\u001b[0mcv_results_\u001b[0m\u001b[1;33m[\u001b[0m\u001b[1;34m'std_test_score'\u001b[0m\u001b[1;33m]\u001b[0m\u001b[1;33m,\u001b[0m\u001b[1;33m\u001b[0m\u001b[1;33m\u001b[0m\u001b[0m\n\u001b[1;32m----> 5\u001b[1;33m         \u001b[0mgrid_result\u001b[0m\u001b[1;33m.\u001b[0m\u001b[0mcv_results_\u001b[0m\u001b[1;33m[\u001b[0m\u001b[1;34m'mean_train_score'\u001b[0m\u001b[1;33m]\u001b[0m\u001b[1;33m,\u001b[0m\u001b[1;33m\u001b[0m\u001b[1;33m\u001b[0m\u001b[0m\n\u001b[0m\u001b[0;32m      6\u001b[0m         \u001b[0mgrid_result\u001b[0m\u001b[1;33m.\u001b[0m\u001b[0mcv_results_\u001b[0m\u001b[1;33m[\u001b[0m\u001b[1;34m'std_train_score'\u001b[0m\u001b[1;33m]\u001b[0m\u001b[1;33m,\u001b[0m\u001b[1;33m\u001b[0m\u001b[1;33m\u001b[0m\u001b[0m\n\u001b[0;32m      7\u001b[0m         grid_result.cv_results_['params']):\n",
      "\u001b[1;31mKeyError\u001b[0m: 'mean_train_score'"
     ]
    }
   ],
   "source": [
    "print(\"Best: %f using %s\" % (grid_result.best_score_, grid_result.best_params_))\n",
    "for test_mean, test_stdev, train_mean, train_stdev, param in zip(\n",
    "        grid_result.cv_results_['mean_test_score'],\n",
    "        grid_result.cv_results_['std_test_score'],\n",
    "        grid_result.cv_results_['mean_train_score'],\n",
    "        grid_result.cv_results_['std_train_score'],\n",
    "        grid_result.cv_results_['params']):\n",
    "    print(\"Train: %f (%f) // Test : %f (%f) with: %r\" % (train_mean, train_stdev, test_mean, test_stdev, param))\n",
    "    "
   ]
  },
  {
   "cell_type": "code",
   "execution_count": 51,
   "metadata": {},
   "outputs": [],
   "source": [
    "#\n",
    "# Train model with best params for submission\n",
    "#\n",
    "model = build_model_fn(**grid_result.best_params_)"
   ]
  },
  {
   "cell_type": "code",
   "execution_count": 52,
   "metadata": {},
   "outputs": [
    {
     "name": "stdout",
     "output_type": "stream",
     "text": "poch 162/500\n - 2s - loss: 6.9791 - r2_keras: -1.2486e+04\nEpoch 163/500\n - 2s - loss: 6.9791 - r2_keras: -1.0266e+00\nEpoch 164/500\n - 2s - loss: 6.9791 - r2_keras: -1.0622e+00\nEpoch 165/500\n - 1s - loss: 6.9791 - r2_keras: -1.0769e+00\nEpoch 166/500\n - 2s - loss: 6.9791 - r2_keras: -1.2485e+04\nEpoch 167/500\n - 2s - loss: 6.9791 - r2_keras: -1.0110e+00\nEpoch 168/500\n - 2s - loss: 6.9791 - r2_keras: -1.0454e+00\nEpoch 169/500\n - 2s - loss: 6.9791 - r2_keras: -1.0467e+00\nEpoch 170/500\n - 2s - loss: 6.9791 - r2_keras: -1.0463e+00\nEpoch 171/500\n - 2s - loss: 6.9791 - r2_keras: -1.0030e+00\nEpoch 172/500\n - 1s - loss: 6.9791 - r2_keras: -1.0474e+00\nEpoch 173/500\n - 2s - loss: 6.9791 - r2_keras: -1.2485e+04\nEpoch 174/500\n - 2s - loss: 6.9791 - r2_keras: -1.2485e+04\nEpoch 175/500\n - 2s - loss: 6.9791 - r2_keras: -1.2485e+04\nEpoch 176/500\n - 3s - loss: 6.9791 - r2_keras: -1.0239e+00\nEpoch 177/500\n - 3s - loss: 6.9791 - r2_keras: -1.2485e+04\nEpoch 178/500\n - 2s - loss: 6.9791 - r2_keras: -1.2485e+04\nEpoch 179/500\n - 2s - loss: 6.9791 - r2_keras: -1.2485e+04\nEpoch 180/500\n - 2s - loss: 6.9791 - r2_keras: -1.2485e+04\nEpoch 181/500\n - 2s - loss: 6.9791 - r2_keras: -1.2485e+04\nEpoch 182/500\n - 2s - loss: 6.9791 - r2_keras: -1.2485e+04\nEpoch 183/500\n - 2s - loss: 6.9791 - r2_keras: -1.2485e+04\nEpoch 184/500\n - 2s - loss: 6.9791 - r2_keras: -1.0276e+00\nEpoch 185/500\n - 2s - loss: 6.9791 - r2_keras: -1.2485e+04\nEpoch 186/500\n - 1s - loss: 6.9791 - r2_keras: -1.0418e+00\nEpoch 187/500\n - 2s - loss: 6.9791 - r2_keras: -1.2485e+04\nEpoch 188/500\n - 2s - loss: 6.9791 - r2_keras: -1.0330e+00\nEpoch 189/500\n - 1s - loss: 6.9791 - r2_keras: -1.0231e+00\nEpoch 190/500\n - 1s - loss: 6.9791 - r2_keras: -1.2485e+04\nEpoch 191/500\n - 1s - loss: 6.9791 - r2_keras: -1.2485e+04\nEpoch 192/500\n - 2s - loss: 6.9791 - r2_keras: -1.2485e+04\nEpoch 193/500\n - 2s - loss: 6.9791 - r2_keras: -1.2485e+04\nEpoch 194/500\n - 2s - loss: 6.9791 - r2_keras: -1.0354e+00\nEpoch 195/500\n - 2s - loss: 6.9791 - r2_keras: -1.0520e+00\nEpoch 196/500\n - 1s - loss: 6.9791 - r2_keras: -1.0425e+00\nEpoch 197/500\n - 1s - loss: 6.9791 - r2_keras: -1.0649e+00\nEpoch 198/500\n - 1s - loss: 6.9791 - r2_keras: -1.2485e+04\nEpoch 199/500\n - 1s - loss: 6.9791 - r2_keras: -1.2485e+04\nEpoch 200/500\n - 1s - loss: 6.9791 - r2_keras: -1.2485e+04\nEpoch 201/500\n - 1s - loss: 6.9791 - r2_keras: -1.0942e+00\nEpoch 202/500\n - 1s - loss: 6.9791 - r2_keras: -1.0388e+00\nEpoch 203/500\n - 1s - loss: 6.9791 - r2_keras: -1.0667e+00\nEpoch 204/500\n - 1s - loss: 6.9791 - r2_keras: -1.0177e+00\nEpoch 205/500\n - 1s - loss: 6.9791 - r2_keras: -1.2485e+04\nEpoch 206/500\n - 1s - loss: 6.9791 - r2_keras: -1.2485e+04\nEpoch 207/500\n - 1s - loss: 6.9791 - r2_keras: -1.0573e+00\nEpoch 208/500\n - 1s - loss: 6.9791 - r2_keras: -1.0723e+00\nEpoch 209/500\n - 1s - loss: 6.9791 - r2_keras: -1.2485e+04\nEpoch 210/500\n - 1s - loss: 6.9791 - r2_keras: -1.2485e+04\nEpoch 211/500\n - 1s - loss: 6.9791 - r2_keras: -1.2485e+04\nEpoch 212/500\n - 1s - loss: 6.9791 - r2_keras: -1.2485e+04\nEpoch 213/500\n - 1s - loss: 6.9791 - r2_keras: -1.2485e+04\nEpoch 214/500\n - 1s - loss: 6.9791 - r2_keras: -1.0234e+00\nEpoch 215/500\n - 1s - loss: 6.9791 - r2_keras: -1.0277e+00\nEpoch 216/500\n - 1s - loss: 6.9791 - r2_keras: -1.2485e+04\nEpoch 217/500\n - 1s - loss: 6.9791 - r2_keras: -1.0406e+00\nEpoch 218/500\n - 1s - loss: 6.9791 - r2_keras: -1.0548e+00\nEpoch 219/500\n - 1s - loss: 6.9791 - r2_keras: -1.0321e+00\nEpoch 220/500\n - 1s - loss: 6.9791 - r2_keras: -1.2485e+04\nEpoch 221/500\n - 1s - loss: 6.9791 - r2_keras: -1.0483e+00\nEpoch 222/500\n - 1s - loss: 6.9791 - r2_keras: -1.2485e+04\nEpoch 223/500\n - 1s - loss: 6.9791 - r2_keras: -1.2485e+04\nEpoch 224/500\n - 1s - loss: 6.9791 - r2_keras: -1.2485e+04\nEpoch 225/500\n - 1s - loss: 6.9791 - r2_keras: -1.0270e+00\nEpoch 226/500\n - 1s - loss: 6.9791 - r2_keras: -1.0063e+00\nEpoch 227/500\n - 1s - loss: 6.9791 - r2_keras: -1.2485e+04\nEpoch 228/500\n - 1s - loss: 6.9791 - r2_keras: -1.0332e+00\nEpoch 229/500\n - 2s - loss: 6.9791 - r2_keras: -1.0140e+00\nEpoch 230/500\n - 2s - loss: 6.9791 - r2_keras: -1.0515e+00\nEpoch 231/500\n - 2s - loss: 6.9791 - r2_keras: -1.0127e+00\nEpoch 232/500\n - 2s - loss: 6.9791 - r2_keras: -1.2485e+04\nEpoch 233/500\n - 1s - loss: 6.9791 - r2_keras: -1.2486e+04\nEpoch 234/500\n - 1s - loss: 6.9791 - r2_keras: -1.2485e+04\nEpoch 235/500\n - 1s - loss: 6.9791 - r2_keras: -1.2485e+04\nEpoch 236/500\n - 1s - loss: 6.9791 - r2_keras: -1.0624e+00\nEpoch 237/500\n - 1s - loss: 6.9791 - r2_keras: -9.8714e-01\nEpoch 238/500\n - 1s - loss: 6.9791 - r2_keras: -1.0628e+00\nEpoch 239/500\n - 1s - loss: 6.9791 - r2_keras: -1.0577e+00\nEpoch 240/500\n - 1s - loss: 6.9791 - r2_keras: -1.2485e+04\nEpoch 241/500\n - 1s - loss: 6.9791 - r2_keras: -1.2486e+04\nEpoch 242/500\n - 2s - loss: 6.9791 - r2_keras: -1.2485e+04\nEpoch 243/500\n - 2s - loss: 6.9791 - r2_keras: -1.0107e+00\nEpoch 244/500\n - 2s - loss: 6.9791 - r2_keras: -1.0471e+00\nEpoch 245/500\n - 1s - loss: 6.9791 - r2_keras: -1.0619e+00\nEpoch 246/500\n - 2s - loss: 6.9791 - r2_keras: -1.2485e+04\nEpoch 247/500\n - 1s - loss: 6.9791 - r2_keras: -1.1723e+00\nEpoch 248/500\n - 2s - loss: 6.9791 - r2_keras: -1.0999e+00\nEpoch 249/500\n - 1s - loss: 6.9791 - r2_keras: -1.0417e+00\nEpoch 250/500\n - 1s - loss: 6.9791 - r2_keras: -1.0250e+00\nEpoch 251/500\n - 1s - loss: 6.9791 - r2_keras: -1.0458e+00\nEpoch 252/500\n - 1s - loss: 6.9791 - r2_keras: -1.0500e+00\nEpoch 253/500\n - 1s - loss: 6.9791 - r2_keras: -1.2485e+04\nEpoch 254/500\n - 1s - loss: 6.9791 - r2_keras: -1.0071e+00\nEpoch 255/500\n - 1s - loss: 6.9791 - r2_keras: -1.0789e+00\nEpoch 256/500\n - 1s - loss: 6.9791 - r2_keras: -1.2485e+04\nEpoch 257/500\n - 1s - loss: 6.9791 - r2_keras: -1.2485e+04\nEpoch 258/500\n - 1s - loss: 6.9791 - r2_keras: -1.2485e+04\nEpoch 259/500\n - 1s - loss: 6.9791 - r2_keras: -1.0684e+00\nEpoch 260/500\n - 1s - loss: 6.9791 - r2_keras: -1.0371e+00\nEpoch 261/500\n - 1s - loss: 6.9791 - r2_keras: -1.0105e+00\nEpoch 262/500\n - 1s - loss: 6.9791 - r2_keras: -1.2485e+04\nEpoch 263/500\n - 1s - loss: 6.9791 - r2_keras: -1.0138e+00\nEpoch 264/500\n - 1s - loss: 6.9791 - r2_keras: -1.2485e+04\nEpoch 265/500\n - 1s - loss: 6.9791 - r2_keras: -1.2485e+04\nEpoch 266/500\n - 1s - loss: 6.9791 - r2_keras: -1.2485e+04\nEpoch 267/500\n - 2s - loss: 6.9791 - r2_keras: -1.2485e+04\nEpoch 268/500\n - 2s - loss: 6.9791 - r2_keras: -1.0337e+00\nEpoch 269/500\n - 2s - loss: 6.9791 - r2_keras: -1.1043e+00\nEpoch 270/500\n - 1s - loss: 6.9791 - r2_keras: -1.2486e+04\nEpoch 271/500\n - 1s - loss: 6.9791 - r2_keras: -1.2485e+04\nEpoch 272/500\n - 2s - loss: 6.9791 - r2_keras: -1.2485e+04\nEpoch 273/500\n - 2s - loss: 6.9791 - r2_keras: -1.2485e+04\nEpoch 274/500\n - 2s - loss: 6.9791 - r2_keras: -1.2485e+04\nEpoch 275/500\n - 3s - loss: 6.9791 - r2_keras: -1.0869e+00\nEpoch 276/500\n - 3s - loss: 6.9791 - r2_keras: -1.0618e+00\nEpoch 277/500\n - 2s - loss: 6.9791 - r2_keras: -1.2486e+04\nEpoch 278/500\n - 1s - loss: 6.9791 - r2_keras: -1.0261e+00\nEpoch 279/500\n - 1s - loss: 6.9791 - r2_keras: -1.2485e+04\nEpoch 280/500\n - 1s - loss: 6.9791 - r2_keras: -1.0197e+00\nEpoch 281/500\n - 2s - loss: 6.9791 - r2_keras: -1.0365e+00\nEpoch 282/500\n - 2s - loss: 6.9791 - r2_keras: -1.0247e+00\nEpoch 283/500\n - 2s - loss: 6.9791 - r2_keras: -1.0192e+00\nEpoch 284/500\n - 2s - loss: 6.9791 - r2_keras: -1.2485e+04\nEpoch 285/500\n - 2s - loss: 6.9791 - r2_keras: -1.2485e+04\nEpoch 286/500\n - 2s - loss: 6.9791 - r2_keras: -1.2485e+04\nEpoch 287/500\n - 2s - loss: 6.9791 - r2_keras: -1.0436e+00\nEpoch 288/500\n - 2s - loss: 6.9791 - r2_keras: -1.0580e+00\nEpoch 289/500\n - 2s - loss: 6.9791 - r2_keras: -1.2485e+04\nEpoch 290/500\n - 2s - loss: 6.9791 - r2_keras: -1.0245e+00\nEpoch 291/500\n - 2s - loss: 6.9791 - r2_keras: -1.2485e+04\nEpoch 292/500\n - 2s - loss: 6.9791 - r2_keras: -1.0288e+00\nEpoch 293/500\n - 2s - loss: 6.9791 - r2_keras: -1.0068e+00\nEpoch 294/500\n - 2s - loss: 6.9791 - r2_keras: -1.0150e+00\nEpoch 295/500\n - 1s - loss: 6.9791 - r2_keras: -1.2485e+04\nEpoch 296/500\n - 1s - loss: 6.9791 - r2_keras: -1.2485e+04\nEpoch 297/500\n - 1s - loss: 6.9791 - r2_keras: -1.0853e+00\nEpoch 298/500\n - 1s - loss: 6.9791 - r2_keras: -1.0504e+00\nEpoch 299/500\n - 1s - loss: 6.9791 - r2_keras: -1.2486e+04\nEpoch 300/500\n - 1s - loss: 6.9791 - r2_keras: -1.0462e+00\nEpoch 301/500\n - 1s - loss: 6.9791 - r2_keras: -1.0287e+00\nEpoch 302/500\n - 1s - loss: 6.9791 - r2_keras: -1.0228e+00\nEpoch 303/500\n - 1s - loss: 6.9791 - r2_keras: -1.0172e+00\nEpoch 304/500\n - 1s - loss: 6.9791 - r2_keras: -1.2485e+04\nEpoch 305/500\n - 1s - loss: 6.9791 - r2_keras: -1.0726e+00\nEpoch 306/500\n - 1s - loss: 6.9791 - r2_keras: -1.0263e+00\nEpoch 307/500\n - 1s - loss: 6.9791 - r2_keras: -1.0523e+00\nEpoch 308/500\n - 1s - loss: 6.9791 - r2_keras: -1.2485e+04\nEpoch 309/500\n - 1s - loss: 6.9791 - r2_keras: -1.2485e+04\nEpoch 310/500\n - 2s - loss: 6.9791 - r2_keras: -1.1266e+00\nEpoch 311/500\n - 2s - loss: 6.9791 - r2_keras: -1.2485e+04\nEpoch 312/500\n - 2s - loss: 6.9791 - r2_keras: -1.2485e+04\nEpoch 313/500\n - 2s - loss: 6.9791 - r2_keras: -1.0566e+00\nEpoch 314/500\n - 2s - loss: 6.9791 - r2_keras: -1.2485e+04\nEpoch 315/500\n - 2s - loss: 6.9791 - r2_keras: -1.0270e+00\nEpoch 316/500\n - 1s - loss: 6.9791 - r2_keras: -1.2485e+04\nEpoch 317/500\n - 2s - loss: 6.9791 - r2_keras: -1.2485e+04\nEpoch 318/500\n - 2s - loss: 6.9791 - r2_keras: -1.2485e+04\nEpoch 319/500\n - 2s - loss: 6.9791 - r2_keras: -1.0821e+00\nEpoch 320/500\n - 2s - loss: 6.9791 - r2_keras: -1.0312e+00\nEpoch 321/500\n - 2s - loss: 6.9791 - r2_keras: -1.0516e+00\nEpoch 322/500\n - 2s - loss: 6.9791 - r2_keras: -1.2485e+04\nEpoch 323/500\n - 1s - loss: 6.9791 - r2_keras: -1.2486e+04\nEpoch 324/500\n - 1s - loss: 6.9791 - r2_keras: -1.2485e+04\nEpoch 325/500\n - 1s - loss: 6.9791 - r2_keras: -1.0401e+00\nEpoch 326/500\n - 2s - loss: 6.9791 - r2_keras: -1.0271e+00\nEpoch 327/500\n - 2s - loss: 6.9791 - r2_keras: -1.2486e+04\nEpoch 328/500\n - 2s - loss: 6.9791 - r2_keras: -1.0668e+00\nEpoch 329/500\n - 2s - loss: 6.9791 - r2_keras: -1.0170e+00\nEpoch 330/500\n - 2s - loss: 6.9791 - r2_keras: -1.0184e+00\nEpoch 331/500\n - 2s - loss: 6.9791 - r2_keras: -1.0576e+00\nEpoch 332/500\n - 1s - loss: 6.9791 - r2_keras: -1.2485e+04\nEpoch 333/500\n - 1s - loss: 6.9791 - r2_keras: -1.0485e+00\nEpoch 334/500\n - 1s - loss: 6.9791 - r2_keras: -1.0225e+00\nEpoch 335/500\n - 2s - loss: 6.9791 - r2_keras: -1.0342e+00\nEpoch 336/500\n - 2s - loss: 6.9791 - r2_keras: -1.2485e+04\nEpoch 337/500\n - 2s - loss: 6.9791 - r2_keras: -1.0453e+00\nEpoch 338/500\n - 2s - loss: 6.9791 - r2_keras: -1.0508e+00\nEpoch 339/500\n - 1s - loss: 6.9791 - r2_keras: -1.0396e+00\nEpoch 340/500\n - 1s - loss: 6.9791 - r2_keras: -1.2485e+04\nEpoch 341/500\n - 2s - loss: 6.9791 - r2_keras: -1.0223e+00\nEpoch 342/500\n - 2s - loss: 6.9791 - r2_keras: -1.0523e+00\nEpoch 343/500\n - 1s - loss: 6.9791 - r2_keras: -1.2485e+04\nEpoch 344/500\n - 2s - loss: 6.9791 - r2_keras: -1.0079e+00\nEpoch 345/500\n - 2s - loss: 6.9791 - r2_keras: -1.0887e+00\nEpoch 346/500\n - 1s - loss: 6.9791 - r2_keras: -1.2485e+04\nEpoch 347/500\n - 1s - loss: 6.9791 - r2_keras: -1.2485e+04\nEpoch 348/500\n - 1s - loss: 6.9791 - r2_keras: -1.0488e+00\nEpoch 349/500\n - 1s - loss: 6.9791 - r2_keras: -1.0485e+00\nEpoch 350/500\n - 1s - loss: 6.9791 - r2_keras: -1.2485e+04\nEpoch 351/500\n - 1s - loss: 6.9791 - r2_keras: -1.2485e+04\nEpoch 352/500\n - 2s - loss: 6.9791 - r2_keras: -1.1374e+00\nEpoch 353/500\n - 2s - loss: 6.9791 - r2_keras: -1.0399e+00\nEpoch 354/500\n - 2s - loss: 6.9791 - r2_keras: -1.2485e+04\nEpoch 355/500\n - 2s - loss: 6.9791 - r2_keras: -1.2485e+04\nEpoch 356/500\n - 2s - loss: 6.9791 - r2_keras: -1.2485e+04\nEpoch 357/500\n - 2s - loss: 6.9791 - r2_keras: -1.0552e+00\nEpoch 358/500\n - 1s - loss: 6.9791 - r2_keras: -1.2485e+04\nEpoch 359/500\n - 1s - loss: 6.9791 - r2_keras: -1.0743e+00\nEpoch 360/500\n - 2s - loss: 6.9791 - r2_keras: -1.0675e+00\nEpoch 361/500\n - 2s - loss: 6.9791 - r2_keras: -1.0391e+00\nEpoch 362/500\n - 2s - loss: 6.9791 - r2_keras: -1.2485e+04\nEpoch 363/500\n - 1s - loss: 6.9791 - r2_keras: -1.2485e+04\nEpoch 364/500\n - 2s - loss: 6.9791 - r2_keras: -1.0124e+00\nEpoch 365/500\n - 2s - loss: 6.9791 - r2_keras: -1.0697e+00\nEpoch 366/500\n - 2s - loss: 6.9791 - r2_keras: -1.0535e+00\nEpoch 367/500\n - 2s - loss: 6.9791 - r2_keras: -1.0305e+00\nEpoch 368/500\n - 2s - loss: 6.9791 - r2_keras: -1.2485e+04\nEpoch 369/500\n - 2s - loss: 6.9791 - r2_keras: -1.0993e+00\nEpoch 370/500\n - 1s - loss: 6.9791 - r2_keras: -1.0581e+00\nEpoch 371/500\n - 2s - loss: 6.9791 - r2_keras: -1.2485e+04\nEpoch 372/500\n - 2s - loss: 6.9791 - r2_keras: -1.0677e+00\nEpoch 373/500\n - 1s - loss: 6.9791 - r2_keras: -1.0474e+00\nEpoch 374/500\n - 2s - loss: 6.9791 - r2_keras: -1.2485e+04\nEpoch 375/500\n - 2s - loss: 6.9791 - r2_keras: -1.2486e+04\nEpoch 376/500\n - 2s - loss: 6.9791 - r2_keras: -1.0181e+00\nEpoch 377/500\n - 2s - loss: 6.9791 - r2_keras: -9.9602e-01\nEpoch 378/500\n - 2s - loss: 6.9791 - r2_keras: -1.2485e+04\nEpoch 379/500\n - 1s - loss: 6.9791 - r2_keras: -1.2485e+04\nEpoch 380/500\n - 1s - loss: 6.9791 - r2_keras: -1.0807e+00\nEpoch 381/500\n - 2s - loss: 6.9791 - r2_keras: -1.0019e+00\nEpoch 382/500\n - 2s - loss: 6.9791 - r2_keras: -1.0222e+00\nEpoch 383/500\n - 2s - loss: 6.9791 - r2_keras: -1.0390e+00\nEpoch 384/500\n - 2s - loss: 6.9791 - r2_keras: -1.0845e+00\nEpoch 385/500\n - 2s - loss: 6.9791 - r2_keras: -1.2485e+04\nEpoch 386/500\n - 1s - loss: 6.9791 - r2_keras: -1.0879e+00\nEpoch 387/500\n - 2s - loss: 6.9791 - r2_keras: -1.2485e+04\nEpoch 388/500\n - 2s - loss: 6.9791 - r2_keras: -1.0621e+00\nEpoch 389/500\n - 2s - loss: 6.9791 - r2_keras: -1.0653e+00\nEpoch 390/500\n - 2s - loss: 6.9791 - r2_keras: -1.2485e+04\nEpoch 391/500\n - 2s - loss: 6.9791 - r2_keras: -1.0164e+00\nEpoch 392/500\n - 2s - loss: 6.9791 - r2_keras: -1.0252e+00\nEpoch 393/500\n - 2s - loss: 6.9791 - r2_keras: -1.2486e+04\nEpoch 394/500\n - 1s - loss: 6.9791 - r2_keras: -1.0189e+00\nEpoch 395/500\n - 1s - loss: 6.9791 - r2_keras: -1.0497e+00\nEpoch 396/500\n - 1s - loss: 6.9791 - r2_keras: -1.0549e+00\nEpoch 397/500\n - 1s - loss: 6.9791 - r2_keras: -1.2485e+04\nEpoch 398/500\n - 1s - loss: 6.9791 - r2_keras: -1.0727e+00\nEpoch 399/500\n - 1s - loss: 6.9791 - r2_keras: -1.0313e+00\nEpoch 400/500\n - 1s - loss: 6.9791 - r2_keras: -1.2485e+04\nEpoch 401/500\n - 1s - loss: 6.9791 - r2_keras: -1.2485e+04\nEpoch 402/500\n - 1s - loss: 6.9791 - r2_keras: -1.0219e+00\nEpoch 403/500\n - 1s - loss: 6.9791 - r2_keras: -1.0377e+00\nEpoch 404/500\n - 1s - loss: 6.9791 - r2_keras: -1.2485e+04\nEpoch 405/500\n - 1s - loss: 6.9791 - r2_keras: -1.0416e+00\nEpoch 406/500\n - 1s - loss: 6.9791 - r2_keras: -1.0286e+00\nEpoch 407/500\n - 1s - loss: 6.9791 - r2_keras: -1.0215e+00\nEpoch 408/500\n - 1s - loss: 6.9791 - r2_keras: -1.2486e+04\nEpoch 409/500\n - 1s - loss: 6.9791 - r2_keras: -1.0640e+00\nEpoch 410/500\n - 1s - loss: 6.9791 - r2_keras: -1.2485e+04\nEpoch 411/500\n - 1s - loss: 6.9791 - r2_keras: -1.2486e+04\nEpoch 412/500\n - 1s - loss: 6.9791 - r2_keras: -1.2485e+04\nEpoch 413/500\n - 1s - loss: 6.9791 - r2_keras: -1.1481e+00\nEpoch 414/500\n - 1s - loss: 6.9791 - r2_keras: -1.0188e+00\nEpoch 415/500\n - 1s - loss: 6.9791 - r2_keras: -1.0124e+00\nEpoch 416/500\n - 2s - loss: 6.9791 - r2_keras: -1.2485e+04\nEpoch 417/500\n - 1s - loss: 6.9791 - r2_keras: -1.2485e+04\nEpoch 418/500\n - 1s - loss: 6.9791 - r2_keras: -1.2485e+04\nEpoch 419/500\n - 1s - loss: 6.9791 - r2_keras: -1.2485e+04\nEpoch 420/500\n - 1s - loss: 6.9791 - r2_keras: -1.0156e+00\nEpoch 421/500\n - 1s - loss: 6.9791 - r2_keras: -1.0429e+00\nEpoch 422/500\n - 1s - loss: 6.9791 - r2_keras: -1.2485e+04\nEpoch 423/500\n - 2s - loss: 6.9791 - r2_keras: -1.0412e+00\nEpoch 424/500\n - 2s - loss: 6.9791 - r2_keras: -1.2485e+04\nEpoch 425/500\n - 1s - loss: 6.9791 - r2_keras: -1.0264e+00\nEpoch 426/500\n - 1s - loss: 6.9791 - r2_keras: -9.9488e-01\nEpoch 427/500\n - 1s - loss: 6.9791 - r2_keras: -1.0479e+00\nEpoch 428/500\n - 1s - loss: 6.9791 - r2_keras: -1.0430e+00\nEpoch 429/500\n - 1s - loss: 6.9791 - r2_keras: -1.2485e+04\nEpoch 430/500\n - 2s - loss: 6.9791 - r2_keras: -1.0379e+00\nEpoch 431/500\n - 1s - loss: 6.9791 - r2_keras: -1.0759e+00\nEpoch 432/500\n - 1s - loss: 6.9791 - r2_keras: -1.2485e+04\nEpoch 433/500\n - 1s - loss: 6.9791 - r2_keras: -1.2485e+04\nEpoch 434/500\n - 1s - loss: 6.9791 - r2_keras: -1.0327e+00\nEpoch 435/500\n - 2s - loss: 6.9791 - r2_keras: -1.0526e+00\nEpoch 436/500\n - 2s - loss: 6.9791 - r2_keras: -1.0691e+00\nEpoch 437/500\n - 2s - loss: 6.9791 - r2_keras: -1.2485e+04\nEpoch 438/500\n - 2s - loss: 6.9791 - r2_keras: -1.0335e+00\nEpoch 439/500\n - 2s - loss: 6.9791 - r2_keras: -1.2485e+04\nEpoch 440/500\n - 1s - loss: 6.9791 - r2_keras: -1.0667e+00\nEpoch 441/500\n - 1s - loss: 6.9791 - r2_keras: -1.0185e+00\nEpoch 442/500\n - 1s - loss: 6.9791 - r2_keras: -1.0685e+00\nEpoch 443/500\n - 1s - loss: 6.9791 - r2_keras: -1.2485e+04\nEpoch 444/500\n - 2s - loss: 6.9791 - r2_keras: -1.1003e+00\nEpoch 445/500\n - 1s - loss: 6.9791 - r2_keras: -1.0726e+00\nEpoch 446/500\n - 1s - loss: 6.9791 - r2_keras: -1.0679e+00\nEpoch 447/500\n - 1s - loss: 6.9791 - r2_keras: -1.0738e+00\nEpoch 448/500\n - 1s - loss: 6.9791 - r2_keras: -1.2485e+04\nEpoch 449/500\n - 1s - loss: 6.9791 - r2_keras: -1.0702e+00\nEpoch 450/500\n - 1s - loss: 6.9791 - r2_keras: -1.2485e+04\nEpoch 451/500\n - 1s - loss: 6.9791 - r2_keras: -1.2485e+04\nEpoch 452/500\n - 1s - loss: 6.9791 - r2_keras: -1.0207e+00\nEpoch 453/500\n - 1s - loss: 6.9791 - r2_keras: -1.0194e+00\nEpoch 454/500\n - 1s - loss: 6.9791 - r2_keras: -1.0315e+00\nEpoch 455/500\n - 1s - loss: 6.9791 - r2_keras: -1.2485e+04\nEpoch 456/500\n - 1s - loss: 6.9791 - r2_keras: -1.2485e+04\nEpoch 457/500\n - 1s - loss: 6.9791 - r2_keras: -1.0184e+00\nEpoch 458/500\n - 1s - loss: 6.9791 - r2_keras: -1.2485e+04\nEpoch 459/500\n - 1s - loss: 6.9791 - r2_keras: -1.0888e+00\nEpoch 460/500\n - 1s - loss: 6.9791 - r2_keras: -1.0328e+00\nEpoch 461/500\n - 1s - loss: 6.9791 - r2_keras: -1.2485e+04\nEpoch 462/500\n - 1s - loss: 6.9791 - r2_keras: -1.0543e+00\nEpoch 463/500\n - 2s - loss: 6.9791 - r2_keras: -1.0982e+00\nEpoch 464/500\n - 1s - loss: 6.9791 - r2_keras: -1.0486e+00\nEpoch 465/500\n - 2s - loss: 6.9791 - r2_keras: -1.0273e+00\nEpoch 466/500\n - 1s - loss: 6.9791 - r2_keras: -1.2485e+04\nEpoch 467/500\n - 1s - loss: 6.9791 - r2_keras: -1.0341e+00\nEpoch 468/500\n - 1s - loss: 6.9791 - r2_keras: -1.2485e+04\nEpoch 469/500\n - 1s - loss: 6.9791 - r2_keras: -1.0310e+00\nEpoch 470/500\n - 1s - loss: 6.9791 - r2_keras: -1.2485e+04\nEpoch 471/500\n - 1s - loss: 6.9791 - r2_keras: -1.2485e+04\nEpoch 472/500\n - 1s - loss: 6.9791 - r2_keras: -1.1051e+00\nEpoch 473/500\n - 1s - loss: 6.9791 - r2_keras: -1.0198e+00\nEpoch 474/500\n - 1s - loss: 6.9791 - r2_keras: -1.2485e+04\nEpoch 475/500\n - 1s - loss: 6.9791 - r2_keras: -1.0698e+00\nEpoch 476/500\n - 1s - loss: 6.9791 - r2_keras: -1.0283e+00\nEpoch 477/500\n - 1s - loss: 6.9791 - r2_keras: -1.2485e+04\nEpoch 478/500\n - 1s - loss: 6.9791 - r2_keras: -1.2485e+04\nEpoch 479/500\n - 1s - loss: 6.9791 - r2_keras: -1.0770e+00\nEpoch 480/500\n - 1s - loss: 6.9791 - r2_keras: -1.0091e+00\nEpoch 481/500\n - 1s - loss: 6.9791 - r2_keras: -1.0225e+00\nEpoch 482/500\n - 1s - loss: 6.9791 - r2_keras: -1.0791e+00\nEpoch 483/500\n - 1s - loss: 6.9791 - r2_keras: -1.0560e+00\nEpoch 484/500\n - 1s - loss: 6.9791 - r2_keras: -1.0075e+00\nEpoch 485/500\n - 1s - loss: 6.9791 - r2_keras: -1.0885e+00\nEpoch 486/500\n - 1s - loss: 6.9791 - r2_keras: -1.2485e+04\nEpoch 487/500\n - 1s - loss: 6.9791 - r2_keras: -1.1227e+00\nEpoch 488/500\n - 2s - loss: 6.9791 - r2_keras: -1.0621e+00\nEpoch 489/500\n - 2s - loss: 6.9791 - r2_keras: -1.2485e+04\nEpoch 490/500\n - 2s - loss: 6.9791 - r2_keras: -1.2485e+04\nEpoch 491/500\n - 1s - loss: 6.9791 - r2_keras: -1.2485e+04\nEpoch 492/500\n - 1s - loss: 6.9791 - r2_keras: -1.0669e+00\nEpoch 493/500\n - 2s - loss: 6.9791 - r2_keras: -1.2485e+04\nEpoch 494/500\n - 2s - loss: 6.9791 - r2_keras: -1.2485e+04\nEpoch 495/500\n - 2s - loss: 6.9791 - r2_keras: -1.0285e+00\nEpoch 496/500\n - 2s - loss: 6.9791 - r2_keras: -1.0408e+00\nEpoch 497/500\n - 2s - loss: 6.9791 - r2_keras: -1.2485e+04\nEpoch 498/500\n - 1s - loss: 6.9791 - r2_keras: -1.0362e+00\nEpoch 499/500\n - 2s - loss: 6.9791 - r2_keras: -1.2485e+04\nEpoch 500/500\n - 2s - loss: 6.9791 - r2_keras: -1.2485e+04\n"
    },
    {
     "data": {
      "text/plain": "<keras.callbacks.History at 0x24a01875320>"
     },
     "execution_count": 52,
     "metadata": {},
     "output_type": "execute_result"
    }
   ],
   "source": [
    "model.fit(X_train, y_train, epochs=500, verbose=2)"
   ]
  },
  {
   "cell_type": "code",
   "execution_count": 53,
   "metadata": {},
   "outputs": [],
   "source": [
    "y_pred = model.predict(X_test).flatten()"
   ]
  },
  {
   "cell_type": "code",
   "execution_count": 54,
   "metadata": {},
   "outputs": [
    {
     "data": {
      "text/plain": "(396,)"
     },
     "execution_count": 54,
     "metadata": {},
     "output_type": "execute_result"
    }
   ],
   "source": [
    "y_pred.shape"
   ]
  },
  {
   "cell_type": "code",
   "execution_count": 64,
   "metadata": {},
   "outputs": [],
   "source": [
    "y_pred = y_pred.astype(int)"
   ]
  },
  {
   "cell_type": "code",
   "execution_count": 67,
   "metadata": {},
   "outputs": [],
   "source": [
    "from sklearn.metrics import accuracy_score"
   ]
  },
  {
   "cell_type": "code",
   "execution_count": 68,
   "metadata": {},
   "outputs": [
    {
     "data": {
      "text/plain": "0.5707070707070707"
     },
     "execution_count": 68,
     "metadata": {},
     "output_type": "execute_result"
    }
   ],
   "source": [
    "accuracy_score(y_test, y_pred)"
   ]
  },
  {
   "cell_type": "code",
   "execution_count": null,
   "metadata": {},
   "outputs": [],
   "source": []
  }
 ]
}