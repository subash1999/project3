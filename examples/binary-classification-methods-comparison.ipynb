{
 "cells": [
  {
   "cell_type": "markdown",
   "metadata": {
    "_cell_guid": "4feb34b5-0626-43de-8dc8-ae71073b5501",
    "_uuid": "6fb654983cffed04322cd2845cf71fd34331db26"
   },
   "source": [
    "# Breast cancer Wisconsin diagnostic data set - Kaggle\n",
    "## Binary classification - methods comparison\n",
    "\n",
    "https://www.kaggle.com/uciml/breast-cancer-wisconsin-data\n",
    "\n",
    "\n",
    "\n",
    "Features are computed from a digitized image of a fine needle aspirate (FNA) of a breast mass. They describe characteristics of the cell nuclei present in the image. n the 3-dimensional space is that described in: [K. P. Bennett and O. L. Mangasarian: \"Robust Linear Programming Discrimination of Two Linearly Inseparable Sets\", Optimization Methods and Software 1, 1992, 23-34]. \n",
    "\n",
    "\n",
    "Attribute Information:\n",
    "\n",
    "=>  Diagnosis (M = malignant, B = benign))\n",
    "\n",
    "Ten real-valued features are computed for each cell nucleus:\n",
    "\n",
    "* radius (mean of distances from center to points on the perimeter) \n",
    "* texture (standard deviation of gray-scale values) \n",
    "* perimeter \n",
    "* area \n",
    "* smoothness (local variation in radius lengths) \n",
    "* compactness (perimeter^2 / area - 1.0) \n",
    "* concavity (severity of concave portions of the contour) \n",
    "* concave points (number of concave portions of the contour) \n",
    "* symmetry \n",
    "* fractal dimension (\"coastline approximation\" - 1)\n"
   ]
  },
  {
   "cell_type": "markdown",
   "metadata": {
    "_cell_guid": "314d6f8c-442a-421b-b277-2f74d7b5f8e1",
    "_uuid": "208261a71ecc9ce88a9113ba7d93928ba06f1778"
   },
   "source": [
    "#### Limitations: super small data set!"
   ]
  },
  {
   "cell_type": "markdown",
   "metadata": {
    "_cell_guid": "1b194ef6-a57d-4d5d-a430-168b28cd945b",
    "_uuid": "2ab32674c9e6512e762941b15245d2c8daf723f5"
   },
   "source": [
    "# Table of Contents:\n",
    "\n",
    "\n",
    "## 1. [Data set preparation](#first_bullet)\n",
    "- 1.1 [Read the data set](#read_data)\n",
    "- 1.2 [Remove ID column](#remove_id)\n",
    "- 1.3 [Binary 'diagnosis' input](#to_dummies)\n",
    "- 1.4 [Missing values](#missing_values)\n",
    "- 1.5 [Class distribution](#class_dist)\n",
    "\n",
    "## 2. [Testing algorithms](#second_bullet)\n",
    "- 2.1 [Withouth dimensionality reduction](#without_red)\n",
    "    > 2.1.1 [Comparison](#sum_1)\n",
    "- 2.2 [Correlation Coefficient Score](#correlation)\n",
    "    > 2.2.1 [Comparison](#sum_2)\n",
    "- 2.3 [Voting classifier](#voting)\n",
    "    > 2.3.1 [Voting hard](#hard)\n",
    "    > 2.3.2 [Voting soft](#soft)\n",
    "    >> 2.3.3 [Comparison](#sum_3)\n",
    "- 2.4 [Linear SVC + SelectFromModel](#linear_model)\n",
    "    > 2.4.1 [Comparison](#sum_4)\n",
    "- 2.5 [Linear SVC + RFECV](#linear_rfecv)\n",
    "    > 2.5.1 [Comparison](#sum_5)\n",
    "- 2.6 [Tree-based feature classifier](#tree)\n",
    "    > 2.6.1 [Comparison](#sum_6)\n",
    "\n",
    "## 3. [General comparison](#third_bullet)"
   ]
  },
  {
   "cell_type": "markdown",
   "metadata": {
    "_cell_guid": "525ca28f-ef0f-40be-970a-50cc3ff46e88",
    "_uuid": "e0e7e10ba0f5f5eae80910f707e1ea7ac37dcbf5"
   },
   "source": [
    "## Libraries <a class=\"anchor\" id=\"zero-bullet\"></a>"
   ]
  },
  {
   "cell_type": "code",
   "execution_count": 1,
   "metadata": {
    "_cell_guid": "7ee6031d-8cd8-4032-bbe6-610d7a766739",
    "_uuid": "0db70516824bb855c9d967bcff89640c981107b2",
    "collapsed": true
   },
   "outputs": [],
   "source": [
    "import pandas as pd\n",
    "import numpy as np\n",
    "from sklearn.metrics import roc_auc_score, accuracy_score, precision_score, recall_score, f1_score\n",
    "from sklearn.linear_model import LogisticRegression\n",
    "from sklearn.tree import DecisionTreeClassifier\n",
    "from sklearn.svm import SVC\n",
    "from sklearn.ensemble import RandomForestClassifier\n",
    "from sklearn.discriminant_analysis import LinearDiscriminantAnalysis, QuadraticDiscriminantAnalysis\n",
    "from sklearn.cluster import KMeans\n",
    "from sklearn.neighbors import KNeighborsClassifier\n",
    "from sklearn.naive_bayes import GaussianNB\n",
    "from sklearn.metrics import precision_recall_fscore_support\n",
    "from sklearn.metrics import mean_squared_error as mse\n",
    "from sklearn.preprocessing import StandardScaler\n",
    "from sklearn.model_selection import cross_validate\n",
    "from sklearn.model_selection import train_test_split\n",
    "from sklearn.ensemble import ExtraTreesClassifier\n",
    "from sklearn.feature_selection import SelectFromModel\n",
    "from sklearn.svm import LinearSVC\n",
    "from sklearn.ensemble import VotingClassifier\n",
    "from sklearn.feature_selection import RFECV"
   ]
  },
  {
   "cell_type": "code",
   "execution_count": 2,
   "metadata": {
    "collapsed": true
   },
   "outputs": [],
   "source": [
    "import warnings\n",
    "warnings.filterwarnings('ignore')"
   ]
  },
  {
   "cell_type": "markdown",
   "metadata": {
    "_cell_guid": "c5ab9cf5-b38a-43a7-8f38-b09551b88ac1",
    "_uuid": "c649488e0e8c84615d8865763cfb10e66a72e3f3"
   },
   "source": [
    "## Data set cleaning <a class=\"anchor\" id=\"first-bullet\"></a>"
   ]
  },
  {
   "cell_type": "markdown",
   "metadata": {
    "_cell_guid": "af749267-ad41-4083-a886-2925b20b775a",
    "_uuid": "641b81d04ee698f9bb3c7ff062f97026bdc57a33"
   },
   "source": [
    "Read the data set <a class=\"anchor\" id=\"read_data\"></a>"
   ]
  },
  {
   "cell_type": "code",
   "execution_count": 3,
   "metadata": {
    "_cell_guid": "e604c7aa-3f21-4b8c-867c-11defcd16a19",
    "_uuid": "cc36f113dcfbedc1ef1fe8b16c8a047c862e65bd",
    "collapsed": true
   },
   "outputs": [],
   "source": [
    "initial_data = pd.read_csv('../input/data.csv')"
   ]
  },
  {
   "cell_type": "code",
   "execution_count": 4,
   "metadata": {
    "_cell_guid": "5cc1573c-4b6c-4b5a-97c4-2150fb1258dd",
    "_uuid": "ae094990c92f0a3e5d6823c87e141498c619c533",
    "scrolled": false
   },
   "outputs": [
    {
     "data": {
      "text/html": [
       "<div>\n",
       "<style scoped>\n",
       "    .dataframe tbody tr th:only-of-type {\n",
       "        vertical-align: middle;\n",
       "    }\n",
       "\n",
       "    .dataframe tbody tr th {\n",
       "        vertical-align: top;\n",
       "    }\n",
       "\n",
       "    .dataframe thead th {\n",
       "        text-align: right;\n",
       "    }\n",
       "</style>\n",
       "<table border=\"1\" class=\"dataframe\">\n",
       "  <thead>\n",
       "    <tr style=\"text-align: right;\">\n",
       "      <th></th>\n",
       "      <th>id</th>\n",
       "      <th>diagnosis</th>\n",
       "      <th>radius_mean</th>\n",
       "      <th>texture_mean</th>\n",
       "      <th>perimeter_mean</th>\n",
       "      <th>area_mean</th>\n",
       "      <th>smoothness_mean</th>\n",
       "      <th>compactness_mean</th>\n",
       "      <th>concavity_mean</th>\n",
       "      <th>concave points_mean</th>\n",
       "      <th>...</th>\n",
       "      <th>texture_worst</th>\n",
       "      <th>perimeter_worst</th>\n",
       "      <th>area_worst</th>\n",
       "      <th>smoothness_worst</th>\n",
       "      <th>compactness_worst</th>\n",
       "      <th>concavity_worst</th>\n",
       "      <th>concave points_worst</th>\n",
       "      <th>symmetry_worst</th>\n",
       "      <th>fractal_dimension_worst</th>\n",
       "      <th>Unnamed: 32</th>\n",
       "    </tr>\n",
       "  </thead>\n",
       "  <tbody>\n",
       "    <tr>\n",
       "      <th>0</th>\n",
       "      <td>842302</td>\n",
       "      <td>M</td>\n",
       "      <td>17.99</td>\n",
       "      <td>10.38</td>\n",
       "      <td>122.80</td>\n",
       "      <td>1001.0</td>\n",
       "      <td>0.11840</td>\n",
       "      <td>0.27760</td>\n",
       "      <td>0.3001</td>\n",
       "      <td>0.14710</td>\n",
       "      <td>...</td>\n",
       "      <td>17.33</td>\n",
       "      <td>184.60</td>\n",
       "      <td>2019.0</td>\n",
       "      <td>0.1622</td>\n",
       "      <td>0.6656</td>\n",
       "      <td>0.7119</td>\n",
       "      <td>0.2654</td>\n",
       "      <td>0.4601</td>\n",
       "      <td>0.11890</td>\n",
       "      <td>NaN</td>\n",
       "    </tr>\n",
       "    <tr>\n",
       "      <th>1</th>\n",
       "      <td>842517</td>\n",
       "      <td>M</td>\n",
       "      <td>20.57</td>\n",
       "      <td>17.77</td>\n",
       "      <td>132.90</td>\n",
       "      <td>1326.0</td>\n",
       "      <td>0.08474</td>\n",
       "      <td>0.07864</td>\n",
       "      <td>0.0869</td>\n",
       "      <td>0.07017</td>\n",
       "      <td>...</td>\n",
       "      <td>23.41</td>\n",
       "      <td>158.80</td>\n",
       "      <td>1956.0</td>\n",
       "      <td>0.1238</td>\n",
       "      <td>0.1866</td>\n",
       "      <td>0.2416</td>\n",
       "      <td>0.1860</td>\n",
       "      <td>0.2750</td>\n",
       "      <td>0.08902</td>\n",
       "      <td>NaN</td>\n",
       "    </tr>\n",
       "    <tr>\n",
       "      <th>2</th>\n",
       "      <td>84300903</td>\n",
       "      <td>M</td>\n",
       "      <td>19.69</td>\n",
       "      <td>21.25</td>\n",
       "      <td>130.00</td>\n",
       "      <td>1203.0</td>\n",
       "      <td>0.10960</td>\n",
       "      <td>0.15990</td>\n",
       "      <td>0.1974</td>\n",
       "      <td>0.12790</td>\n",
       "      <td>...</td>\n",
       "      <td>25.53</td>\n",
       "      <td>152.50</td>\n",
       "      <td>1709.0</td>\n",
       "      <td>0.1444</td>\n",
       "      <td>0.4245</td>\n",
       "      <td>0.4504</td>\n",
       "      <td>0.2430</td>\n",
       "      <td>0.3613</td>\n",
       "      <td>0.08758</td>\n",
       "      <td>NaN</td>\n",
       "    </tr>\n",
       "    <tr>\n",
       "      <th>3</th>\n",
       "      <td>84348301</td>\n",
       "      <td>M</td>\n",
       "      <td>11.42</td>\n",
       "      <td>20.38</td>\n",
       "      <td>77.58</td>\n",
       "      <td>386.1</td>\n",
       "      <td>0.14250</td>\n",
       "      <td>0.28390</td>\n",
       "      <td>0.2414</td>\n",
       "      <td>0.10520</td>\n",
       "      <td>...</td>\n",
       "      <td>26.50</td>\n",
       "      <td>98.87</td>\n",
       "      <td>567.7</td>\n",
       "      <td>0.2098</td>\n",
       "      <td>0.8663</td>\n",
       "      <td>0.6869</td>\n",
       "      <td>0.2575</td>\n",
       "      <td>0.6638</td>\n",
       "      <td>0.17300</td>\n",
       "      <td>NaN</td>\n",
       "    </tr>\n",
       "    <tr>\n",
       "      <th>4</th>\n",
       "      <td>84358402</td>\n",
       "      <td>M</td>\n",
       "      <td>20.29</td>\n",
       "      <td>14.34</td>\n",
       "      <td>135.10</td>\n",
       "      <td>1297.0</td>\n",
       "      <td>0.10030</td>\n",
       "      <td>0.13280</td>\n",
       "      <td>0.1980</td>\n",
       "      <td>0.10430</td>\n",
       "      <td>...</td>\n",
       "      <td>16.67</td>\n",
       "      <td>152.20</td>\n",
       "      <td>1575.0</td>\n",
       "      <td>0.1374</td>\n",
       "      <td>0.2050</td>\n",
       "      <td>0.4000</td>\n",
       "      <td>0.1625</td>\n",
       "      <td>0.2364</td>\n",
       "      <td>0.07678</td>\n",
       "      <td>NaN</td>\n",
       "    </tr>\n",
       "  </tbody>\n",
       "</table>\n",
       "<p>5 rows × 33 columns</p>\n",
       "</div>"
      ],
      "text/plain": [
       "         id diagnosis  radius_mean  texture_mean  perimeter_mean  area_mean  \\\n",
       "0    842302         M        17.99         10.38          122.80     1001.0   \n",
       "1    842517         M        20.57         17.77          132.90     1326.0   \n",
       "2  84300903         M        19.69         21.25          130.00     1203.0   \n",
       "3  84348301         M        11.42         20.38           77.58      386.1   \n",
       "4  84358402         M        20.29         14.34          135.10     1297.0   \n",
       "\n",
       "   smoothness_mean  compactness_mean  concavity_mean  concave points_mean  \\\n",
       "0          0.11840           0.27760          0.3001              0.14710   \n",
       "1          0.08474           0.07864          0.0869              0.07017   \n",
       "2          0.10960           0.15990          0.1974              0.12790   \n",
       "3          0.14250           0.28390          0.2414              0.10520   \n",
       "4          0.10030           0.13280          0.1980              0.10430   \n",
       "\n",
       "      ...       texture_worst  perimeter_worst  area_worst  smoothness_worst  \\\n",
       "0     ...               17.33           184.60      2019.0            0.1622   \n",
       "1     ...               23.41           158.80      1956.0            0.1238   \n",
       "2     ...               25.53           152.50      1709.0            0.1444   \n",
       "3     ...               26.50            98.87       567.7            0.2098   \n",
       "4     ...               16.67           152.20      1575.0            0.1374   \n",
       "\n",
       "   compactness_worst  concavity_worst  concave points_worst  symmetry_worst  \\\n",
       "0             0.6656           0.7119                0.2654          0.4601   \n",
       "1             0.1866           0.2416                0.1860          0.2750   \n",
       "2             0.4245           0.4504                0.2430          0.3613   \n",
       "3             0.8663           0.6869                0.2575          0.6638   \n",
       "4             0.2050           0.4000                0.1625          0.2364   \n",
       "\n",
       "   fractal_dimension_worst  Unnamed: 32  \n",
       "0                  0.11890          NaN  \n",
       "1                  0.08902          NaN  \n",
       "2                  0.08758          NaN  \n",
       "3                  0.17300          NaN  \n",
       "4                  0.07678          NaN  \n",
       "\n",
       "[5 rows x 33 columns]"
      ]
     },
     "execution_count": 4,
     "metadata": {},
     "output_type": "execute_result"
    }
   ],
   "source": [
    "initial_data.head()"
   ]
  },
  {
   "cell_type": "markdown",
   "metadata": {
    "_cell_guid": "d40c0c4a-7bdb-4414-a675-f404ca81d448",
    "_uuid": "05105d99c7123f12cfd0dcb86fafd1f7b3b4fc52"
   },
   "source": [
    "Removing 'ID' column <a class=\"anchor\" id=\"remove_id\"></a>"
   ]
  },
  {
   "cell_type": "code",
   "execution_count": 5,
   "metadata": {
    "_cell_guid": "feb08ee0-3f9d-487d-a9c5-19514495f977",
    "_uuid": "a31007d41b9d5fc9392115b4c3559b45fe2e607a",
    "collapsed": true
   },
   "outputs": [],
   "source": [
    "initial_data.drop(initial_data.columns[0], axis=1, inplace=True)"
   ]
  },
  {
   "cell_type": "code",
   "execution_count": 6,
   "metadata": {
    "_cell_guid": "246797e8-db3d-4627-afb9-5ddd512a7fb4",
    "_uuid": "b080f6b687cd7f5c99d072b27926c1951902b6c1",
    "collapsed": true
   },
   "outputs": [],
   "source": [
    "for column in initial_data.columns:\n",
    "    if \"Unnamed\" in column:\n",
    "        initial_data.drop(column, axis = 1, inplace=True)"
   ]
  },
  {
   "cell_type": "code",
   "execution_count": 7,
   "metadata": {
    "_cell_guid": "4cc3fea8-63cf-4486-a0bd-1b93a34978d2",
    "_uuid": "4ff9f480624959ba9bb89854cad0ea0693018cf8",
    "scrolled": true
   },
   "outputs": [
    {
     "data": {
      "text/html": [
       "<div>\n",
       "<style scoped>\n",
       "    .dataframe tbody tr th:only-of-type {\n",
       "        vertical-align: middle;\n",
       "    }\n",
       "\n",
       "    .dataframe tbody tr th {\n",
       "        vertical-align: top;\n",
       "    }\n",
       "\n",
       "    .dataframe thead th {\n",
       "        text-align: right;\n",
       "    }\n",
       "</style>\n",
       "<table border=\"1\" class=\"dataframe\">\n",
       "  <thead>\n",
       "    <tr style=\"text-align: right;\">\n",
       "      <th></th>\n",
       "      <th>diagnosis</th>\n",
       "      <th>radius_mean</th>\n",
       "      <th>texture_mean</th>\n",
       "      <th>perimeter_mean</th>\n",
       "      <th>area_mean</th>\n",
       "      <th>smoothness_mean</th>\n",
       "      <th>compactness_mean</th>\n",
       "      <th>concavity_mean</th>\n",
       "      <th>concave points_mean</th>\n",
       "      <th>symmetry_mean</th>\n",
       "      <th>...</th>\n",
       "      <th>radius_worst</th>\n",
       "      <th>texture_worst</th>\n",
       "      <th>perimeter_worst</th>\n",
       "      <th>area_worst</th>\n",
       "      <th>smoothness_worst</th>\n",
       "      <th>compactness_worst</th>\n",
       "      <th>concavity_worst</th>\n",
       "      <th>concave points_worst</th>\n",
       "      <th>symmetry_worst</th>\n",
       "      <th>fractal_dimension_worst</th>\n",
       "    </tr>\n",
       "  </thead>\n",
       "  <tbody>\n",
       "    <tr>\n",
       "      <th>0</th>\n",
       "      <td>M</td>\n",
       "      <td>17.99</td>\n",
       "      <td>10.38</td>\n",
       "      <td>122.80</td>\n",
       "      <td>1001.0</td>\n",
       "      <td>0.11840</td>\n",
       "      <td>0.27760</td>\n",
       "      <td>0.3001</td>\n",
       "      <td>0.14710</td>\n",
       "      <td>0.2419</td>\n",
       "      <td>...</td>\n",
       "      <td>25.38</td>\n",
       "      <td>17.33</td>\n",
       "      <td>184.60</td>\n",
       "      <td>2019.0</td>\n",
       "      <td>0.1622</td>\n",
       "      <td>0.6656</td>\n",
       "      <td>0.7119</td>\n",
       "      <td>0.2654</td>\n",
       "      <td>0.4601</td>\n",
       "      <td>0.11890</td>\n",
       "    </tr>\n",
       "    <tr>\n",
       "      <th>1</th>\n",
       "      <td>M</td>\n",
       "      <td>20.57</td>\n",
       "      <td>17.77</td>\n",
       "      <td>132.90</td>\n",
       "      <td>1326.0</td>\n",
       "      <td>0.08474</td>\n",
       "      <td>0.07864</td>\n",
       "      <td>0.0869</td>\n",
       "      <td>0.07017</td>\n",
       "      <td>0.1812</td>\n",
       "      <td>...</td>\n",
       "      <td>24.99</td>\n",
       "      <td>23.41</td>\n",
       "      <td>158.80</td>\n",
       "      <td>1956.0</td>\n",
       "      <td>0.1238</td>\n",
       "      <td>0.1866</td>\n",
       "      <td>0.2416</td>\n",
       "      <td>0.1860</td>\n",
       "      <td>0.2750</td>\n",
       "      <td>0.08902</td>\n",
       "    </tr>\n",
       "    <tr>\n",
       "      <th>2</th>\n",
       "      <td>M</td>\n",
       "      <td>19.69</td>\n",
       "      <td>21.25</td>\n",
       "      <td>130.00</td>\n",
       "      <td>1203.0</td>\n",
       "      <td>0.10960</td>\n",
       "      <td>0.15990</td>\n",
       "      <td>0.1974</td>\n",
       "      <td>0.12790</td>\n",
       "      <td>0.2069</td>\n",
       "      <td>...</td>\n",
       "      <td>23.57</td>\n",
       "      <td>25.53</td>\n",
       "      <td>152.50</td>\n",
       "      <td>1709.0</td>\n",
       "      <td>0.1444</td>\n",
       "      <td>0.4245</td>\n",
       "      <td>0.4504</td>\n",
       "      <td>0.2430</td>\n",
       "      <td>0.3613</td>\n",
       "      <td>0.08758</td>\n",
       "    </tr>\n",
       "    <tr>\n",
       "      <th>3</th>\n",
       "      <td>M</td>\n",
       "      <td>11.42</td>\n",
       "      <td>20.38</td>\n",
       "      <td>77.58</td>\n",
       "      <td>386.1</td>\n",
       "      <td>0.14250</td>\n",
       "      <td>0.28390</td>\n",
       "      <td>0.2414</td>\n",
       "      <td>0.10520</td>\n",
       "      <td>0.2597</td>\n",
       "      <td>...</td>\n",
       "      <td>14.91</td>\n",
       "      <td>26.50</td>\n",
       "      <td>98.87</td>\n",
       "      <td>567.7</td>\n",
       "      <td>0.2098</td>\n",
       "      <td>0.8663</td>\n",
       "      <td>0.6869</td>\n",
       "      <td>0.2575</td>\n",
       "      <td>0.6638</td>\n",
       "      <td>0.17300</td>\n",
       "    </tr>\n",
       "    <tr>\n",
       "      <th>4</th>\n",
       "      <td>M</td>\n",
       "      <td>20.29</td>\n",
       "      <td>14.34</td>\n",
       "      <td>135.10</td>\n",
       "      <td>1297.0</td>\n",
       "      <td>0.10030</td>\n",
       "      <td>0.13280</td>\n",
       "      <td>0.1980</td>\n",
       "      <td>0.10430</td>\n",
       "      <td>0.1809</td>\n",
       "      <td>...</td>\n",
       "      <td>22.54</td>\n",
       "      <td>16.67</td>\n",
       "      <td>152.20</td>\n",
       "      <td>1575.0</td>\n",
       "      <td>0.1374</td>\n",
       "      <td>0.2050</td>\n",
       "      <td>0.4000</td>\n",
       "      <td>0.1625</td>\n",
       "      <td>0.2364</td>\n",
       "      <td>0.07678</td>\n",
       "    </tr>\n",
       "  </tbody>\n",
       "</table>\n",
       "<p>5 rows × 31 columns</p>\n",
       "</div>"
      ],
      "text/plain": [
       "  diagnosis  radius_mean  texture_mean  perimeter_mean  area_mean  \\\n",
       "0         M        17.99         10.38          122.80     1001.0   \n",
       "1         M        20.57         17.77          132.90     1326.0   \n",
       "2         M        19.69         21.25          130.00     1203.0   \n",
       "3         M        11.42         20.38           77.58      386.1   \n",
       "4         M        20.29         14.34          135.10     1297.0   \n",
       "\n",
       "   smoothness_mean  compactness_mean  concavity_mean  concave points_mean  \\\n",
       "0          0.11840           0.27760          0.3001              0.14710   \n",
       "1          0.08474           0.07864          0.0869              0.07017   \n",
       "2          0.10960           0.15990          0.1974              0.12790   \n",
       "3          0.14250           0.28390          0.2414              0.10520   \n",
       "4          0.10030           0.13280          0.1980              0.10430   \n",
       "\n",
       "   symmetry_mean           ...             radius_worst  texture_worst  \\\n",
       "0         0.2419           ...                    25.38          17.33   \n",
       "1         0.1812           ...                    24.99          23.41   \n",
       "2         0.2069           ...                    23.57          25.53   \n",
       "3         0.2597           ...                    14.91          26.50   \n",
       "4         0.1809           ...                    22.54          16.67   \n",
       "\n",
       "   perimeter_worst  area_worst  smoothness_worst  compactness_worst  \\\n",
       "0           184.60      2019.0            0.1622             0.6656   \n",
       "1           158.80      1956.0            0.1238             0.1866   \n",
       "2           152.50      1709.0            0.1444             0.4245   \n",
       "3            98.87       567.7            0.2098             0.8663   \n",
       "4           152.20      1575.0            0.1374             0.2050   \n",
       "\n",
       "   concavity_worst  concave points_worst  symmetry_worst  \\\n",
       "0           0.7119                0.2654          0.4601   \n",
       "1           0.2416                0.1860          0.2750   \n",
       "2           0.4504                0.2430          0.3613   \n",
       "3           0.6869                0.2575          0.6638   \n",
       "4           0.4000                0.1625          0.2364   \n",
       "\n",
       "   fractal_dimension_worst  \n",
       "0                  0.11890  \n",
       "1                  0.08902  \n",
       "2                  0.08758  \n",
       "3                  0.17300  \n",
       "4                  0.07678  \n",
       "\n",
       "[5 rows x 31 columns]"
      ]
     },
     "execution_count": 7,
     "metadata": {},
     "output_type": "execute_result"
    }
   ],
   "source": [
    "initial_data.head()"
   ]
  },
  {
   "cell_type": "markdown",
   "metadata": {
    "_cell_guid": "1f104833-fe42-490f-82eb-a7c7a4bfccec",
    "_uuid": "4a9e362b7f71e33a56e83e2a8f9ed20bd1ee9a36"
   },
   "source": [
    "Binary diagnosis input <a class=\"anchor\" id=\"to_dummies\"></a>"
   ]
  },
  {
   "cell_type": "code",
   "execution_count": 8,
   "metadata": {
    "_cell_guid": "56a911e8-2db7-4f21-a376-add017f495fc",
    "_uuid": "3834834e1e9170e206f8fcfd2374ba3e342abfe4",
    "collapsed": true,
    "scrolled": true
   },
   "outputs": [],
   "source": [
    "initial_data['diagnosis']=initial_data['diagnosis'].map({'M':1,'B':0})"
   ]
  },
  {
   "cell_type": "code",
   "execution_count": 9,
   "metadata": {
    "_cell_guid": "b48a3dfa-d9b9-4e20-8af5-f63ccdbe30b3",
    "_uuid": "1570c24d9eb0426c20eabbb136d54abfc2edd45a"
   },
   "outputs": [
    {
     "data": {
      "text/html": [
       "<div>\n",
       "<style scoped>\n",
       "    .dataframe tbody tr th:only-of-type {\n",
       "        vertical-align: middle;\n",
       "    }\n",
       "\n",
       "    .dataframe tbody tr th {\n",
       "        vertical-align: top;\n",
       "    }\n",
       "\n",
       "    .dataframe thead th {\n",
       "        text-align: right;\n",
       "    }\n",
       "</style>\n",
       "<table border=\"1\" class=\"dataframe\">\n",
       "  <thead>\n",
       "    <tr style=\"text-align: right;\">\n",
       "      <th></th>\n",
       "      <th>diagnosis</th>\n",
       "      <th>radius_mean</th>\n",
       "      <th>texture_mean</th>\n",
       "      <th>perimeter_mean</th>\n",
       "      <th>area_mean</th>\n",
       "      <th>smoothness_mean</th>\n",
       "      <th>compactness_mean</th>\n",
       "      <th>concavity_mean</th>\n",
       "      <th>concave points_mean</th>\n",
       "      <th>symmetry_mean</th>\n",
       "      <th>...</th>\n",
       "      <th>radius_worst</th>\n",
       "      <th>texture_worst</th>\n",
       "      <th>perimeter_worst</th>\n",
       "      <th>area_worst</th>\n",
       "      <th>smoothness_worst</th>\n",
       "      <th>compactness_worst</th>\n",
       "      <th>concavity_worst</th>\n",
       "      <th>concave points_worst</th>\n",
       "      <th>symmetry_worst</th>\n",
       "      <th>fractal_dimension_worst</th>\n",
       "    </tr>\n",
       "  </thead>\n",
       "  <tbody>\n",
       "    <tr>\n",
       "      <th>0</th>\n",
       "      <td>1</td>\n",
       "      <td>17.99</td>\n",
       "      <td>10.38</td>\n",
       "      <td>122.80</td>\n",
       "      <td>1001.0</td>\n",
       "      <td>0.11840</td>\n",
       "      <td>0.27760</td>\n",
       "      <td>0.3001</td>\n",
       "      <td>0.14710</td>\n",
       "      <td>0.2419</td>\n",
       "      <td>...</td>\n",
       "      <td>25.38</td>\n",
       "      <td>17.33</td>\n",
       "      <td>184.60</td>\n",
       "      <td>2019.0</td>\n",
       "      <td>0.1622</td>\n",
       "      <td>0.6656</td>\n",
       "      <td>0.7119</td>\n",
       "      <td>0.2654</td>\n",
       "      <td>0.4601</td>\n",
       "      <td>0.11890</td>\n",
       "    </tr>\n",
       "    <tr>\n",
       "      <th>1</th>\n",
       "      <td>1</td>\n",
       "      <td>20.57</td>\n",
       "      <td>17.77</td>\n",
       "      <td>132.90</td>\n",
       "      <td>1326.0</td>\n",
       "      <td>0.08474</td>\n",
       "      <td>0.07864</td>\n",
       "      <td>0.0869</td>\n",
       "      <td>0.07017</td>\n",
       "      <td>0.1812</td>\n",
       "      <td>...</td>\n",
       "      <td>24.99</td>\n",
       "      <td>23.41</td>\n",
       "      <td>158.80</td>\n",
       "      <td>1956.0</td>\n",
       "      <td>0.1238</td>\n",
       "      <td>0.1866</td>\n",
       "      <td>0.2416</td>\n",
       "      <td>0.1860</td>\n",
       "      <td>0.2750</td>\n",
       "      <td>0.08902</td>\n",
       "    </tr>\n",
       "    <tr>\n",
       "      <th>2</th>\n",
       "      <td>1</td>\n",
       "      <td>19.69</td>\n",
       "      <td>21.25</td>\n",
       "      <td>130.00</td>\n",
       "      <td>1203.0</td>\n",
       "      <td>0.10960</td>\n",
       "      <td>0.15990</td>\n",
       "      <td>0.1974</td>\n",
       "      <td>0.12790</td>\n",
       "      <td>0.2069</td>\n",
       "      <td>...</td>\n",
       "      <td>23.57</td>\n",
       "      <td>25.53</td>\n",
       "      <td>152.50</td>\n",
       "      <td>1709.0</td>\n",
       "      <td>0.1444</td>\n",
       "      <td>0.4245</td>\n",
       "      <td>0.4504</td>\n",
       "      <td>0.2430</td>\n",
       "      <td>0.3613</td>\n",
       "      <td>0.08758</td>\n",
       "    </tr>\n",
       "    <tr>\n",
       "      <th>3</th>\n",
       "      <td>1</td>\n",
       "      <td>11.42</td>\n",
       "      <td>20.38</td>\n",
       "      <td>77.58</td>\n",
       "      <td>386.1</td>\n",
       "      <td>0.14250</td>\n",
       "      <td>0.28390</td>\n",
       "      <td>0.2414</td>\n",
       "      <td>0.10520</td>\n",
       "      <td>0.2597</td>\n",
       "      <td>...</td>\n",
       "      <td>14.91</td>\n",
       "      <td>26.50</td>\n",
       "      <td>98.87</td>\n",
       "      <td>567.7</td>\n",
       "      <td>0.2098</td>\n",
       "      <td>0.8663</td>\n",
       "      <td>0.6869</td>\n",
       "      <td>0.2575</td>\n",
       "      <td>0.6638</td>\n",
       "      <td>0.17300</td>\n",
       "    </tr>\n",
       "    <tr>\n",
       "      <th>4</th>\n",
       "      <td>1</td>\n",
       "      <td>20.29</td>\n",
       "      <td>14.34</td>\n",
       "      <td>135.10</td>\n",
       "      <td>1297.0</td>\n",
       "      <td>0.10030</td>\n",
       "      <td>0.13280</td>\n",
       "      <td>0.1980</td>\n",
       "      <td>0.10430</td>\n",
       "      <td>0.1809</td>\n",
       "      <td>...</td>\n",
       "      <td>22.54</td>\n",
       "      <td>16.67</td>\n",
       "      <td>152.20</td>\n",
       "      <td>1575.0</td>\n",
       "      <td>0.1374</td>\n",
       "      <td>0.2050</td>\n",
       "      <td>0.4000</td>\n",
       "      <td>0.1625</td>\n",
       "      <td>0.2364</td>\n",
       "      <td>0.07678</td>\n",
       "    </tr>\n",
       "  </tbody>\n",
       "</table>\n",
       "<p>5 rows × 31 columns</p>\n",
       "</div>"
      ],
      "text/plain": [
       "   diagnosis  radius_mean  texture_mean  perimeter_mean  area_mean  \\\n",
       "0          1        17.99         10.38          122.80     1001.0   \n",
       "1          1        20.57         17.77          132.90     1326.0   \n",
       "2          1        19.69         21.25          130.00     1203.0   \n",
       "3          1        11.42         20.38           77.58      386.1   \n",
       "4          1        20.29         14.34          135.10     1297.0   \n",
       "\n",
       "   smoothness_mean  compactness_mean  concavity_mean  concave points_mean  \\\n",
       "0          0.11840           0.27760          0.3001              0.14710   \n",
       "1          0.08474           0.07864          0.0869              0.07017   \n",
       "2          0.10960           0.15990          0.1974              0.12790   \n",
       "3          0.14250           0.28390          0.2414              0.10520   \n",
       "4          0.10030           0.13280          0.1980              0.10430   \n",
       "\n",
       "   symmetry_mean           ...             radius_worst  texture_worst  \\\n",
       "0         0.2419           ...                    25.38          17.33   \n",
       "1         0.1812           ...                    24.99          23.41   \n",
       "2         0.2069           ...                    23.57          25.53   \n",
       "3         0.2597           ...                    14.91          26.50   \n",
       "4         0.1809           ...                    22.54          16.67   \n",
       "\n",
       "   perimeter_worst  area_worst  smoothness_worst  compactness_worst  \\\n",
       "0           184.60      2019.0            0.1622             0.6656   \n",
       "1           158.80      1956.0            0.1238             0.1866   \n",
       "2           152.50      1709.0            0.1444             0.4245   \n",
       "3            98.87       567.7            0.2098             0.8663   \n",
       "4           152.20      1575.0            0.1374             0.2050   \n",
       "\n",
       "   concavity_worst  concave points_worst  symmetry_worst  \\\n",
       "0           0.7119                0.2654          0.4601   \n",
       "1           0.2416                0.1860          0.2750   \n",
       "2           0.4504                0.2430          0.3613   \n",
       "3           0.6869                0.2575          0.6638   \n",
       "4           0.4000                0.1625          0.2364   \n",
       "\n",
       "   fractal_dimension_worst  \n",
       "0                  0.11890  \n",
       "1                  0.08902  \n",
       "2                  0.08758  \n",
       "3                  0.17300  \n",
       "4                  0.07678  \n",
       "\n",
       "[5 rows x 31 columns]"
      ]
     },
     "execution_count": 9,
     "metadata": {},
     "output_type": "execute_result"
    }
   ],
   "source": [
    "initial_data.head()"
   ]
  },
  {
   "cell_type": "code",
   "execution_count": 10,
   "metadata": {
    "_cell_guid": "85545394-df6a-4152-a968-465e49d97d04",
    "_uuid": "3b3ded4c61f5b43ca1daacca2fe4d1cef3df105a",
    "collapsed": true
   },
   "outputs": [],
   "source": [
    "X = initial_data[['radius_mean', 'texture_mean', 'perimeter_mean', 'area_mean', 'smoothness_mean', 'compactness_mean', 'concavity_mean', 'concave points_mean', 'symmetry_mean','fractal_dimension_mean',\n",
    "                 'radius_se', 'texture_se', 'perimeter_se', 'area_se', 'smoothness_se', 'compactness_se', 'concavity_se', 'concave points_se', 'symmetry_se', 'fractal_dimension_se',\n",
    "                 'radius_worst', 'texture_worst', 'perimeter_worst', 'area_worst', 'smoothness_worst', 'compactness_worst', 'concavity_worst', 'concave points_worst', 'symmetry_worst','fractal_dimension_worst']]\n",
    "\n",
    "y = initial_data['diagnosis']"
   ]
  },
  {
   "cell_type": "markdown",
   "metadata": {
    "_cell_guid": "ae276eba-e8b5-4a15-b910-a13fa5fb97e1",
    "_uuid": "f7fc71405e75ed7a4dc4256f91448640eae01ddd"
   },
   "source": [
    "Missing values <a class=\"anchor\" id=\"missing values\"></a>"
   ]
  },
  {
   "cell_type": "code",
   "execution_count": 11,
   "metadata": {
    "_cell_guid": "b1860ed1-be0b-4e76-a0b0-bb0fbbcaf55d",
    "_uuid": "daa317ea57d4c2f89ae4928ef26115b0936378ef",
    "collapsed": true
   },
   "outputs": [],
   "source": [
    "col_labels = ['diagnosis','radius_mean', 'texture_mean', 'perimeter_mean', 'area_mean', 'smoothness_mean', 'compactness_mean', 'concavity_mean', 'concave_points_mean', 'symmetry_mean','fractal_dimension_mean',\n",
    "              'radius_se', 'texture_se', 'perimeter_se', 'area_se', 'smoothness_se', 'compactness_se', 'concavity_se', 'concave points_se', 'symmetry_se', 'fractal_dimension_se',\n",
    "              'radius_worst', 'texture_worst', 'perimeter_worst', 'area_worst', 'smoothness_worst', 'compactness_worst', 'concavity_worst', 'concave points_worst', 'symmetry_worst','fractal_dimension_worst'\n",
    "             ]\n",
    "initial_data.columns = col_labels"
   ]
  },
  {
   "cell_type": "code",
   "execution_count": 12,
   "metadata": {
    "_cell_guid": "28b3f6a2-1129-4422-b504-719912487ae1",
    "_uuid": "72f1796eb56fa7d873cd4c19472d266a5bdba28a",
    "scrolled": true
   },
   "outputs": [
    {
     "name": "stdout",
     "output_type": "stream",
     "text": [
      "diagnosis\n",
      "No missing values\n",
      " \n",
      "radius_mean\n",
      "No missing values\n",
      " \n",
      "texture_mean\n",
      "No missing values\n",
      " \n",
      "perimeter_mean\n",
      "No missing values\n",
      " \n",
      "area_mean\n",
      "No missing values\n",
      " \n",
      "smoothness_mean\n",
      "No missing values\n",
      " \n",
      "compactness_mean\n",
      "No missing values\n",
      " \n",
      "concavity_mean\n",
      "No missing values\n",
      " \n",
      "concave_points_mean\n",
      "No missing values\n",
      " \n",
      "symmetry_mean\n",
      "No missing values\n",
      " \n",
      "fractal_dimension_mean\n",
      "No missing values\n",
      " \n",
      "radius_se\n",
      "No missing values\n",
      " \n",
      "texture_se\n",
      "No missing values\n",
      " \n",
      "perimeter_se\n",
      "No missing values\n",
      " \n",
      "area_se\n",
      "No missing values\n",
      " \n",
      "smoothness_se\n",
      "No missing values\n",
      " \n",
      "compactness_se\n",
      "No missing values\n",
      " \n",
      "concavity_se\n",
      "No missing values\n",
      " \n",
      "concave points_se\n",
      "No missing values\n",
      " \n",
      "symmetry_se\n",
      "No missing values\n",
      " \n",
      "fractal_dimension_se\n",
      "No missing values\n",
      " \n",
      "radius_worst\n",
      "No missing values\n",
      " \n",
      "texture_worst\n",
      "No missing values\n",
      " \n",
      "perimeter_worst\n",
      "No missing values\n",
      " \n",
      "area_worst\n",
      "No missing values\n",
      " \n",
      "smoothness_worst\n",
      "No missing values\n",
      " \n",
      "compactness_worst\n",
      "No missing values\n",
      " \n",
      "concavity_worst\n",
      "No missing values\n",
      " \n",
      "concave points_worst\n",
      "No missing values\n",
      " \n",
      "symmetry_worst\n",
      "No missing values\n",
      " \n",
      "fractal_dimension_worst\n",
      "No missing values\n",
      " \n"
     ]
    }
   ],
   "source": [
    "for c in col_labels:\n",
    "    no_missing = initial_data[c].isnull().sum()\n",
    "    if no_missing > 0:\n",
    "        print(c)\n",
    "        print(no_missing)\n",
    "    else:\n",
    "        print(c)\n",
    "        print(\"No missing values\")\n",
    "        print(' ')"
   ]
  },
  {
   "cell_type": "markdown",
   "metadata": {
    "_cell_guid": "6b831165-bc80-46e8-96bb-f2ddb1f842d5",
    "_uuid": "7b5d9f878b4547e6ec19d2ea6c8aa607230066ea"
   },
   "source": [
    "Class distribution <a class=\"anchor\" id=\"class_dist\"></a>"
   ]
  },
  {
   "cell_type": "markdown",
   "metadata": {
    "_cell_guid": "c1347e5a-0367-4911-af62-371ed1a70c49",
    "_uuid": "ac4bc95a3324e7d8bca5ddae9aa39f12add306b5"
   },
   "source": [
    "#### Set is not perfectly balanced, however the differene in class distribution is not that significant to apply solutions dedicated for highly imbalanced cases."
   ]
  },
  {
   "cell_type": "code",
   "execution_count": 13,
   "metadata": {
    "_cell_guid": "9ff0d552-3e46-4deb-ac7e-b6e44537ec4c",
    "_uuid": "57fce9630cc9b084f22a16cd4ba1736c0ffa1148",
    "scrolled": false
   },
   "outputs": [
    {
     "data": {
      "image/png": "[encoded data removed]",
      "text/plain": [
       "<matplotlib.figure.Figure at 0x7f8f29c1b048>"
      ]
     },
     "metadata": {},
     "output_type": "display_data"
    }
   ],
   "source": [
    "import seaborn as sns\n",
    "import matplotlib.pyplot as plt\n",
    "\n",
    "sns.countplot(initial_data['diagnosis'],label=\"Sum\")\n",
    "\n",
    "plt.show()"
   ]
  },
  {
   "cell_type": "markdown",
   "metadata": {
    "_cell_guid": "85a62a13-2b6a-4c6c-a98b-86eb9fc3a64c",
    "_uuid": "d4c4a2527ddf0a31156b6b5dd3e66c025d18036d"
   },
   "source": [
    "## Testing algorithms <a class=\"anchor\" id=\"second-bullet\"></a>"
   ]
  },
  {
   "cell_type": "markdown",
   "metadata": {
    "_cell_guid": "5f6fe121-7568-420e-828e-a47da55f3cc6",
    "_uuid": "aa263fa762f1108d5f089d41ae5d9364376c8003"
   },
   "source": [
    "### [Data set without dimensionality reduction](#without_red)\n",
    "\n",
    "### Dimensionality reduction:\n",
    "\n",
    "### [Correlation coefficient score](#correlation)\n",
    "### [Voting classifier](#voting)\n",
    "### [Linear SVC + SelectFromModel](#linear_model)\n",
    "### [Linear SVC + RFECV](#linear_rfecv)\n",
    "### [Tree-based feature selection](#tree)\n",
    "#### Classifiers:\n",
    "\n",
    "* Logistic Regression\n",
    "* Decision Tree\n",
    "* Support Vector Machine\n",
    "* Linear Discriminant Analysis\n",
    "* Quadratic Discriminant Analysis\n",
    "* Random Forest\n",
    "* K-Nearest Neighbors\n",
    "* Naive Bayes\n",
    "\n",
    "#### Scoring:\n",
    "\n",
    "* precision score\n",
    "* recall score\n",
    "* F1 score\n",
    "* support score\n",
    "* accuracy score\n",
    "* AUC/ROC"
   ]
  },
  {
   "cell_type": "markdown",
   "metadata": {
    "_cell_guid": "4924f1fe-d239-4448-bd92-938b5bb5da24",
    "_uuid": "f0389d93abd38470fa4799aaadc72cf40719d166"
   },
   "source": [
    "## Withouth reduction <a class=\"anchor\" id=\"without_red\"></a>"
   ]
  },
  {
   "cell_type": "code",
   "execution_count": 14,
   "metadata": {
    "_cell_guid": "465c7d81-cd4d-4115-bb53-4e4da8986d45",
    "_uuid": "c0c19976e39ff94d607d76db807d15efd7827c0f",
    "collapsed": true
   },
   "outputs": [],
   "source": [
    "X_train, X_test, y_train, y_test = train_test_split(X,y,test_size=0.34)"
   ]
  },
  {
   "cell_type": "markdown",
   "metadata": {
    "_cell_guid": "0997f70c-ad11-44f6-b47e-3ea9f08579cf",
    "_uuid": "d3007beb16cf7e189f26dc2d3a757851cb47b8fd"
   },
   "source": [
    "#### Logistic Regression"
   ]
  },
  {
   "cell_type": "code",
   "execution_count": 15,
   "metadata": {
    "_cell_guid": "0b8fac1d-8a41-4e12-b682-aaaf64fe3d7a",
    "_uuid": "c1dc14c0a93c8c4200a80d8060b2b2c3d6515f7a",
    "collapsed": true
   },
   "outputs": [],
   "source": [
    "LR = LogisticRegression()\n",
    "\n",
    "scoring = ['accuracy', 'precision_macro', 'recall_macro' , 'f1_weighted', 'roc_auc']\n",
    "scores = cross_validate(LR, X_train, y_train, scoring=scoring, cv=20)\n",
    "\n",
    "sorted(scores.keys())\n",
    "LR_fit_time = scores['fit_time'].mean()\n",
    "LR_score_time = scores['score_time'].mean()\n",
    "LR_accuracy = scores['test_accuracy'].mean()\n",
    "LR_precision = scores['test_precision_macro'].mean()\n",
    "LR_recall = scores['test_recall_macro'].mean()\n",
    "LR_f1 = scores['test_f1_weighted'].mean()\n",
    "LR_roc = scores['test_roc_auc'].mean()"
   ]
  },
  {
   "cell_type": "markdown",
   "metadata": {
    "_cell_guid": "78f1b3f6-7a73-4d0e-a092-1aea7b142797",
    "_uuid": "cc7b04b85956c27cb9baa0c845cc67f3b29c75cb"
   },
   "source": [
    "#### Decision Tree"
   ]
  },
  {
   "cell_type": "code",
   "execution_count": 16,
   "metadata": {
    "_cell_guid": "daf7b0b9-51a9-4580-8cd7-f4c5952bfeff",
    "_uuid": "2cbb9131f56dd4fedcd86a409cbd37ccea069fea",
    "collapsed": true
   },
   "outputs": [],
   "source": [
    "decision_tree = DecisionTreeClassifier()\n",
    "\n",
    "scoring = ['accuracy', 'precision_macro', 'recall_macro' , 'f1_weighted', 'roc_auc']\n",
    "scores = cross_validate(decision_tree, X_train, y_train, scoring=scoring, cv=20)\n",
    "\n",
    "sorted(scores.keys())\n",
    "dtree_fit_time = scores['fit_time'].mean()\n",
    "dtree_score_time = scores['score_time'].mean()\n",
    "dtree_accuracy = scores['test_accuracy'].mean()\n",
    "dtree_precision = scores['test_precision_macro'].mean()\n",
    "dtree_recall = scores['test_recall_macro'].mean()\n",
    "dtree_f1 = scores['test_f1_weighted'].mean()\n",
    "dtree_roc = scores['test_roc_auc'].mean()"
   ]
  },
  {
   "cell_type": "markdown",
   "metadata": {
    "_cell_guid": "7aa3047c-ad22-4f9f-a521-41b591d79ee3",
    "_uuid": "9c089c92e12d458334f57de19b516e4d4d5decde"
   },
   "source": [
    "#### Support Vector Machine"
   ]
  },
  {
   "cell_type": "code",
   "execution_count": 17,
   "metadata": {
    "_cell_guid": "8579f8da-aa68-482e-8270-8bbff7c59fab",
    "_uuid": "7e1c5ed0dfe294ba8133c3cd1c7c90cd5a81b7d9",
    "collapsed": true
   },
   "outputs": [],
   "source": [
    "SVM = SVC(probability = True)\n",
    "\n",
    "scoring = ['accuracy','precision_macro', 'recall_macro' , 'f1_weighted', 'roc_auc']\n",
    "scores = cross_validate(SVM, X_train, y_train, scoring=scoring, cv=20)\n",
    "\n",
    "sorted(scores.keys())\n",
    "SVM_fit_time = scores['fit_time'].mean()\n",
    "SVM_score_time = scores['score_time'].mean()\n",
    "SVM_accuracy = scores['test_accuracy'].mean()\n",
    "SVM_precision = scores['test_precision_macro'].mean()\n",
    "SVM_recall = scores['test_recall_macro'].mean()\n",
    "SVM_f1 = scores['test_f1_weighted'].mean()\n",
    "SVM_roc = scores['test_roc_auc'].mean()"
   ]
  },
  {
   "cell_type": "markdown",
   "metadata": {
    "_cell_guid": "4967d1ee-a32d-4da4-ae64-b57ab78eb60e",
    "_uuid": "5633a6713b467c96057d8517b2377d4f89466da6"
   },
   "source": [
    "#### Linear Discriminant Analysis"
   ]
  },
  {
   "cell_type": "code",
   "execution_count": 18,
   "metadata": {
    "_cell_guid": "56bd9ff9-5c97-4bc5-a24d-417e104c508e",
    "_uuid": "fd2aa4e337fa75d75e072e08ba76bb24abe13be1",
    "collapsed": true
   },
   "outputs": [],
   "source": [
    "LDA = LinearDiscriminantAnalysis()\n",
    "\n",
    "scoring = ['accuracy', 'precision_macro', 'recall_macro' , 'f1_weighted', 'roc_auc']\n",
    "scores = cross_validate(LDA, X_train, y_train, scoring=scoring, cv=20)\n",
    "\n",
    "sorted(scores.keys())\n",
    "LDA_fit_time = scores['fit_time'].mean()\n",
    "LDA_score_time = scores['score_time'].mean()\n",
    "LDA_accuracy = scores['test_accuracy'].mean()\n",
    "LDA_precision = scores['test_precision_macro'].mean()\n",
    "LDA_recall = scores['test_recall_macro'].mean()\n",
    "LDA_f1 = scores['test_f1_weighted'].mean()\n",
    "LDA_roc = scores['test_roc_auc'].mean()"
   ]
  },
  {
   "cell_type": "markdown",
   "metadata": {
    "_cell_guid": "09b228af-aa16-4366-ba13-fccfc109c213",
    "_uuid": "fa0af845452ff7b59f459ae1a7f638a89d363750"
   },
   "source": [
    "#### Quadratic Discriminant Analysis"
   ]
  },
  {
   "cell_type": "code",
   "execution_count": 19,
   "metadata": {
    "_cell_guid": "d6adf483-24d6-4443-a37a-f4af75e22942",
    "_uuid": "ac5673baf1bfa00e352c3dddafced30b04ec422c",
    "collapsed": true
   },
   "outputs": [],
   "source": [
    "QDA = QuadraticDiscriminantAnalysis()\n",
    "\n",
    "scoring = ['accuracy', 'precision_macro', 'recall_macro' , 'f1_weighted', 'roc_auc']\n",
    "scores = cross_validate(QDA, X_train, y_train, scoring=scoring, cv=20)\n",
    "\n",
    "sorted(scores.keys())\n",
    "QDA_fit_time = scores['fit_time'].mean()\n",
    "QDA_score_time = scores['score_time'].mean()\n",
    "QDA_accuracy = scores['test_accuracy'].mean()\n",
    "QDA_precision = scores['test_precision_macro'].mean()\n",
    "QDA_recall = scores['test_recall_macro'].mean()\n",
    "QDA_f1 = scores['test_f1_weighted'].mean()\n",
    "QDA_roc = scores['test_roc_auc'].mean()"
   ]
  },
  {
   "cell_type": "markdown",
   "metadata": {
    "_cell_guid": "f63bcbf8-3ff4-4ee4-99e4-c1bdf2c92e21",
    "_uuid": "6ff907c9efede755b929952687342da03173ed82"
   },
   "source": [
    "#### Random Forest Classifier"
   ]
  },
  {
   "cell_type": "code",
   "execution_count": 20,
   "metadata": {
    "_cell_guid": "df8cf376-6350-4326-9f77-75561a27458f",
    "_uuid": "7788590ccdf37fadf6dc46ba38311a1f002ff8bd",
    "collapsed": true
   },
   "outputs": [],
   "source": [
    "random_forest = RandomForestClassifier()\n",
    "\n",
    "scoring = ['accuracy', 'precision_macro', 'recall_macro' , 'f1_weighted', 'roc_auc']\n",
    "scores = cross_validate(random_forest, X_train, y_train, scoring=scoring, cv=20)\n",
    "\n",
    "sorted(scores.keys())\n",
    "forest_fit_time = scores['fit_time'].mean()\n",
    "forest_score_time = scores['score_time'].mean()\n",
    "forest_accuracy = scores['test_accuracy'].mean()\n",
    "forest_precision = scores['test_precision_macro'].mean()\n",
    "forest_recall = scores['test_recall_macro'].mean()\n",
    "forest_f1 = scores['test_f1_weighted'].mean()\n",
    "forest_roc = scores['test_roc_auc'].mean()"
   ]
  },
  {
   "cell_type": "markdown",
   "metadata": {
    "_cell_guid": "2baef918-b418-42be-ac9d-a54a34df71f7",
    "_uuid": "b8030b4bcaafd3b1f1f3462eea2e640ef440881d"
   },
   "source": [
    "#### K-Nearest Neighbors"
   ]
  },
  {
   "cell_type": "code",
   "execution_count": 21,
   "metadata": {
    "_cell_guid": "9a0c12b3-b5f1-43d6-b854-3754ebf5d2d2",
    "_uuid": "1ca37a5cc655669a4e95340e16d429f0f097224e",
    "collapsed": true
   },
   "outputs": [],
   "source": [
    "KNN = KNeighborsClassifier()\n",
    "\n",
    "scoring = ['accuracy', 'precision_macro', 'recall_macro' , 'f1_weighted', 'roc_auc']\n",
    "scores = cross_validate(KNN, X_train, y_train, scoring=scoring, cv=20)\n",
    "\n",
    "sorted(scores.keys())\n",
    "KNN_fit_time = scores['fit_time'].mean()\n",
    "KNN_score_time = scores['score_time'].mean()\n",
    "KNN_accuracy = scores['test_accuracy'].mean()\n",
    "KNN_precision = scores['test_precision_macro'].mean()\n",
    "KNN_recall = scores['test_recall_macro'].mean()\n",
    "KNN_f1 = scores['test_f1_weighted'].mean()\n",
    "KNN_roc = scores['test_roc_auc'].mean()"
   ]
  },
  {
   "cell_type": "markdown",
   "metadata": {
    "_cell_guid": "a0bbb30b-9f7d-4cfa-8e32-b52f8da9bcd2",
    "_uuid": "587a7c5f4b2e40f6f3f623423a39d3fb6b900d25"
   },
   "source": [
    "#### Naive Bayes"
   ]
  },
  {
   "cell_type": "code",
   "execution_count": 22,
   "metadata": {
    "_cell_guid": "3424a862-f38f-4a3c-94cc-1683a34047d6",
    "_uuid": "9a925d07aaf836368e64d148de2474ce11e89b54",
    "collapsed": true
   },
   "outputs": [],
   "source": [
    "bayes = GaussianNB()\n",
    "\n",
    "scoring = ['accuracy', 'precision_macro', 'recall_macro' , 'f1_weighted', 'roc_auc']\n",
    "scores = cross_validate(bayes, X_train, y_train, scoring=scoring, cv=20)\n",
    "\n",
    "sorted(scores.keys())\n",
    "bayes_fit_time = scores['fit_time'].mean()\n",
    "bayes_score_time = scores['score_time'].mean()\n",
    "bayes_accuracy = scores['test_accuracy'].mean()\n",
    "bayes_precision = scores['test_precision_macro'].mean()\n",
    "bayes_recall = scores['test_recall_macro'].mean()\n",
    "bayes_f1 = scores['test_f1_weighted'].mean()\n",
    "bayes_roc = scores['test_roc_auc'].mean()"
   ]
  },
  {
   "cell_type": "markdown",
   "metadata": {
    "_cell_guid": "5ac1139e-ded3-4a01-9c3b-9d7d551a93df",
    "_uuid": "1f25ad6adf9231855aacad094ec3f5d4c0ea1a8e"
   },
   "source": [
    "### Comparison <a class=\"anchor\" id=\"sum_1\"></a>"
   ]
  },
  {
   "cell_type": "code",
   "execution_count": 23,
   "metadata": {
    "_cell_guid": "29f4cdaf-8b10-4079-8811-ab171df36dbd",
    "_uuid": "d522ac0c8d16d1d8f996cd2bb7e2b654c600a0aa",
    "scrolled": true
   },
   "outputs": [
    {
     "data": {
      "text/html": [
       "<div>\n",
       "<style scoped>\n",
       "    .dataframe tbody tr th:only-of-type {\n",
       "        vertical-align: middle;\n",
       "    }\n",
       "\n",
       "    .dataframe tbody tr th {\n",
       "        vertical-align: top;\n",
       "    }\n",
       "\n",
       "    .dataframe thead th {\n",
       "        text-align: right;\n",
       "    }\n",
       "</style>\n",
       "<table border=\"1\" class=\"dataframe\">\n",
       "  <thead>\n",
       "    <tr style=\"text-align: right;\">\n",
       "      <th></th>\n",
       "      <th>Model</th>\n",
       "      <th>Fitting time</th>\n",
       "      <th>Scoring time</th>\n",
       "      <th>Accuracy</th>\n",
       "      <th>Precision</th>\n",
       "      <th>Recall</th>\n",
       "      <th>F1_score</th>\n",
       "      <th>AUC_ROC</th>\n",
       "    </tr>\n",
       "  </thead>\n",
       "  <tbody>\n",
       "    <tr>\n",
       "      <th>3</th>\n",
       "      <td>Linear Discriminant Analysis</td>\n",
       "      <td>0.009501</td>\n",
       "      <td>0.006074</td>\n",
       "      <td>0.948757</td>\n",
       "      <td>0.959455</td>\n",
       "      <td>0.928571</td>\n",
       "      <td>0.947142</td>\n",
       "      <td>0.993056</td>\n",
       "    </tr>\n",
       "    <tr>\n",
       "      <th>4</th>\n",
       "      <td>Quadratic Discriminant Analysis</td>\n",
       "      <td>0.025576</td>\n",
       "      <td>0.007102</td>\n",
       "      <td>0.943480</td>\n",
       "      <td>0.939012</td>\n",
       "      <td>0.941415</td>\n",
       "      <td>0.943893</td>\n",
       "      <td>0.989324</td>\n",
       "    </tr>\n",
       "    <tr>\n",
       "      <th>0</th>\n",
       "      <td>Logistic Regression</td>\n",
       "      <td>0.005698</td>\n",
       "      <td>0.002642</td>\n",
       "      <td>0.943348</td>\n",
       "      <td>0.945292</td>\n",
       "      <td>0.932303</td>\n",
       "      <td>0.943039</td>\n",
       "      <td>0.989973</td>\n",
       "    </tr>\n",
       "    <tr>\n",
       "      <th>5</th>\n",
       "      <td>Random Forest</td>\n",
       "      <td>0.019400</td>\n",
       "      <td>0.010027</td>\n",
       "      <td>0.941126</td>\n",
       "      <td>0.944909</td>\n",
       "      <td>0.928457</td>\n",
       "      <td>0.940401</td>\n",
       "      <td>0.982154</td>\n",
       "    </tr>\n",
       "    <tr>\n",
       "      <th>6</th>\n",
       "      <td>K-Nearest Neighbors</td>\n",
       "      <td>0.001198</td>\n",
       "      <td>0.005037</td>\n",
       "      <td>0.935848</td>\n",
       "      <td>0.943361</td>\n",
       "      <td>0.916987</td>\n",
       "      <td>0.934030</td>\n",
       "      <td>0.954365</td>\n",
       "    </tr>\n",
       "    <tr>\n",
       "      <th>7</th>\n",
       "      <td>Bayes</td>\n",
       "      <td>0.001405</td>\n",
       "      <td>0.003164</td>\n",
       "      <td>0.930994</td>\n",
       "      <td>0.931379</td>\n",
       "      <td>0.917903</td>\n",
       "      <td>0.930448</td>\n",
       "      <td>0.979380</td>\n",
       "    </tr>\n",
       "    <tr>\n",
       "      <th>1</th>\n",
       "      <td>Decision Tree</td>\n",
       "      <td>0.004518</td>\n",
       "      <td>0.002991</td>\n",
       "      <td>0.913611</td>\n",
       "      <td>0.910028</td>\n",
       "      <td>0.905266</td>\n",
       "      <td>0.913109</td>\n",
       "      <td>0.905266</td>\n",
       "    </tr>\n",
       "    <tr>\n",
       "      <th>2</th>\n",
       "      <td>Support Vector Machine</td>\n",
       "      <td>0.043556</td>\n",
       "      <td>0.004701</td>\n",
       "      <td>0.656404</td>\n",
       "      <td>0.328202</td>\n",
       "      <td>0.500000</td>\n",
       "      <td>0.520314</td>\n",
       "      <td>0.927053</td>\n",
       "    </tr>\n",
       "  </tbody>\n",
       "</table>\n",
       "</div>"
      ],
      "text/plain": [
       "                             Model  Fitting time  Scoring time  Accuracy  \\\n",
       "3     Linear Discriminant Analysis      0.009501      0.006074  0.948757   \n",
       "4  Quadratic Discriminant Analysis      0.025576      0.007102  0.943480   \n",
       "0              Logistic Regression      0.005698      0.002642  0.943348   \n",
       "5                    Random Forest      0.019400      0.010027  0.941126   \n",
       "6              K-Nearest Neighbors      0.001198      0.005037  0.935848   \n",
       "7                            Bayes      0.001405      0.003164  0.930994   \n",
       "1                    Decision Tree      0.004518      0.002991  0.913611   \n",
       "2           Support Vector Machine      0.043556      0.004701  0.656404   \n",
       "\n",
       "   Precision    Recall  F1_score   AUC_ROC  \n",
       "3   0.959455  0.928571  0.947142  0.993056  \n",
       "4   0.939012  0.941415  0.943893  0.989324  \n",
       "0   0.945292  0.932303  0.943039  0.989973  \n",
       "5   0.944909  0.928457  0.940401  0.982154  \n",
       "6   0.943361  0.916987  0.934030  0.954365  \n",
       "7   0.931379  0.917903  0.930448  0.979380  \n",
       "1   0.910028  0.905266  0.913109  0.905266  \n",
       "2   0.328202  0.500000  0.520314  0.927053  "
      ]
     },
     "execution_count": 23,
     "metadata": {},
     "output_type": "execute_result"
    }
   ],
   "source": [
    "models_initial = pd.DataFrame({\n",
    "    'Model'       : ['Logistic Regression', 'Decision Tree', 'Support Vector Machine', 'Linear Discriminant Analysis', 'Quadratic Discriminant Analysis', 'Random Forest', 'K-Nearest Neighbors', 'Bayes'],\n",
    "    'Fitting time': [LR_fit_time, dtree_fit_time, SVM_fit_time, LDA_fit_time, QDA_fit_time, forest_fit_time, KNN_fit_time, bayes_fit_time],\n",
    "    'Scoring time': [LR_score_time, dtree_score_time, SVM_score_time, LDA_score_time, QDA_score_time, forest_score_time, KNN_score_time, bayes_score_time],\n",
    "    'Accuracy'    : [LR_accuracy, dtree_accuracy, SVM_accuracy, LDA_accuracy, QDA_accuracy, forest_accuracy, KNN_accuracy, bayes_accuracy],\n",
    "    'Precision'   : [LR_precision, dtree_precision, SVM_precision, LDA_precision, QDA_precision, forest_precision, KNN_precision, bayes_precision],\n",
    "    'Recall'      : [LR_recall, dtree_recall, SVM_recall, LDA_recall, QDA_recall, forest_recall, KNN_recall, bayes_recall],\n",
    "    'F1_score'    : [LR_f1, dtree_f1, SVM_f1, LDA_f1, QDA_f1, forest_f1, KNN_f1, bayes_f1],\n",
    "    'AUC_ROC'     : [LR_roc, dtree_roc, SVM_roc, LDA_roc, QDA_roc, forest_roc, KNN_roc, bayes_roc],\n",
    "    }, columns = ['Model', 'Fitting time', 'Scoring time', 'Accuracy', 'Precision', 'Recall', 'F1_score', 'AUC_ROC'])\n",
    "\n",
    "models_initial.sort_values(by='Accuracy', ascending=False)"
   ]
  },
  {
   "cell_type": "markdown",
   "metadata": {
    "_cell_guid": "60a9a307-33a6-486b-9e61-efef5410d62e",
    "_uuid": "282f2c7ffc64f9f790bddda8d9fca2cdd4958347"
   },
   "source": [
    "## Correlation <a class=\"anchor\" id=\"correlation\"></a>"
   ]
  },
  {
   "cell_type": "markdown",
   "metadata": {
    "_cell_guid": "38353a41-0b28-442f-befc-3b8c64fedcf2",
    "_uuid": "379e87896e6625ef689100bf5b81b912f30fbd59"
   },
   "source": [
    "librimind.com: 'Data columns with very similar trends are also likely to carry very similar information. In this case, only one of them will suffice to feed the machine learning model. Here we calculate the correlation coefficient between numerical and nominal columns as the Coefficient and the Pearson’s chi square value respectively. Pairs of columns with correlation coefficient higher than a threshold are reduced to only one."
   ]
  },
  {
   "cell_type": "code",
   "execution_count": 24,
   "metadata": {
    "_cell_guid": "1405144b-0b3b-494f-aeed-c8d769e016b0",
    "_uuid": "1ba0f75c843c381c8397591a67c53c5e844c656e",
    "scrolled": true
   },
   "outputs": [
    {
     "data": {
      "image/png": "[encoded data removed]",
      "text/plain": [
       "<matplotlib.figure.Figure at 0x7f8f26381d30>"
      ]
     },
     "metadata": {},
     "output_type": "display_data"
    }
   ],
   "source": [
    "correlation = initial_data.corr()\n",
    "\n",
    "mask = np.zeros_like(correlation, dtype=np.bool)\n",
    "mask[np.triu_indices_from(mask)] = True\n",
    "\n",
    "f, ax = plt.subplots(figsize=(20, 20))\n",
    "\n",
    "cmap = sns.diverging_palette(180, 20, as_cmap=True)\n",
    "sns.heatmap(correlation, mask=mask, cmap=cmap, vmax=1, vmin =-1, center=0,\n",
    "            square=True, linewidths=.5, cbar_kws={\"shrink\": .5}, annot=True)\n",
    "\n",
    "plt.show()"
   ]
  },
  {
   "cell_type": "code",
   "execution_count": 25,
   "metadata": {
    "_cell_guid": "05c5db24-013d-4ee4-a111-7d585b6f8d8c",
    "_uuid": "d80b6980fa939c3f138af56de244da1d569830f6",
    "collapsed": true
   },
   "outputs": [],
   "source": [
    "X_corr = initial_data[['smoothness_mean', 'radius_se', 'texture_se', 'smoothness_se', 'symmetry_se', \n",
    "                       'fractal_dimension_se', 'texture_worst', 'symmetry_worst','fractal_dimension_worst']]\n",
    "y_corr = initial_data['diagnosis']"
   ]
  },
  {
   "cell_type": "markdown",
   "metadata": {
    "_cell_guid": "814299a3-5701-4d2b-b40e-57d4b4792c62",
    "_uuid": "1d9eb80f3f9a1e64d5b9e205c00d8326eb4fd0aa"
   },
   "source": [
    "* One of the data set's hallmarks is relatively high correlation coefficient score - only score no higher than 0.6 will be considered acceptable.\n",
    "* Correlation not necceserily means causation, that is why features will not be exluded only for their low correlation with diagnosis (in the heatmap below diagnosis skipped)."
   ]
  },
  {
   "cell_type": "code",
   "execution_count": 26,
   "metadata": {
    "_cell_guid": "337df74f-9292-4ce3-b4b7-2b85d1e67f84",
    "_uuid": "056e450630354235a21b6dbdb6145078b5480336",
    "scrolled": true
   },
   "outputs": [
    {
     "data": {
      "image/png": "[encoded data removed]",
      "text/plain": [
       "<matplotlib.figure.Figure at 0x7f8f2641ffd0>"
      ]
     },
     "metadata": {},
     "output_type": "display_data"
    }
   ],
   "source": [
    "correlation = X_corr.corr()\n",
    "\n",
    "mask = np.zeros_like(correlation, dtype=np.bool)\n",
    "mask[np.triu_indices_from(mask)] = True\n",
    "\n",
    "f, ax = plt.subplots(figsize=(5, 5))\n",
    "\n",
    "cmap = sns.diverging_palette(180, 20, as_cmap=True)\n",
    "sns.heatmap(correlation, mask=mask, cmap=cmap, vmax=1, vmin =-1, center=0,\n",
    "            square=True, linewidths=.5, cbar_kws={\"shrink\": .5}, annot=True)\n",
    "\n",
    "plt.show()"
   ]
  },
  {
   "cell_type": "markdown",
   "metadata": {
    "_cell_guid": "6c0de2d6-2f2e-4705-837f-fa9ed5e62265",
    "_uuid": "03d2dc099d19a5d38de5b9ee61c6658b6f730676"
   },
   "source": [
    "Features to  be included: 'smoothness_mean', 'radius_se', 'texture_se', 'smoothness_se', 'symmetry_se', 'fractal_dimension_se', 'texture_worst', 'symmetry_worst', 'fractal_dimension_worst'."
   ]
  },
  {
   "cell_type": "markdown",
   "metadata": {
    "_cell_guid": "8b5821d7-315f-44c5-a714-36fdd104b06c",
    "_uuid": "c2d7e6ef2550eb41ffcd4348fdfab8e80751951d"
   },
   "source": [
    "Dividing the dataset into a separate training and test set:"
   ]
  },
  {
   "cell_type": "code",
   "execution_count": 27,
   "metadata": {
    "_cell_guid": "64f35366-401c-40c5-8b56-dc0b34c7af7c",
    "_uuid": "517bdcce3508ffe1cd26c7605185420271b6f0a3",
    "collapsed": true
   },
   "outputs": [],
   "source": [
    "X_train, X_test, y_train, y_test = train_test_split(X,y,test_size=0.34)"
   ]
  },
  {
   "cell_type": "markdown",
   "metadata": {
    "_cell_guid": "fdb23edd-4513-4cc6-9ba9-c01538bb63d1",
    "_uuid": "bf1e913b94b55381ff0a8f72afef4a7c598dd10a"
   },
   "source": [
    "#### Logistic Regression"
   ]
  },
  {
   "cell_type": "code",
   "execution_count": 28,
   "metadata": {
    "_cell_guid": "284fb22e-08ef-45a8-bb62-36e108700519",
    "_uuid": "e51dfec4d0d64a64cb2ff89d19e268b8a388caae",
    "collapsed": true
   },
   "outputs": [],
   "source": [
    "LR = LogisticRegression()\n",
    "\n",
    "scoring = ['accuracy', 'precision_macro', 'recall_macro' , 'f1_weighted', 'roc_auc']\n",
    "scores = cross_validate(LR, X_train, y_train, scoring=scoring, cv=20)\n",
    "\n",
    "sorted(scores.keys())\n",
    "LR_fit_time = scores['fit_time'].mean()\n",
    "LR_score_time = scores['score_time'].mean()\n",
    "LR_accuracy = scores['test_accuracy'].mean()\n",
    "LR_precision = scores['test_precision_macro'].mean()\n",
    "LR_recall = scores['test_recall_macro'].mean()\n",
    "LR_f1 = scores['test_f1_weighted'].mean()\n",
    "LR_roc = scores['test_roc_auc'].mean()"
   ]
  },
  {
   "cell_type": "markdown",
   "metadata": {
    "_cell_guid": "edbd0a7c-0c5b-4e2b-b7ec-171b70ecb5eb",
    "_uuid": "cc5cc4beda9650f2f7b5477da505d13ca9eadc66"
   },
   "source": [
    "#### Decision Tree"
   ]
  },
  {
   "cell_type": "code",
   "execution_count": 29,
   "metadata": {
    "_cell_guid": "da498390-1058-4fc6-b3fb-0a897c956d35",
    "_uuid": "f1da5d0db005160c79fa9e3f9f083f827463189c",
    "collapsed": true
   },
   "outputs": [],
   "source": [
    "decision_tree = DecisionTreeClassifier()\n",
    "\n",
    "scoring = ['accuracy', 'precision_macro', 'recall_macro' , 'f1_weighted', 'roc_auc']\n",
    "scores = cross_validate(decision_tree, X_train, y_train, scoring=scoring, cv=20)\n",
    "\n",
    "sorted(scores.keys())\n",
    "dtree_fit_time = scores['fit_time'].mean()\n",
    "dtree_score_time = scores['score_time'].mean()\n",
    "dtree_accuracy = scores['test_accuracy'].mean()\n",
    "dtree_precision = scores['test_precision_macro'].mean()\n",
    "dtree_recall = scores['test_recall_macro'].mean()\n",
    "dtree_f1 = scores['test_f1_weighted'].mean()\n",
    "dtree_roc = scores['test_roc_auc'].mean()"
   ]
  },
  {
   "cell_type": "markdown",
   "metadata": {
    "_cell_guid": "78fbf044-39c1-44ec-b1bd-34cbd7444f16",
    "_uuid": "002a9ef2e9c42c93c6fb1de19a2aa7b6a3e4157d"
   },
   "source": [
    "#### Support Vector Machine"
   ]
  },
  {
   "cell_type": "code",
   "execution_count": 30,
   "metadata": {
    "_cell_guid": "0e9b4cf0-f64a-4ee3-bb21-afa0371c5209",
    "_uuid": "6bb49f4246a6bb139b3a59c8364bd1be4d8b76c4",
    "collapsed": true
   },
   "outputs": [],
   "source": [
    "SVM = SVC(probability = True)\n",
    "\n",
    "scoring = ['accuracy','precision_macro', 'recall_macro' , 'f1_weighted', 'roc_auc']\n",
    "scores = cross_validate(SVM, X_train, y_train, scoring=scoring, cv=20)\n",
    "\n",
    "sorted(scores.keys())\n",
    "SVM_fit_time = scores['fit_time'].mean()\n",
    "SVM_score_time = scores['score_time'].mean()\n",
    "SVM_accuracy = scores['test_accuracy'].mean()\n",
    "SVM_precision = scores['test_precision_macro'].mean()\n",
    "SVM_recall = scores['test_recall_macro'].mean()\n",
    "SVM_f1 = scores['test_f1_weighted'].mean()\n",
    "SVM_roc = scores['test_roc_auc'].mean()"
   ]
  },
  {
   "cell_type": "markdown",
   "metadata": {
    "_cell_guid": "4ac108d7-6dc2-47dd-aa45-ffe3628b87e4",
    "_uuid": "deb750bf3ff7048e7927c57a123e4171713aebbc"
   },
   "source": [
    "#### Linear Discriminant Analysis"
   ]
  },
  {
   "cell_type": "code",
   "execution_count": 31,
   "metadata": {
    "_cell_guid": "b505b43d-ce35-4204-93dd-c27ec6bcc335",
    "_uuid": "81d69c4a438cb21b3d8291c995d68f8d9a96812e",
    "collapsed": true
   },
   "outputs": [],
   "source": [
    "LDA = LinearDiscriminantAnalysis()\n",
    "\n",
    "scoring = ['accuracy', 'precision_macro', 'recall_macro' , 'f1_weighted', 'roc_auc']\n",
    "scores = cross_validate(LDA, X_train, y_train, scoring=scoring, cv=20)\n",
    "\n",
    "sorted(scores.keys())\n",
    "LDA_fit_time = scores['fit_time'].mean()\n",
    "LDA_score_time = scores['score_time'].mean()\n",
    "LDA_accuracy = scores['test_accuracy'].mean()\n",
    "LDA_precision = scores['test_precision_macro'].mean()\n",
    "LDA_recall = scores['test_recall_macro'].mean()\n",
    "LDA_f1 = scores['test_f1_weighted'].mean()\n",
    "LDA_roc = scores['test_roc_auc'].mean()"
   ]
  },
  {
   "cell_type": "markdown",
   "metadata": {
    "_cell_guid": "e37189a2-811d-4e40-90a0-c72a8de8e67a",
    "_uuid": "59c0dad1889a49b2b258310b31f0eead844d3bd6"
   },
   "source": [
    "#### Quadratic Discriminant Analysis"
   ]
  },
  {
   "cell_type": "code",
   "execution_count": 32,
   "metadata": {
    "_cell_guid": "074ef6c8-bee3-441d-9ca3-c455720ddde6",
    "_uuid": "6f623b120213bbc98e33fe97960200100183344c",
    "collapsed": true
   },
   "outputs": [],
   "source": [
    "QDA = QuadraticDiscriminantAnalysis()\n",
    "\n",
    "scoring = ['accuracy', 'precision_macro', 'recall_macro' , 'f1_weighted', 'roc_auc']\n",
    "scores = cross_validate(QDA, X_train, y_train, scoring=scoring, cv=20)\n",
    "\n",
    "sorted(scores.keys())\n",
    "QDA_fit_time = scores['fit_time'].mean()\n",
    "QDA_score_time = scores['score_time'].mean()\n",
    "QDA_accuracy = scores['test_accuracy'].mean()\n",
    "QDA_precision = scores['test_precision_macro'].mean()\n",
    "QDA_recall = scores['test_recall_macro'].mean()\n",
    "QDA_f1 = scores['test_f1_weighted'].mean()\n",
    "QDA_roc = scores['test_roc_auc'].mean()"
   ]
  },
  {
   "cell_type": "markdown",
   "metadata": {
    "_cell_guid": "a3262941-56ba-480a-bdfb-57283ce47194",
    "_uuid": "42cdf7c0fc506540343a5727baef1354baf37781"
   },
   "source": [
    "#### Random Forest Classifier"
   ]
  },
  {
   "cell_type": "code",
   "execution_count": 33,
   "metadata": {
    "_cell_guid": "adfcb5cd-f064-4b10-bb04-a4d56ed0be39",
    "_uuid": "67651ca1e98827cb20ba82190dbc2d1cb97f2d56",
    "collapsed": true
   },
   "outputs": [],
   "source": [
    "random_forest = RandomForestClassifier()\n",
    "\n",
    "scoring = ['accuracy', 'precision_macro', 'recall_macro' , 'f1_weighted', 'roc_auc']\n",
    "scores = cross_validate(random_forest, X_train, y_train, scoring=scoring, cv=20)\n",
    "\n",
    "sorted(scores.keys())\n",
    "forest_fit_time = scores['fit_time'].mean()\n",
    "forest_score_time = scores['score_time'].mean()\n",
    "forest_accuracy = scores['test_accuracy'].mean()\n",
    "forest_precision = scores['test_precision_macro'].mean()\n",
    "forest_recall = scores['test_recall_macro'].mean()\n",
    "forest_f1 = scores['test_f1_weighted'].mean()\n",
    "forest_roc = scores['test_roc_auc'].mean()"
   ]
  },
  {
   "cell_type": "markdown",
   "metadata": {
    "_cell_guid": "bd778255-e869-480f-b008-af3622021889",
    "_uuid": "9dfdb6379fd0609e23897aa70c7a0cfc3f1aa2ab"
   },
   "source": [
    "#### K-Nearest Neighbors"
   ]
  },
  {
   "cell_type": "code",
   "execution_count": 34,
   "metadata": {
    "_cell_guid": "7bd33980-caa5-419f-be16-e9b398ef97de",
    "_uuid": "a948604b96d721610d431f8ffafd3ef453e6d011",
    "collapsed": true
   },
   "outputs": [],
   "source": [
    "KNN = KNeighborsClassifier()\n",
    "\n",
    "scoring = ['accuracy', 'precision_macro', 'recall_macro' , 'f1_weighted', 'roc_auc']\n",
    "scores = cross_validate(KNN, X_train, y_train, scoring=scoring, cv=20)\n",
    "\n",
    "sorted(scores.keys())\n",
    "KNN_fit_time = scores['fit_time'].mean()\n",
    "KNN_score_time = scores['score_time'].mean()\n",
    "KNN_accuracy = scores['test_accuracy'].mean()\n",
    "KNN_precision = scores['test_precision_macro'].mean()\n",
    "KNN_recall = scores['test_recall_macro'].mean()\n",
    "KNN_f1 = scores['test_f1_weighted'].mean()\n",
    "KNN_roc = scores['test_roc_auc'].mean()"
   ]
  },
  {
   "cell_type": "markdown",
   "metadata": {
    "_cell_guid": "8ede8965-f66e-4477-8741-f16d63b3e1c7",
    "_uuid": "b91b8e29d4af07c4cdf98eeb1167ba99b8c0859d"
   },
   "source": [
    "#### Naive Bayes"
   ]
  },
  {
   "cell_type": "code",
   "execution_count": 35,
   "metadata": {
    "_cell_guid": "e7da85d3-9b40-4fc9-808f-fd759dc98844",
    "_uuid": "7c0948e7d01f71e6f74d58c020cb39538040a4ee",
    "collapsed": true
   },
   "outputs": [],
   "source": [
    "bayes = GaussianNB()\n",
    "\n",
    "scoring = ['accuracy', 'precision_macro', 'recall_macro' , 'f1_weighted', 'roc_auc']\n",
    "scores = cross_validate(bayes, X_train, y_train, scoring=scoring, cv=20)\n",
    "\n",
    "sorted(scores.keys())\n",
    "bayes_fit_time = scores['fit_time'].mean()\n",
    "bayes_score_time = scores['score_time'].mean()\n",
    "bayes_accuracy = scores['test_accuracy'].mean()\n",
    "bayes_precision = scores['test_precision_macro'].mean()\n",
    "bayes_recall = scores['test_recall_macro'].mean()\n",
    "bayes_f1 = scores['test_f1_weighted'].mean()\n",
    "bayes_roc = scores['test_roc_auc'].mean()"
   ]
  },
  {
   "cell_type": "markdown",
   "metadata": {
    "_cell_guid": "9c897ecd-be0c-4857-8e10-c2c4d0c3bf2d",
    "_uuid": "57868dd6325e54bb5da345f654c9057a14a82d18"
   },
   "source": [
    "### Comparison <a class=\"anchor\" id=\"sum_2\"></a>"
   ]
  },
  {
   "cell_type": "code",
   "execution_count": 36,
   "metadata": {
    "_cell_guid": "7e441e01-4f9e-430a-9a88-cae784786e23",
    "_uuid": "1da4be01e1e3ec43f0eaa87e92468a77576bfe46"
   },
   "outputs": [
    {
     "data": {
      "text/html": [
       "<div>\n",
       "<style scoped>\n",
       "    .dataframe tbody tr th:only-of-type {\n",
       "        vertical-align: middle;\n",
       "    }\n",
       "\n",
       "    .dataframe tbody tr th {\n",
       "        vertical-align: top;\n",
       "    }\n",
       "\n",
       "    .dataframe thead th {\n",
       "        text-align: right;\n",
       "    }\n",
       "</style>\n",
       "<table border=\"1\" class=\"dataframe\">\n",
       "  <thead>\n",
       "    <tr style=\"text-align: right;\">\n",
       "      <th></th>\n",
       "      <th>Model</th>\n",
       "      <th>Fitting time</th>\n",
       "      <th>Scoring time</th>\n",
       "      <th>Accuracy</th>\n",
       "      <th>Precision</th>\n",
       "      <th>Recall</th>\n",
       "      <th>F1_score</th>\n",
       "      <th>AUC_ROC</th>\n",
       "    </tr>\n",
       "  </thead>\n",
       "  <tbody>\n",
       "    <tr>\n",
       "      <th>5</th>\n",
       "      <td>Random Forest</td>\n",
       "      <td>0.015951</td>\n",
       "      <td>0.010189</td>\n",
       "      <td>0.957895</td>\n",
       "      <td>0.962022</td>\n",
       "      <td>0.951786</td>\n",
       "      <td>0.956882</td>\n",
       "      <td>0.986905</td>\n",
       "    </tr>\n",
       "    <tr>\n",
       "      <th>3</th>\n",
       "      <td>Linear Discriminant Analysis</td>\n",
       "      <td>0.013732</td>\n",
       "      <td>0.009610</td>\n",
       "      <td>0.955263</td>\n",
       "      <td>0.966818</td>\n",
       "      <td>0.940774</td>\n",
       "      <td>0.953764</td>\n",
       "      <td>0.991071</td>\n",
       "    </tr>\n",
       "    <tr>\n",
       "      <th>4</th>\n",
       "      <td>Quadratic Discriminant Analysis</td>\n",
       "      <td>0.007461</td>\n",
       "      <td>0.003740</td>\n",
       "      <td>0.955263</td>\n",
       "      <td>0.955739</td>\n",
       "      <td>0.954167</td>\n",
       "      <td>0.955183</td>\n",
       "      <td>0.991667</td>\n",
       "    </tr>\n",
       "    <tr>\n",
       "      <th>0</th>\n",
       "      <td>Logistic Regression</td>\n",
       "      <td>0.007758</td>\n",
       "      <td>0.002585</td>\n",
       "      <td>0.952485</td>\n",
       "      <td>0.956180</td>\n",
       "      <td>0.945942</td>\n",
       "      <td>0.951654</td>\n",
       "      <td>0.988095</td>\n",
       "    </tr>\n",
       "    <tr>\n",
       "      <th>7</th>\n",
       "      <td>Bayes</td>\n",
       "      <td>0.001658</td>\n",
       "      <td>0.003366</td>\n",
       "      <td>0.941649</td>\n",
       "      <td>0.946522</td>\n",
       "      <td>0.932955</td>\n",
       "      <td>0.940524</td>\n",
       "      <td>0.989286</td>\n",
       "    </tr>\n",
       "    <tr>\n",
       "      <th>1</th>\n",
       "      <td>Decision Tree</td>\n",
       "      <td>0.005089</td>\n",
       "      <td>0.002651</td>\n",
       "      <td>0.926023</td>\n",
       "      <td>0.925881</td>\n",
       "      <td>0.921943</td>\n",
       "      <td>0.925142</td>\n",
       "      <td>0.921943</td>\n",
       "    </tr>\n",
       "    <tr>\n",
       "      <th>6</th>\n",
       "      <td>K-Nearest Neighbors</td>\n",
       "      <td>0.001232</td>\n",
       "      <td>0.005051</td>\n",
       "      <td>0.912865</td>\n",
       "      <td>0.917830</td>\n",
       "      <td>0.901109</td>\n",
       "      <td>0.910689</td>\n",
       "      <td>0.960092</td>\n",
       "    </tr>\n",
       "    <tr>\n",
       "      <th>2</th>\n",
       "      <td>Support Vector Machine</td>\n",
       "      <td>0.044902</td>\n",
       "      <td>0.004764</td>\n",
       "      <td>0.629283</td>\n",
       "      <td>0.314641</td>\n",
       "      <td>0.500000</td>\n",
       "      <td>0.486132</td>\n",
       "      <td>0.943209</td>\n",
       "    </tr>\n",
       "  </tbody>\n",
       "</table>\n",
       "</div>"
      ],
      "text/plain": [
       "                             Model  Fitting time  Scoring time  Accuracy  \\\n",
       "5                    Random Forest      0.015951      0.010189  0.957895   \n",
       "3     Linear Discriminant Analysis      0.013732      0.009610  0.955263   \n",
       "4  Quadratic Discriminant Analysis      0.007461      0.003740  0.955263   \n",
       "0              Logistic Regression      0.007758      0.002585  0.952485   \n",
       "7                            Bayes      0.001658      0.003366  0.941649   \n",
       "1                    Decision Tree      0.005089      0.002651  0.926023   \n",
       "6              K-Nearest Neighbors      0.001232      0.005051  0.912865   \n",
       "2           Support Vector Machine      0.044902      0.004764  0.629283   \n",
       "\n",
       "   Precision    Recall  F1_score   AUC_ROC  \n",
       "5   0.962022  0.951786  0.956882  0.986905  \n",
       "3   0.966818  0.940774  0.953764  0.991071  \n",
       "4   0.955739  0.954167  0.955183  0.991667  \n",
       "0   0.956180  0.945942  0.951654  0.988095  \n",
       "7   0.946522  0.932955  0.940524  0.989286  \n",
       "1   0.925881  0.921943  0.925142  0.921943  \n",
       "6   0.917830  0.901109  0.910689  0.960092  \n",
       "2   0.314641  0.500000  0.486132  0.943209  "
      ]
     },
     "execution_count": 36,
     "metadata": {},
     "output_type": "execute_result"
    }
   ],
   "source": [
    "models_correlation = pd.DataFrame({\n",
    "    'Model'       : ['Logistic Regression', 'Decision Tree', 'Support Vector Machine', 'Linear Discriminant Analysis', 'Quadratic Discriminant Analysis', 'Random Forest', 'K-Nearest Neighbors', 'Bayes'],\n",
    "    'Fitting time': [LR_fit_time, dtree_fit_time, SVM_fit_time, LDA_fit_time, QDA_fit_time, forest_fit_time, KNN_fit_time, bayes_fit_time],\n",
    "    'Scoring time': [LR_score_time, dtree_score_time, SVM_score_time, LDA_score_time, QDA_score_time, forest_score_time, KNN_score_time, bayes_score_time],\n",
    "    'Accuracy'    : [LR_accuracy, dtree_accuracy, SVM_accuracy, LDA_accuracy, QDA_accuracy, forest_accuracy, KNN_accuracy, bayes_accuracy],\n",
    "    'Precision'   : [LR_precision, dtree_precision, SVM_precision, LDA_precision, QDA_precision, forest_precision, KNN_precision, bayes_precision],\n",
    "    'Recall'      : [LR_recall, dtree_recall, SVM_recall, LDA_recall, QDA_recall, forest_recall, KNN_recall, bayes_recall],\n",
    "    'F1_score'    : [LR_f1, dtree_f1, SVM_f1, LDA_f1, QDA_f1, forest_f1, KNN_f1, bayes_f1],\n",
    "    'AUC_ROC'     : [LR_roc, dtree_roc, SVM_roc, LDA_roc, QDA_roc, forest_roc, KNN_roc, bayes_roc],\n",
    "    }, columns = ['Model', 'Fitting time', 'Scoring time', 'Accuracy', 'Precision', 'Recall', 'F1_score', 'AUC_ROC'])\n",
    "\n",
    "models_correlation.sort_values(by='Accuracy', ascending=False)"
   ]
  },
  {
   "cell_type": "markdown",
   "metadata": {
    "_cell_guid": "8907674c-fcd5-4d95-8a82-8e4088c27b7e",
    "_uuid": "07c8d5537cfdf250173a9dbf7cd1084eaa7af951"
   },
   "source": [
    "## Voting classifier <a class=\"anchor\" id=\"voting\"></a>\n",
    "\n",
    "\n",
    "Documentation: If ‘hard’, uses predicted class labels for majority rule voting. Else if ‘soft’, predicts the class label based on the argmax of the sums of the predicted probabilities, which is recommended for an ensemble of well-calibrated classifiers."
   ]
  },
  {
   "cell_type": "code",
   "execution_count": 37,
   "metadata": {
    "_cell_guid": "73ac5a8c-7bf9-4b22-bdcd-2fda0d931388",
    "_uuid": "8656b4b9472ccd9e7524096c87e7f3a30ae1db9e",
    "collapsed": true
   },
   "outputs": [],
   "source": [
    "models = [LogisticRegression(),\n",
    "         DecisionTreeClassifier(),\n",
    "         SVC(probability = True),\n",
    "         LinearDiscriminantAnalysis(),\n",
    "         QuadraticDiscriminantAnalysis(),\n",
    "         RandomForestClassifier(),\n",
    "         KNeighborsClassifier(),\n",
    "         GaussianNB()]\n",
    "\n",
    "scoring = ['accuracy', 'precision_macro', 'recall_macro' , 'f1_weighted', 'roc_auc']"
   ]
  },
  {
   "cell_type": "code",
   "execution_count": 38,
   "metadata": {
    "_cell_guid": "06ce6d01-d2a2-4cb5-998d-fa5828ae39a3",
    "_uuid": "25a11cc221710e77b6ed1c2aa082ad492704c6c5",
    "collapsed": true
   },
   "outputs": [],
   "source": [
    "X_train, X_test, y_train, y_test = train_test_split(X,y,test_size=0.34)"
   ]
  },
  {
   "cell_type": "code",
   "execution_count": 39,
   "metadata": {
    "_cell_guid": "82e978b5-c54b-442f-b438-6f7b4c0e2180",
    "_uuid": "7a26bcd8c4673e46e8da2552716d34d3ba767c73",
    "collapsed": true,
    "scrolled": true
   },
   "outputs": [],
   "source": [
    "for model in models:\n",
    "    scores = cross_validate(model, X_train, y_train, scoring=scoring, cv=20)\n",
    "    #print(model, scores['fit_time'].mean(), scores['score_time'].mean(), scores['test_accuracy'].mean(),\n",
    "          #scores['test_precision_macro'].mean(), scores['test_recall_macro'].mean(), \n",
    "          #scores['test_f1_weighted'].mean(), scores['test_roc_auc'].mean())"
   ]
  },
  {
   "cell_type": "markdown",
   "metadata": {
    "_cell_guid": "978c40b8-7d61-4dad-a9e2-afa9b8c20a7f",
    "_uuid": "5d815a2d52bfa4634534a3515425025b631b7eb8"
   },
   "source": [
    "### Hard <a class=\"anchor\" id=\"hard\"></a>"
   ]
  },
  {
   "cell_type": "code",
   "execution_count": 40,
   "metadata": {
    "_cell_guid": "f3bdfafa-1d5c-4835-8adc-69b6d84f9ee1",
    "_uuid": "d53115ea1a94f0538c80791952fb70dbba778b85",
    "collapsed": true
   },
   "outputs": [],
   "source": [
    "models_ens = list(zip(['LR', 'DT', 'SVM', 'LDA', 'QDA', 'RF', 'KNN', 'NB'], models))\n",
    "\n",
    "model_ens = VotingClassifier(estimators = models_ens, voting = 'hard')\n",
    "model_ens.fit(X_train, y_train)\n",
    "pred = model_ens.predict(X_test)\n",
    "#prob = model_ens.predict_proba(X_test)[:,1]\n",
    "\n",
    "acc_hard = accuracy_score(y_test, pred)\n",
    "prec_hard = precision_score(y_test, pred)\n",
    "recall_hard = recall_score(y_test, pred)\n",
    "f1_hard = f1_score(y_test, pred)\n",
    "roc_auc_hard = 'not applicable'"
   ]
  },
  {
   "cell_type": "markdown",
   "metadata": {
    "_cell_guid": "e449abb4-4973-4bea-8ba5-1626cd2b7606",
    "_uuid": "2cbd69df20572b42db19f4b8992a93081d887627"
   },
   "source": [
    "### Soft <a class=\"anchor\" id=\"soft\"></a>"
   ]
  },
  {
   "cell_type": "code",
   "execution_count": 41,
   "metadata": {
    "_cell_guid": "21ebf713-d2ff-41ef-bc53-7a4327477369",
    "_uuid": "4b1c2d935cdebd36878302d9f91589aae2ffe632",
    "collapsed": true
   },
   "outputs": [],
   "source": [
    "model_ens = VotingClassifier(estimators = models_ens, voting = 'soft')\n",
    "model_ens.fit(X_train, y_train)\n",
    "pred = model_ens.predict(X_test)\n",
    "prob = model_ens.predict_proba(X_test)[:,1]\n",
    "\n",
    "acc_soft = accuracy_score(y_test, pred)\n",
    "prec_soft = precision_score(y_test, pred)\n",
    "recall_soft = recall_score(y_test, pred)\n",
    "f1_soft = f1_score(y_test, pred)\n",
    "roc_auc_soft = roc_auc_score(y_test, prob)"
   ]
  },
  {
   "cell_type": "markdown",
   "metadata": {
    "_cell_guid": "711aae3f-5d7a-42f6-a61e-26e5d9ee5344",
    "_uuid": "30db99cbbc594da98764879bccc8db9f87247e77"
   },
   "source": [
    "### Comparison <a class=\"anchor\" id=\"sum_3\"></a>"
   ]
  },
  {
   "cell_type": "code",
   "execution_count": 42,
   "metadata": {
    "_cell_guid": "233150f1-df3f-468e-b5e9-e01f25329678",
    "_uuid": "1586af81b5d80a000c2f474ca6d52686db00407a"
   },
   "outputs": [
    {
     "data": {
      "text/html": [
       "<div>\n",
       "<style scoped>\n",
       "    .dataframe tbody tr th:only-of-type {\n",
       "        vertical-align: middle;\n",
       "    }\n",
       "\n",
       "    .dataframe tbody tr th {\n",
       "        vertical-align: top;\n",
       "    }\n",
       "\n",
       "    .dataframe thead th {\n",
       "        text-align: right;\n",
       "    }\n",
       "</style>\n",
       "<table border=\"1\" class=\"dataframe\">\n",
       "  <thead>\n",
       "    <tr style=\"text-align: right;\">\n",
       "      <th></th>\n",
       "      <th>Model</th>\n",
       "      <th>Accuracy</th>\n",
       "      <th>Precision</th>\n",
       "      <th>Recall</th>\n",
       "      <th>F1_score</th>\n",
       "      <th>AUC_ROC</th>\n",
       "    </tr>\n",
       "  </thead>\n",
       "  <tbody>\n",
       "    <tr>\n",
       "      <th>1</th>\n",
       "      <td>Ensembling_soft</td>\n",
       "      <td>0.963918</td>\n",
       "      <td>0.984127</td>\n",
       "      <td>0.911765</td>\n",
       "      <td>0.946565</td>\n",
       "      <td>0.996148</td>\n",
       "    </tr>\n",
       "    <tr>\n",
       "      <th>0</th>\n",
       "      <td>Ensebling_hard</td>\n",
       "      <td>0.958763</td>\n",
       "      <td>1.000000</td>\n",
       "      <td>0.882353</td>\n",
       "      <td>0.937500</td>\n",
       "      <td>not applicable</td>\n",
       "    </tr>\n",
       "  </tbody>\n",
       "</table>\n",
       "</div>"
      ],
      "text/plain": [
       "             Model  Accuracy  Precision    Recall  F1_score         AUC_ROC\n",
       "1  Ensembling_soft  0.963918   0.984127  0.911765  0.946565        0.996148\n",
       "0   Ensebling_hard  0.958763   1.000000  0.882353  0.937500  not applicable"
      ]
     },
     "execution_count": 42,
     "metadata": {},
     "output_type": "execute_result"
    }
   ],
   "source": [
    "models_ensembling = pd.DataFrame({\n",
    "    'Model'       : ['Ensebling_hard', 'Ensembling_soft'],\n",
    "    'Accuracy'    : [acc_hard, acc_soft],\n",
    "    'Precision'   : [prec_hard, prec_soft],\n",
    "    'Recall'      : [recall_hard, recall_soft],\n",
    "    'F1_score'    : [f1_hard, f1_soft],\n",
    "    'AUC_ROC'     : [roc_auc_hard, roc_auc_soft],\n",
    "    }, columns = ['Model', 'Accuracy', 'Precision', 'Recall', 'F1_score', 'AUC_ROC'])\n",
    "\n",
    "models_ensembling.sort_values(by='Accuracy', ascending=False)"
   ]
  },
  {
   "cell_type": "markdown",
   "metadata": {
    "_cell_guid": "54a06563-6050-44f8-a57f-303ce3d3a198",
    "_uuid": "2afe091ae7377ab063a7a944c97817c65a2f0a63"
   },
   "source": [
    "# Linear SVC + SelectFromModel <a class=\"anchor\" id=\"linear_model\"></a>\n",
    "\n",
    "\n",
    "Documentation: Linear models penalized with the L1 norm have sparse solutions: many of their estimated coefficients are zero. When the goal is to reduce the dimensionality of the data to use with another classifier, they can be used along with feature_selection.SelectFromModel to select the non-zero coefficients. In particular, sparse estimators useful for this purpose are the linear_model.Lasso for regression, and of linear_model.LogisticRegression and svm.LinearSVC for classification."
   ]
  },
  {
   "cell_type": "code",
   "execution_count": 43,
   "metadata": {
    "_cell_guid": "85811f65-2919-4f29-a4a6-24854b966a80",
    "_uuid": "03d9646fbe92d9c2e7d4557a31484e2f5290a3bc"
   },
   "outputs": [
    {
     "data": {
      "text/plain": [
       "(569, 30)"
      ]
     },
     "execution_count": 43,
     "metadata": {},
     "output_type": "execute_result"
    }
   ],
   "source": [
    "X.shape"
   ]
  },
  {
   "cell_type": "code",
   "execution_count": 44,
   "metadata": {
    "_cell_guid": "10c936c0-68b2-4046-8058-d8357f229fc3",
    "_uuid": "8ee4478f27cddfa99abee3cc014a4edd839faa5c"
   },
   "outputs": [
    {
     "data": {
      "text/plain": [
       "(569, 10)"
      ]
     },
     "execution_count": 44,
     "metadata": {},
     "output_type": "execute_result"
    }
   ],
   "source": [
    "lsvc = LinearSVC(C=0.05, penalty=\"l1\", dual=False).fit(X, y)\n",
    "model = SelectFromModel(lsvc, prefit=True)\n",
    "X_svc = model.transform(X)\n",
    "X_svc.shape #reduction from 30 to 10 features"
   ]
  },
  {
   "cell_type": "code",
   "execution_count": 45,
   "metadata": {
    "_cell_guid": "c0bb20ec-648c-431e-b925-fa5ae7f5ebf3",
    "_uuid": "bb85f8c055b024fbd50861c8e842c164c4002257",
    "collapsed": true
   },
   "outputs": [],
   "source": [
    "X_train, X_test, y_train, y_test = train_test_split(X_svc,y,test_size=0.34)"
   ]
  },
  {
   "cell_type": "markdown",
   "metadata": {
    "_cell_guid": "877d150c-af26-4227-bce6-76e7e6985b4d",
    "_uuid": "294aa10481170b5127f8c381bfbe143a96ac3a9f"
   },
   "source": [
    "#### Decision Tree"
   ]
  },
  {
   "cell_type": "code",
   "execution_count": 46,
   "metadata": {
    "_cell_guid": "a6513602-3f2c-495a-b6a8-a64d8e1ff61a",
    "_uuid": "96e866259404e677be4af9d863d914d3da1d45bf",
    "collapsed": true
   },
   "outputs": [],
   "source": [
    "LR = LogisticRegression()\n",
    "\n",
    "scoring = ['accuracy', 'precision_macro', 'recall_macro' , 'f1_weighted', 'roc_auc']\n",
    "scores = cross_validate(LR, X_train, y_train, scoring=scoring, cv=20)\n",
    "\n",
    "sorted(scores.keys())\n",
    "LR_fit_time = scores['fit_time'].mean()\n",
    "LR_score_time = scores['score_time'].mean()\n",
    "LR_accuracy = scores['test_accuracy'].mean()\n",
    "LR_precision = scores['test_precision_macro'].mean()\n",
    "LR_recall = scores['test_recall_macro'].mean()\n",
    "LR_f1 = scores['test_f1_weighted'].mean()\n",
    "LR_roc = scores['test_roc_auc'].mean()"
   ]
  },
  {
   "cell_type": "markdown",
   "metadata": {
    "_cell_guid": "b5adbe5a-1da5-4a34-8bc3-51f4acc3fe3c",
    "_uuid": "92bfa2c23f74c74c4a4dd434d9ac2492f59e30be"
   },
   "source": [
    "#### Decision Tree"
   ]
  },
  {
   "cell_type": "code",
   "execution_count": 47,
   "metadata": {
    "_cell_guid": "5ce0a6e1-09d4-49be-8391-88eea4a9baf5",
    "_uuid": "4087a203d1d095a458f0a2a7b2c64443c467d436",
    "collapsed": true
   },
   "outputs": [],
   "source": [
    "decision_tree = DecisionTreeClassifier()\n",
    "\n",
    "scoring = ['accuracy', 'precision_macro', 'recall_macro' , 'f1_weighted', 'roc_auc']\n",
    "scores = cross_validate(decision_tree, X_train, y_train, scoring=scoring, cv=20)\n",
    "\n",
    "sorted(scores.keys())\n",
    "dtree_fit_time = scores['fit_time'].mean()\n",
    "dtree_score_time = scores['score_time'].mean()\n",
    "dtree_accuracy = scores['test_accuracy'].mean()\n",
    "dtree_precision = scores['test_precision_macro'].mean()\n",
    "dtree_recall = scores['test_recall_macro'].mean()\n",
    "dtree_f1 = scores['test_f1_weighted'].mean()\n",
    "dtree_roc = scores['test_roc_auc'].mean()"
   ]
  },
  {
   "cell_type": "markdown",
   "metadata": {
    "_cell_guid": "13947583-e93f-49c9-a976-fb0d8bfde6ec",
    "_uuid": "ab36e5cbed98d6271744535d1fb7ed6c7aa912ba"
   },
   "source": [
    "#### Support Vector Machine"
   ]
  },
  {
   "cell_type": "code",
   "execution_count": 48,
   "metadata": {
    "_cell_guid": "aeeb0386-16e3-4e7f-a612-5d4c44a7c626",
    "_uuid": "3257f1a03a0fedd5caa9526ca6ef20f623d1b582",
    "collapsed": true
   },
   "outputs": [],
   "source": [
    "SVM = SVC(probability = True)\n",
    "\n",
    "scoring = ['accuracy','precision_macro', 'recall_macro' , 'f1_weighted', 'roc_auc']\n",
    "scores = cross_validate(SVM, X_train, y_train, scoring=scoring, cv=20)\n",
    "\n",
    "sorted(scores.keys())\n",
    "SVM_fit_time = scores['fit_time'].mean()\n",
    "SVM_score_time = scores['score_time'].mean()\n",
    "SVM_accuracy = scores['test_accuracy'].mean()\n",
    "SVM_precision = scores['test_precision_macro'].mean()\n",
    "SVM_recall = scores['test_recall_macro'].mean()\n",
    "SVM_f1 = scores['test_f1_weighted'].mean()\n",
    "SVM_roc = scores['test_roc_auc'].mean()"
   ]
  },
  {
   "cell_type": "markdown",
   "metadata": {
    "_cell_guid": "6750e3e5-4d95-4557-b697-31a742e49f7c",
    "_uuid": "8df931f14968b019a3549283e4727ba3b9d49775"
   },
   "source": [
    "#### Linear Discriminant Analysis"
   ]
  },
  {
   "cell_type": "code",
   "execution_count": 49,
   "metadata": {
    "_cell_guid": "20395b34-8d97-42d7-902f-bdb291c54ae2",
    "_uuid": "414d2b66a34be92a53a5b0a84f9e877b38fe9258",
    "collapsed": true
   },
   "outputs": [],
   "source": [
    "LDA = LinearDiscriminantAnalysis()\n",
    "\n",
    "scoring = ['accuracy', 'precision_macro', 'recall_macro' , 'f1_weighted', 'roc_auc']\n",
    "scores = cross_validate(LDA, X_train, y_train, scoring=scoring, cv=20)\n",
    "\n",
    "sorted(scores.keys())\n",
    "LDA_fit_time = scores['fit_time'].mean()\n",
    "LDA_score_time = scores['score_time'].mean()\n",
    "LDA_accuracy = scores['test_accuracy'].mean()\n",
    "LDA_precision = scores['test_precision_macro'].mean()\n",
    "LDA_recall = scores['test_recall_macro'].mean()\n",
    "LDA_f1 = scores['test_f1_weighted'].mean()\n",
    "LDA_roc = scores['test_roc_auc'].mean()"
   ]
  },
  {
   "cell_type": "markdown",
   "metadata": {
    "_cell_guid": "9cf007b5-32be-4202-b754-b4aab4055757",
    "_uuid": "d794c26685b33865f992456ca68538eec38e27c4"
   },
   "source": [
    "#### Quadratic Discriminant Analysis"
   ]
  },
  {
   "cell_type": "code",
   "execution_count": 50,
   "metadata": {
    "_cell_guid": "30fc5f0a-fd86-4ae7-838e-2c46cc283714",
    "_uuid": "5a8b1faaa6feb891e3d10b2b81bca41806b6c6e9",
    "collapsed": true
   },
   "outputs": [],
   "source": [
    "QDA = QuadraticDiscriminantAnalysis()\n",
    "\n",
    "scoring = ['accuracy', 'precision_macro', 'recall_macro' , 'f1_weighted', 'roc_auc']\n",
    "scores = cross_validate(QDA, X_train, y_train, scoring=scoring, cv=20)\n",
    "\n",
    "sorted(scores.keys())\n",
    "QDA_fit_time = scores['fit_time'].mean()\n",
    "QDA_score_time = scores['score_time'].mean()\n",
    "QDA_accuracy = scores['test_accuracy'].mean()\n",
    "QDA_precision = scores['test_precision_macro'].mean()\n",
    "QDA_recall = scores['test_recall_macro'].mean()\n",
    "QDA_f1 = scores['test_f1_weighted'].mean()\n",
    "QDA_roc = scores['test_roc_auc'].mean()"
   ]
  },
  {
   "cell_type": "markdown",
   "metadata": {
    "_cell_guid": "407f8b35-1e9e-4ace-98b4-47531efa15e8",
    "_uuid": "8a47005651740610cc36cdf1f5c8204bda5de42b"
   },
   "source": [
    "#### Random Forest Classifier"
   ]
  },
  {
   "cell_type": "code",
   "execution_count": 51,
   "metadata": {
    "_cell_guid": "2ad3eca5-df2f-47b5-9991-474c2fbcfca9",
    "_uuid": "6a064c22a7d2b899dc62470cff728a925994e03b",
    "collapsed": true
   },
   "outputs": [],
   "source": [
    "random_forest = RandomForestClassifier()\n",
    "\n",
    "scoring = ['accuracy', 'precision_macro', 'recall_macro' , 'f1_weighted', 'roc_auc']\n",
    "scores = cross_validate(random_forest, X_train, y_train, scoring=scoring, cv=20)\n",
    "\n",
    "sorted(scores.keys())\n",
    "forest_fit_time = scores['fit_time'].mean()\n",
    "forest_score_time = scores['score_time'].mean()\n",
    "forest_accuracy = scores['test_accuracy'].mean()\n",
    "forest_precision = scores['test_precision_macro'].mean()\n",
    "forest_recall = scores['test_recall_macro'].mean()\n",
    "forest_f1 = scores['test_f1_weighted'].mean()\n",
    "forest_roc = scores['test_roc_auc'].mean()"
   ]
  },
  {
   "cell_type": "markdown",
   "metadata": {
    "_cell_guid": "edac5299-e708-4eca-9e5c-5257a9e32799",
    "_uuid": "a93b4a8ad9113e30193071ab34c92893c6b6860f"
   },
   "source": [
    "#### K-Nearest Neighbors"
   ]
  },
  {
   "cell_type": "code",
   "execution_count": 52,
   "metadata": {
    "_cell_guid": "6219d3e1-f05a-4fc0-b515-60e5c3d3a8a4",
    "_uuid": "2ca6401b24aea844ae852d0e8f220ba949c1df5f",
    "collapsed": true
   },
   "outputs": [],
   "source": [
    "KNN = KNeighborsClassifier()\n",
    "\n",
    "scoring = ['accuracy', 'precision_macro', 'recall_macro' , 'f1_weighted', 'roc_auc']\n",
    "scores = cross_validate(KNN, X_train, y_train, scoring=scoring, cv=20)\n",
    "\n",
    "sorted(scores.keys())\n",
    "KNN_fit_time = scores['fit_time'].mean()\n",
    "KNN_score_time = scores['score_time'].mean()\n",
    "KNN_accuracy = scores['test_accuracy'].mean()\n",
    "KNN_precision = scores['test_precision_macro'].mean()\n",
    "KNN_recall = scores['test_recall_macro'].mean()\n",
    "KNN_f1 = scores['test_f1_weighted'].mean()\n",
    "KNN_roc = scores['test_roc_auc'].mean()"
   ]
  },
  {
   "cell_type": "markdown",
   "metadata": {
    "_cell_guid": "44c6aa05-166c-46e3-8d54-8e582ee5fa5c",
    "_uuid": "bbfd2684170936fc0a5ced02b8f0eed0407b9348"
   },
   "source": [
    "#### Naive Bayes"
   ]
  },
  {
   "cell_type": "code",
   "execution_count": 53,
   "metadata": {
    "_cell_guid": "2c914164-7370-46bd-9cf1-fe7065596a63",
    "_uuid": "ec9ae37ed13e85885a33fafbb4b467a6c9713a7c",
    "collapsed": true
   },
   "outputs": [],
   "source": [
    "bayes = GaussianNB()\n",
    "\n",
    "scoring = ['accuracy', 'precision_macro', 'recall_macro' , 'f1_weighted', 'roc_auc']\n",
    "scores = cross_validate(bayes, X_train, y_train, scoring=scoring, cv=20)\n",
    "\n",
    "sorted(scores.keys())\n",
    "bayes_fit_time = scores['fit_time'].mean()\n",
    "bayes_score_time = scores['score_time'].mean()\n",
    "bayes_accuracy = scores['test_accuracy'].mean()\n",
    "bayes_precision = scores['test_precision_macro'].mean()\n",
    "bayes_recall = scores['test_recall_macro'].mean()\n",
    "bayes_f1 = scores['test_f1_weighted'].mean()\n",
    "bayes_roc = scores['test_roc_auc'].mean()"
   ]
  },
  {
   "cell_type": "markdown",
   "metadata": {
    "_cell_guid": "a07ec24f-2a7c-44d0-9b09-17cd37b39baa",
    "_uuid": "366679c5c8c2c192f9f06e38ee7080d5e6e5741b"
   },
   "source": [
    "### Comparison <a class=\"anchor\" id=\"sum_4\"></a>"
   ]
  },
  {
   "cell_type": "code",
   "execution_count": 54,
   "metadata": {
    "_cell_guid": "1a4f4495-99c7-4a87-ad09-ff9d1371f71b",
    "_uuid": "dde840d46c8741ab1aba947aff530b9f993f8758",
    "scrolled": true
   },
   "outputs": [
    {
     "data": {
      "text/html": [
       "<div>\n",
       "<style scoped>\n",
       "    .dataframe tbody tr th:only-of-type {\n",
       "        vertical-align: middle;\n",
       "    }\n",
       "\n",
       "    .dataframe tbody tr th {\n",
       "        vertical-align: top;\n",
       "    }\n",
       "\n",
       "    .dataframe thead th {\n",
       "        text-align: right;\n",
       "    }\n",
       "</style>\n",
       "<table border=\"1\" class=\"dataframe\">\n",
       "  <thead>\n",
       "    <tr style=\"text-align: right;\">\n",
       "      <th></th>\n",
       "      <th>Model</th>\n",
       "      <th>Fitting time</th>\n",
       "      <th>Scoring time</th>\n",
       "      <th>Accuracy</th>\n",
       "      <th>Precision</th>\n",
       "      <th>Recall</th>\n",
       "      <th>F1_score</th>\n",
       "      <th>AUC_ROC</th>\n",
       "    </tr>\n",
       "  </thead>\n",
       "  <tbody>\n",
       "    <tr>\n",
       "      <th>3</th>\n",
       "      <td>Linear Discriminant Analysis</td>\n",
       "      <td>0.009287</td>\n",
       "      <td>0.002446</td>\n",
       "      <td>0.968231</td>\n",
       "      <td>0.975702</td>\n",
       "      <td>0.959524</td>\n",
       "      <td>0.967616</td>\n",
       "      <td>0.997531</td>\n",
       "    </tr>\n",
       "    <tr>\n",
       "      <th>4</th>\n",
       "      <td>Quadratic Discriminant Analysis</td>\n",
       "      <td>0.015533</td>\n",
       "      <td>0.002980</td>\n",
       "      <td>0.960307</td>\n",
       "      <td>0.963207</td>\n",
       "      <td>0.957170</td>\n",
       "      <td>0.960083</td>\n",
       "      <td>0.991139</td>\n",
       "    </tr>\n",
       "    <tr>\n",
       "      <th>0</th>\n",
       "      <td>Logistic Regression</td>\n",
       "      <td>0.003222</td>\n",
       "      <td>0.002542</td>\n",
       "      <td>0.951433</td>\n",
       "      <td>0.954941</td>\n",
       "      <td>0.948417</td>\n",
       "      <td>0.951074</td>\n",
       "      <td>0.991403</td>\n",
       "    </tr>\n",
       "    <tr>\n",
       "      <th>5</th>\n",
       "      <td>Random Forest</td>\n",
       "      <td>0.013477</td>\n",
       "      <td>0.009666</td>\n",
       "      <td>0.949225</td>\n",
       "      <td>0.953466</td>\n",
       "      <td>0.944183</td>\n",
       "      <td>0.948905</td>\n",
       "      <td>0.980533</td>\n",
       "    </tr>\n",
       "    <tr>\n",
       "      <th>6</th>\n",
       "      <td>K-Nearest Neighbors</td>\n",
       "      <td>0.000613</td>\n",
       "      <td>0.004402</td>\n",
       "      <td>0.938523</td>\n",
       "      <td>0.942417</td>\n",
       "      <td>0.933320</td>\n",
       "      <td>0.938138</td>\n",
       "      <td>0.968791</td>\n",
       "    </tr>\n",
       "    <tr>\n",
       "      <th>7</th>\n",
       "      <td>Bayes</td>\n",
       "      <td>0.000802</td>\n",
       "      <td>0.002723</td>\n",
       "      <td>0.920088</td>\n",
       "      <td>0.931363</td>\n",
       "      <td>0.907021</td>\n",
       "      <td>0.917264</td>\n",
       "      <td>0.975318</td>\n",
       "    </tr>\n",
       "    <tr>\n",
       "      <th>1</th>\n",
       "      <td>Decision Tree</td>\n",
       "      <td>0.001552</td>\n",
       "      <td>0.002356</td>\n",
       "      <td>0.917178</td>\n",
       "      <td>0.922126</td>\n",
       "      <td>0.916558</td>\n",
       "      <td>0.916936</td>\n",
       "      <td>0.916558</td>\n",
       "    </tr>\n",
       "    <tr>\n",
       "      <th>2</th>\n",
       "      <td>Support Vector Machine</td>\n",
       "      <td>0.029257</td>\n",
       "      <td>0.003744</td>\n",
       "      <td>0.618655</td>\n",
       "      <td>0.309327</td>\n",
       "      <td>0.500000</td>\n",
       "      <td>0.472975</td>\n",
       "      <td>0.888007</td>\n",
       "    </tr>\n",
       "  </tbody>\n",
       "</table>\n",
       "</div>"
      ],
      "text/plain": [
       "                             Model  Fitting time  Scoring time  Accuracy  \\\n",
       "3     Linear Discriminant Analysis      0.009287      0.002446  0.968231   \n",
       "4  Quadratic Discriminant Analysis      0.015533      0.002980  0.960307   \n",
       "0              Logistic Regression      0.003222      0.002542  0.951433   \n",
       "5                    Random Forest      0.013477      0.009666  0.949225   \n",
       "6              K-Nearest Neighbors      0.000613      0.004402  0.938523   \n",
       "7                            Bayes      0.000802      0.002723  0.920088   \n",
       "1                    Decision Tree      0.001552      0.002356  0.917178   \n",
       "2           Support Vector Machine      0.029257      0.003744  0.618655   \n",
       "\n",
       "   Precision    Recall  F1_score   AUC_ROC  \n",
       "3   0.975702  0.959524  0.967616  0.997531  \n",
       "4   0.963207  0.957170  0.960083  0.991139  \n",
       "0   0.954941  0.948417  0.951074  0.991403  \n",
       "5   0.953466  0.944183  0.948905  0.980533  \n",
       "6   0.942417  0.933320  0.938138  0.968791  \n",
       "7   0.931363  0.907021  0.917264  0.975318  \n",
       "1   0.922126  0.916558  0.916936  0.916558  \n",
       "2   0.309327  0.500000  0.472975  0.888007  "
      ]
     },
     "execution_count": 54,
     "metadata": {},
     "output_type": "execute_result"
    }
   ],
   "source": [
    "models_sfm = pd.DataFrame({\n",
    "    'Model'       : ['Logistic Regression', 'Decision Tree', 'Support Vector Machine', 'Linear Discriminant Analysis', 'Quadratic Discriminant Analysis', 'Random Forest', 'K-Nearest Neighbors', 'Bayes'],\n",
    "    'Fitting time': [LR_fit_time, dtree_fit_time, SVM_fit_time, LDA_fit_time, QDA_fit_time, forest_fit_time, KNN_fit_time, bayes_fit_time],\n",
    "    'Scoring time': [LR_score_time, dtree_score_time, SVM_score_time, LDA_score_time, QDA_score_time, forest_score_time, KNN_score_time, bayes_score_time],\n",
    "    'Accuracy'    : [LR_accuracy, dtree_accuracy, SVM_accuracy, LDA_accuracy, QDA_accuracy, forest_accuracy, KNN_accuracy, bayes_accuracy],\n",
    "    'Precision'   : [LR_precision, dtree_precision, SVM_precision, LDA_precision, QDA_precision, forest_precision, KNN_precision, bayes_precision],\n",
    "    'Recall'      : [LR_recall, dtree_recall, SVM_recall, LDA_recall, QDA_recall, forest_recall, KNN_recall, bayes_recall],\n",
    "    'F1_score'    : [LR_f1, dtree_f1, SVM_f1, LDA_f1, QDA_f1, forest_f1, KNN_f1, bayes_f1],\n",
    "    'AUC_ROC'     : [LR_roc, dtree_roc, SVM_roc, LDA_roc, QDA_roc, forest_roc, KNN_roc, bayes_roc],\n",
    "    }, columns = ['Model', 'Fitting time', 'Scoring time', 'Accuracy', 'Precision', 'Recall', 'F1_score', 'AUC_ROC'])\n",
    "\n",
    "models_sfm.sort_values(by='Accuracy', ascending=False)"
   ]
  },
  {
   "cell_type": "markdown",
   "metadata": {
    "_cell_guid": "783252f7-e757-4058-ac56-1e0a1c2355f7",
    "_uuid": "24a6e29fbf264ef54f8d47073e6b1dc85d8dd2e1"
   },
   "source": [
    "# Linear SVC + RFECV <a class=\"anchor\" id=\"linear_rfecv\"></a>\n",
    "\n",
    "\n",
    "From documentation: Given an external estimator that assigns weights to features (e.g., the coefficients of a linear model), recursive feature elimination (RFE) is to select features by recursively considering smaller and smaller sets of features. RFECV performs RFE in a cross-validation loop to find the optimal number of features."
   ]
  },
  {
   "cell_type": "code",
   "execution_count": 55,
   "metadata": {
    "_cell_guid": "38bf8bb6-e40d-4c08-802d-26300fc585a8",
    "_uuid": "a176a5e3ef3ef59aa5fa6460b37c90b8b5723887"
   },
   "outputs": [
    {
     "data": {
      "text/plain": [
       "(569, 20)"
      ]
     },
     "execution_count": 55,
     "metadata": {},
     "output_type": "execute_result"
    }
   ],
   "source": [
    "lsvc = LinearSVC(C=0.05, penalty=\"l1\", dual=False)\n",
    "model = RFECV(estimator=lsvc, step=1, cv=20).fit(X,y)\n",
    "X_rfecv = model.transform(X)\n",
    "X_rfecv.shape #reduction from 30"
   ]
  },
  {
   "cell_type": "code",
   "execution_count": 56,
   "metadata": {
    "_cell_guid": "1fc00923-7d50-4a7c-ada4-7058672734ab",
    "_uuid": "bf9d9b4ed541e9099efa3c294d7e0675c45dff34",
    "collapsed": true
   },
   "outputs": [],
   "source": [
    "X_train, X_test, y_train, y_test = train_test_split(X_rfecv,y,test_size=0.34)"
   ]
  },
  {
   "cell_type": "markdown",
   "metadata": {
    "_cell_guid": "c3715ac0-1755-4834-a397-668b863a9237",
    "_uuid": "f081255aaa1ca98010261f51e3ec08a61801fcb5"
   },
   "source": [
    "#### Decision Tree"
   ]
  },
  {
   "cell_type": "code",
   "execution_count": 57,
   "metadata": {
    "_cell_guid": "0f788481-49d6-46bc-8301-2589c5b415d4",
    "_uuid": "192e069167ed17605081886ba99ce1ff04c539a3",
    "collapsed": true
   },
   "outputs": [],
   "source": [
    "LR = LogisticRegression()\n",
    "\n",
    "scoring = ['accuracy', 'precision_macro', 'recall_macro' , 'f1_weighted', 'roc_auc']\n",
    "scores = cross_validate(LR, X_train, y_train, scoring=scoring, cv=20)\n",
    "\n",
    "sorted(scores.keys())\n",
    "LR_fit_time = scores['fit_time'].mean()\n",
    "LR_score_time = scores['score_time'].mean()\n",
    "LR_accuracy = scores['test_accuracy'].mean()\n",
    "LR_precision = scores['test_precision_macro'].mean()\n",
    "LR_recall = scores['test_recall_macro'].mean()\n",
    "LR_f1 = scores['test_f1_weighted'].mean()\n",
    "LR_roc = scores['test_roc_auc'].mean()"
   ]
  },
  {
   "cell_type": "markdown",
   "metadata": {
    "_cell_guid": "da060371-d410-44c2-b6b6-0f5f684c853e",
    "_uuid": "bf7d302ea1cea27c317855f25cf7d83940153ccd"
   },
   "source": [
    "#### Decision Tree"
   ]
  },
  {
   "cell_type": "code",
   "execution_count": 58,
   "metadata": {
    "_cell_guid": "cf507040-03a1-471e-b7fa-ae6a98c576f5",
    "_uuid": "6800b3b4b6a401a839eb608450f55250d5712144",
    "collapsed": true
   },
   "outputs": [],
   "source": [
    "decision_tree = DecisionTreeClassifier()\n",
    "\n",
    "scoring = ['accuracy', 'precision_macro', 'recall_macro' , 'f1_weighted', 'roc_auc']\n",
    "scores = cross_validate(decision_tree, X_train, y_train, scoring=scoring, cv=20)\n",
    "\n",
    "sorted(scores.keys())\n",
    "dtree_fit_time = scores['fit_time'].mean()\n",
    "dtree_score_time = scores['score_time'].mean()\n",
    "dtree_accuracy = scores['test_accuracy'].mean()\n",
    "dtree_precision = scores['test_precision_macro'].mean()\n",
    "dtree_recall = scores['test_recall_macro'].mean()\n",
    "dtree_f1 = scores['test_f1_weighted'].mean()\n",
    "dtree_roc = scores['test_roc_auc'].mean()"
   ]
  },
  {
   "cell_type": "markdown",
   "metadata": {
    "_cell_guid": "53155930-db30-43d9-abac-0f2d8241f965",
    "_uuid": "328096e0ba021b5b81aac68e8d66e778f15fa73a"
   },
   "source": [
    "#### Support Vector Machine"
   ]
  },
  {
   "cell_type": "code",
   "execution_count": 59,
   "metadata": {
    "_cell_guid": "d19cd706-7de7-4a33-a292-999e1e09c6fe",
    "_uuid": "001efbb12933be42ed9aaefe80f684289165fedb",
    "collapsed": true
   },
   "outputs": [],
   "source": [
    "SVM = SVC(probability = True)\n",
    "\n",
    "scoring = ['accuracy','precision_macro', 'recall_macro' , 'f1_weighted', 'roc_auc']\n",
    "scores = cross_validate(SVM, X_train, y_train, scoring=scoring, cv=20)\n",
    "\n",
    "sorted(scores.keys())\n",
    "SVM_fit_time = scores['fit_time'].mean()\n",
    "SVM_score_time = scores['score_time'].mean()\n",
    "SVM_accuracy = scores['test_accuracy'].mean()\n",
    "SVM_precision = scores['test_precision_macro'].mean()\n",
    "SVM_recall = scores['test_recall_macro'].mean()\n",
    "SVM_f1 = scores['test_f1_weighted'].mean()\n",
    "SVM_roc = scores['test_roc_auc'].mean()"
   ]
  },
  {
   "cell_type": "markdown",
   "metadata": {
    "_cell_guid": "1c67c381-b3d5-496a-8c25-a27a70a02bc0",
    "_uuid": "c4e6ba74b21109f2e1fb7645849ed3f472373eea"
   },
   "source": [
    "#### Linear Discriminant Analysis"
   ]
  },
  {
   "cell_type": "code",
   "execution_count": 60,
   "metadata": {
    "_cell_guid": "2db5c61e-76de-4cad-8a15-4ae199da803a",
    "_uuid": "a60c4d6eb6dc2177649922b875ba36f52b024a8e",
    "collapsed": true
   },
   "outputs": [],
   "source": [
    "LDA = LinearDiscriminantAnalysis()\n",
    "\n",
    "scoring = ['accuracy', 'precision_macro', 'recall_macro' , 'f1_weighted', 'roc_auc']\n",
    "scores = cross_validate(LDA, X_train, y_train, scoring=scoring, cv=20)\n",
    "\n",
    "sorted(scores.keys())\n",
    "LDA_fit_time = scores['fit_time'].mean()\n",
    "LDA_score_time = scores['score_time'].mean()\n",
    "LDA_accuracy = scores['test_accuracy'].mean()\n",
    "LDA_precision = scores['test_precision_macro'].mean()\n",
    "LDA_recall = scores['test_recall_macro'].mean()\n",
    "LDA_f1 = scores['test_f1_weighted'].mean()\n",
    "LDA_roc = scores['test_roc_auc'].mean()"
   ]
  },
  {
   "cell_type": "markdown",
   "metadata": {
    "_cell_guid": "c79b3490-154b-4a37-9239-e2ab899e405d",
    "_uuid": "acbb034bc99e9321d8046f858645d3f590329063"
   },
   "source": [
    "#### Quadratic Discriminant Analysis"
   ]
  },
  {
   "cell_type": "code",
   "execution_count": 61,
   "metadata": {
    "_cell_guid": "4a8853a5-9b30-4a56-bb11-51b66cf85443",
    "_uuid": "222d20613a09707e374db23b3cd54dc6c65ffda9",
    "collapsed": true
   },
   "outputs": [],
   "source": [
    "QDA = QuadraticDiscriminantAnalysis()\n",
    "\n",
    "scoring = ['accuracy', 'precision_macro', 'recall_macro' , 'f1_weighted', 'roc_auc']\n",
    "scores = cross_validate(QDA, X_train, y_train, scoring=scoring, cv=20)\n",
    "\n",
    "sorted(scores.keys())\n",
    "QDA_fit_time = scores['fit_time'].mean()\n",
    "QDA_score_time = scores['score_time'].mean()\n",
    "QDA_accuracy = scores['test_accuracy'].mean()\n",
    "QDA_precision = scores['test_precision_macro'].mean()\n",
    "QDA_recall = scores['test_recall_macro'].mean()\n",
    "QDA_f1 = scores['test_f1_weighted'].mean()\n",
    "QDA_roc = scores['test_roc_auc'].mean()"
   ]
  },
  {
   "cell_type": "markdown",
   "metadata": {
    "_cell_guid": "fa757072-bb66-4dfa-96b9-1050dccdf9e9",
    "_uuid": "65abfcd189ee3a111dde66500e380cecf3e398f1"
   },
   "source": [
    "#### Random Forest Classifier"
   ]
  },
  {
   "cell_type": "code",
   "execution_count": 62,
   "metadata": {
    "_cell_guid": "31b8a785-a2cc-4b45-b0d2-a5d99b313d61",
    "_uuid": "dc1f212823a5450786bbda4dddef214b50ec6d4c",
    "collapsed": true
   },
   "outputs": [],
   "source": [
    "random_forest = RandomForestClassifier()\n",
    "\n",
    "scoring = ['accuracy', 'precision_macro', 'recall_macro' , 'f1_weighted', 'roc_auc']\n",
    "scores = cross_validate(random_forest, X_train, y_train, scoring=scoring, cv=20)\n",
    "\n",
    "sorted(scores.keys())\n",
    "forest_fit_time = scores['fit_time'].mean()\n",
    "forest_score_time = scores['score_time'].mean()\n",
    "forest_accuracy = scores['test_accuracy'].mean()\n",
    "forest_precision = scores['test_precision_macro'].mean()\n",
    "forest_recall = scores['test_recall_macro'].mean()\n",
    "forest_f1 = scores['test_f1_weighted'].mean()\n",
    "forest_roc = scores['test_roc_auc'].mean()"
   ]
  },
  {
   "cell_type": "markdown",
   "metadata": {
    "_cell_guid": "50399b44-6b3d-44c4-aa30-d9a3f97692b2",
    "_uuid": "361044cf5b769d4b7077273aafc99e4f3e32fe6b"
   },
   "source": [
    "#### K-Nearest Neighbors"
   ]
  },
  {
   "cell_type": "code",
   "execution_count": 63,
   "metadata": {
    "_cell_guid": "f8215680-4e0a-4ebf-a825-7b6f05a135cc",
    "_uuid": "4f77cb6195315050b631a755de275b376020fd5b",
    "collapsed": true
   },
   "outputs": [],
   "source": [
    "KNN = KNeighborsClassifier()\n",
    "\n",
    "scoring = ['accuracy', 'precision_macro', 'recall_macro' , 'f1_weighted', 'roc_auc']\n",
    "scores = cross_validate(KNN, X_train, y_train, scoring=scoring, cv=20)\n",
    "\n",
    "sorted(scores.keys())\n",
    "KNN_fit_time = scores['fit_time'].mean()\n",
    "KNN_score_time = scores['score_time'].mean()\n",
    "KNN_accuracy = scores['test_accuracy'].mean()\n",
    "KNN_precision = scores['test_precision_macro'].mean()\n",
    "KNN_recall = scores['test_recall_macro'].mean()\n",
    "KNN_f1 = scores['test_f1_weighted'].mean()\n",
    "KNN_roc = scores['test_roc_auc'].mean()"
   ]
  },
  {
   "cell_type": "markdown",
   "metadata": {
    "_cell_guid": "c38e4271-d5cd-4eb3-bcaa-30b57c3affd5",
    "_uuid": "3e4bb955733406db0320d84965d4b493007188e0"
   },
   "source": [
    "#### Naive Bayes"
   ]
  },
  {
   "cell_type": "code",
   "execution_count": 64,
   "metadata": {
    "_cell_guid": "beabec9a-9bc3-4a40-9a2b-bb41f050e644",
    "_uuid": "a04092f2eb0e26dc483510e2daf103fab6088a4f",
    "collapsed": true
   },
   "outputs": [],
   "source": [
    "bayes = GaussianNB()\n",
    "\n",
    "scoring = ['accuracy', 'precision_macro', 'recall_macro' , 'f1_weighted', 'roc_auc']\n",
    "scores = cross_validate(bayes, X_train, y_train, scoring=scoring, cv=20)\n",
    "\n",
    "sorted(scores.keys())\n",
    "bayes_fit_time = scores['fit_time'].mean()\n",
    "bayes_score_time = scores['score_time'].mean()\n",
    "bayes_accuracy = scores['test_accuracy'].mean()\n",
    "bayes_precision = scores['test_precision_macro'].mean()\n",
    "bayes_recall = scores['test_recall_macro'].mean()\n",
    "bayes_f1 = scores['test_f1_weighted'].mean()\n",
    "bayes_roc = scores['test_roc_auc'].mean()"
   ]
  },
  {
   "cell_type": "markdown",
   "metadata": {
    "_cell_guid": "a4d623f5-abd8-4add-946c-392a6637de0f",
    "_uuid": "297d73b9cb19cc89004bf45bb95ae1fd8b614fb2"
   },
   "source": [
    "### Comparison <a class=\"anchor\" id=\"sum_5\"></a>"
   ]
  },
  {
   "cell_type": "code",
   "execution_count": 65,
   "metadata": {
    "_cell_guid": "0410d6ba-6a31-468b-ba8e-143beb136b9d",
    "_uuid": "1be82e4999732a618bb3d943680d3001755fbe26",
    "scrolled": true
   },
   "outputs": [
    {
     "data": {
      "text/html": [
       "<div>\n",
       "<style scoped>\n",
       "    .dataframe tbody tr th:only-of-type {\n",
       "        vertical-align: middle;\n",
       "    }\n",
       "\n",
       "    .dataframe tbody tr th {\n",
       "        vertical-align: top;\n",
       "    }\n",
       "\n",
       "    .dataframe thead th {\n",
       "        text-align: right;\n",
       "    }\n",
       "</style>\n",
       "<table border=\"1\" class=\"dataframe\">\n",
       "  <thead>\n",
       "    <tr style=\"text-align: right;\">\n",
       "      <th></th>\n",
       "      <th>Model</th>\n",
       "      <th>Fitting time</th>\n",
       "      <th>Scoring time</th>\n",
       "      <th>Accuracy</th>\n",
       "      <th>Precision</th>\n",
       "      <th>Recall</th>\n",
       "      <th>F1_score</th>\n",
       "      <th>AUC_ROC</th>\n",
       "    </tr>\n",
       "  </thead>\n",
       "  <tbody>\n",
       "    <tr>\n",
       "      <th>3</th>\n",
       "      <td>Linear Discriminant Analysis</td>\n",
       "      <td>0.022822</td>\n",
       "      <td>0.002513</td>\n",
       "      <td>0.968275</td>\n",
       "      <td>0.977312</td>\n",
       "      <td>0.957143</td>\n",
       "      <td>0.967416</td>\n",
       "      <td>0.994048</td>\n",
       "    </tr>\n",
       "    <tr>\n",
       "      <th>5</th>\n",
       "      <td>Random Forest</td>\n",
       "      <td>0.021600</td>\n",
       "      <td>0.006660</td>\n",
       "      <td>0.968275</td>\n",
       "      <td>0.974126</td>\n",
       "      <td>0.961607</td>\n",
       "      <td>0.967821</td>\n",
       "      <td>0.978761</td>\n",
       "    </tr>\n",
       "    <tr>\n",
       "      <th>4</th>\n",
       "      <td>Quadratic Discriminant Analysis</td>\n",
       "      <td>0.005288</td>\n",
       "      <td>0.003512</td>\n",
       "      <td>0.963012</td>\n",
       "      <td>0.963984</td>\n",
       "      <td>0.960417</td>\n",
       "      <td>0.962952</td>\n",
       "      <td>0.995184</td>\n",
       "    </tr>\n",
       "    <tr>\n",
       "      <th>0</th>\n",
       "      <td>Logistic Regression</td>\n",
       "      <td>0.005014</td>\n",
       "      <td>0.002326</td>\n",
       "      <td>0.962556</td>\n",
       "      <td>0.968197</td>\n",
       "      <td>0.955357</td>\n",
       "      <td>0.962083</td>\n",
       "      <td>0.989123</td>\n",
       "    </tr>\n",
       "    <tr>\n",
       "      <th>7</th>\n",
       "      <td>Bayes</td>\n",
       "      <td>0.000836</td>\n",
       "      <td>0.002815</td>\n",
       "      <td>0.946930</td>\n",
       "      <td>0.949710</td>\n",
       "      <td>0.940287</td>\n",
       "      <td>0.946462</td>\n",
       "      <td>0.987689</td>\n",
       "    </tr>\n",
       "    <tr>\n",
       "      <th>6</th>\n",
       "      <td>K-Nearest Neighbors</td>\n",
       "      <td>0.000615</td>\n",
       "      <td>0.004514</td>\n",
       "      <td>0.933462</td>\n",
       "      <td>0.943696</td>\n",
       "      <td>0.918858</td>\n",
       "      <td>0.931681</td>\n",
       "      <td>0.951190</td>\n",
       "    </tr>\n",
       "    <tr>\n",
       "      <th>1</th>\n",
       "      <td>Decision Tree</td>\n",
       "      <td>0.002881</td>\n",
       "      <td>0.002422</td>\n",
       "      <td>0.920141</td>\n",
       "      <td>0.917889</td>\n",
       "      <td>0.918669</td>\n",
       "      <td>0.920206</td>\n",
       "      <td>0.918669</td>\n",
       "    </tr>\n",
       "    <tr>\n",
       "      <th>2</th>\n",
       "      <td>Support Vector Machine</td>\n",
       "      <td>0.036472</td>\n",
       "      <td>0.003947</td>\n",
       "      <td>0.632104</td>\n",
       "      <td>0.316052</td>\n",
       "      <td>0.500000</td>\n",
       "      <td>0.489640</td>\n",
       "      <td>0.943669</td>\n",
       "    </tr>\n",
       "  </tbody>\n",
       "</table>\n",
       "</div>"
      ],
      "text/plain": [
       "                             Model  Fitting time  Scoring time  Accuracy  \\\n",
       "3     Linear Discriminant Analysis      0.022822      0.002513  0.968275   \n",
       "5                    Random Forest      0.021600      0.006660  0.968275   \n",
       "4  Quadratic Discriminant Analysis      0.005288      0.003512  0.963012   \n",
       "0              Logistic Regression      0.005014      0.002326  0.962556   \n",
       "7                            Bayes      0.000836      0.002815  0.946930   \n",
       "6              K-Nearest Neighbors      0.000615      0.004514  0.933462   \n",
       "1                    Decision Tree      0.002881      0.002422  0.920141   \n",
       "2           Support Vector Machine      0.036472      0.003947  0.632104   \n",
       "\n",
       "   Precision    Recall  F1_score   AUC_ROC  \n",
       "3   0.977312  0.957143  0.967416  0.994048  \n",
       "5   0.974126  0.961607  0.967821  0.978761  \n",
       "4   0.963984  0.960417  0.962952  0.995184  \n",
       "0   0.968197  0.955357  0.962083  0.989123  \n",
       "7   0.949710  0.940287  0.946462  0.987689  \n",
       "6   0.943696  0.918858  0.931681  0.951190  \n",
       "1   0.917889  0.918669  0.920206  0.918669  \n",
       "2   0.316052  0.500000  0.489640  0.943669  "
      ]
     },
     "execution_count": 65,
     "metadata": {},
     "output_type": "execute_result"
    }
   ],
   "source": [
    "models_rfecv = pd.DataFrame({\n",
    "    'Model'       : ['Logistic Regression', 'Decision Tree', 'Support Vector Machine', 'Linear Discriminant Analysis', 'Quadratic Discriminant Analysis', 'Random Forest', 'K-Nearest Neighbors', 'Bayes'],\n",
    "    'Fitting time': [LR_fit_time, dtree_fit_time, SVM_fit_time, LDA_fit_time, QDA_fit_time, forest_fit_time, KNN_fit_time, bayes_fit_time],\n",
    "    'Scoring time': [LR_score_time, dtree_score_time, SVM_score_time, LDA_score_time, QDA_score_time, forest_score_time, KNN_score_time, bayes_score_time],\n",
    "    'Accuracy'    : [LR_accuracy, dtree_accuracy, SVM_accuracy, LDA_accuracy, QDA_accuracy, forest_accuracy, KNN_accuracy, bayes_accuracy],\n",
    "    'Precision'   : [LR_precision, dtree_precision, SVM_precision, LDA_precision, QDA_precision, forest_precision, KNN_precision, bayes_precision],\n",
    "    'Recall'      : [LR_recall, dtree_recall, SVM_recall, LDA_recall, QDA_recall, forest_recall, KNN_recall, bayes_recall],\n",
    "    'F1_score'    : [LR_f1, dtree_f1, SVM_f1, LDA_f1, QDA_f1, forest_f1, KNN_f1, bayes_f1],\n",
    "    'AUC_ROC'     : [LR_roc, dtree_roc, SVM_roc, LDA_roc, QDA_roc, forest_roc, KNN_roc, bayes_roc],\n",
    "    }, columns = ['Model', 'Fitting time', 'Scoring time', 'Accuracy', 'Precision', 'Recall', 'F1_score', 'AUC_ROC'])\n",
    "\n",
    "models_rfecv.sort_values(by='Accuracy', ascending=False)"
   ]
  },
  {
   "cell_type": "markdown",
   "metadata": {
    "_cell_guid": "5dfbe89d-e67a-4a25-8bf3-4c762bb86b7d",
    "_uuid": "f61ae18b2d71a6007cf0cf6a9fedcf18c8a65cde"
   },
   "source": [
    "# Tree-based feature selection <a class=\"anchor\" id=\"tree\"></a>\n",
    "\n",
    "\n",
    "Documentation: Tree-based estimators (see the sklearn.tree module and forest of trees in the sklearn.ensemble module) can be used to compute feature importances, which in turn can be used to discard irrelevant features (when coupled with the sklearn.feature_selection.SelectFromModel meta-transformer)."
   ]
  },
  {
   "cell_type": "code",
   "execution_count": 66,
   "metadata": {
    "_cell_guid": "207af6d6-18e5-4d4a-bcfc-bab3d63c6d28",
    "_uuid": "3545a52fed6f6b6dd4b3a8d0c13524c30fcf1bc6"
   },
   "outputs": [
    {
     "data": {
      "text/plain": [
       "(569, 10)"
      ]
     },
     "execution_count": 66,
     "metadata": {},
     "output_type": "execute_result"
    }
   ],
   "source": [
    "lsvc = LinearSVC(C=0.05, penalty=\"l1\", dual=False).fit(X, y)\n",
    "etc = ExtraTreesClassifier()\n",
    "etc.fit(X, y)\n",
    "\n",
    "model = SelectFromModel(etc, prefit=True)\n",
    "X_etc = model.transform(X)\n",
    "X_etc.shape "
   ]
  },
  {
   "cell_type": "code",
   "execution_count": 67,
   "metadata": {
    "_cell_guid": "b4915bfe-3843-41ec-8367-ea6165107e1c",
    "_uuid": "689e74098657b35188a4301b820a4cb3843a116e",
    "collapsed": true
   },
   "outputs": [],
   "source": [
    "X_train, X_test, y_train, y_test = train_test_split(X,y,test_size=0.34)"
   ]
  },
  {
   "cell_type": "markdown",
   "metadata": {
    "_cell_guid": "19445b8e-db84-4bc2-ac78-f01c12905032",
    "_uuid": "a6d63531c202e53f219b32d0361549f07b6e5f97"
   },
   "source": [
    "#### Decision Tree"
   ]
  },
  {
   "cell_type": "code",
   "execution_count": 68,
   "metadata": {
    "_cell_guid": "8af844d1-47f8-4d02-9b4a-a503ac96b36d",
    "_uuid": "70763b4beb567a0f8cd3503da859a3bed10f6627",
    "collapsed": true
   },
   "outputs": [],
   "source": [
    "LR = LogisticRegression()\n",
    "\n",
    "scoring = ['accuracy', 'precision_macro', 'recall_macro' , 'f1_weighted', 'roc_auc']\n",
    "scores = cross_validate(LR, X_train, y_train, scoring=scoring, cv=20)\n",
    "\n",
    "sorted(scores.keys())\n",
    "LR_fit_time = scores['fit_time'].mean()\n",
    "LR_score_time = scores['score_time'].mean()\n",
    "LR_accuracy = scores['test_accuracy'].mean()\n",
    "LR_precision = scores['test_precision_macro'].mean()\n",
    "LR_recall = scores['test_recall_macro'].mean()\n",
    "LR_f1 = scores['test_f1_weighted'].mean()\n",
    "LR_roc = scores['test_roc_auc'].mean()"
   ]
  },
  {
   "cell_type": "markdown",
   "metadata": {
    "_cell_guid": "b68186d4-f5c3-464a-b88e-dfb414da468a",
    "_uuid": "4fc182cac45df001f7d44f96e4c866dcea3cd2e4"
   },
   "source": [
    "#### Decision Tree"
   ]
  },
  {
   "cell_type": "code",
   "execution_count": 69,
   "metadata": {
    "_cell_guid": "0bfd7f95-107f-4d74-9c8b-f92a02764716",
    "_uuid": "f9e60b53ff265d22ec044943dce174a1a2165889",
    "collapsed": true
   },
   "outputs": [],
   "source": [
    "decision_tree = DecisionTreeClassifier()\n",
    "\n",
    "scoring = ['accuracy', 'precision_macro', 'recall_macro' , 'f1_weighted', 'roc_auc']\n",
    "scores = cross_validate(decision_tree, X_train, y_train, scoring=scoring, cv=20)\n",
    "\n",
    "sorted(scores.keys())\n",
    "dtree_fit_time = scores['fit_time'].mean()\n",
    "dtree_score_time = scores['score_time'].mean()\n",
    "dtree_accuracy = scores['test_accuracy'].mean()\n",
    "dtree_precision = scores['test_precision_macro'].mean()\n",
    "dtree_recall = scores['test_recall_macro'].mean()\n",
    "dtree_f1 = scores['test_f1_weighted'].mean()\n",
    "dtree_roc = scores['test_roc_auc'].mean()"
   ]
  },
  {
   "cell_type": "markdown",
   "metadata": {
    "_cell_guid": "d925c511-930d-4dfa-8f37-a2a3e19dbfa9",
    "_uuid": "da03269afd2f72c7dfa7296708511059b6596b52"
   },
   "source": [
    "#### Support Vector Machine"
   ]
  },
  {
   "cell_type": "code",
   "execution_count": 70,
   "metadata": {
    "_cell_guid": "afb13969-0042-4fe7-af6e-e209446a7dbd",
    "_uuid": "f97713b9bd1dd6545e3765e2cf7e1c00387e87bf",
    "collapsed": true
   },
   "outputs": [],
   "source": [
    "SVM = SVC(probability = True)\n",
    "\n",
    "scoring = ['accuracy','precision_macro', 'recall_macro' , 'f1_weighted', 'roc_auc']\n",
    "scores = cross_validate(SVM, X_train, y_train, scoring=scoring, cv=20)\n",
    "\n",
    "sorted(scores.keys())\n",
    "SVM_fit_time = scores['fit_time'].mean()\n",
    "SVM_score_time = scores['score_time'].mean()\n",
    "SVM_accuracy = scores['test_accuracy'].mean()\n",
    "SVM_precision = scores['test_precision_macro'].mean()\n",
    "SVM_recall = scores['test_recall_macro'].mean()\n",
    "SVM_f1 = scores['test_f1_weighted'].mean()\n",
    "SVM_roc = scores['test_roc_auc'].mean()"
   ]
  },
  {
   "cell_type": "markdown",
   "metadata": {
    "_cell_guid": "bc6fc3d7-c80f-49f1-92cc-a5e868e433a1",
    "_uuid": "3c30bb0d1ab6ee3a5e11ce233e919ac03f2aeadc"
   },
   "source": [
    "#### Linear Discriminant Analysis"
   ]
  },
  {
   "cell_type": "code",
   "execution_count": 71,
   "metadata": {
    "_cell_guid": "aa51ffb8-7534-4202-9b8d-7ff6794e6cc9",
    "_uuid": "81c746035618e8391019f1af5fd3b44ccd226f53",
    "collapsed": true
   },
   "outputs": [],
   "source": [
    "LDA = LinearDiscriminantAnalysis()\n",
    "\n",
    "scoring = ['accuracy', 'precision_macro', 'recall_macro' , 'f1_weighted', 'roc_auc']\n",
    "scores = cross_validate(LDA, X_train, y_train, scoring=scoring, cv=20)\n",
    "\n",
    "sorted(scores.keys())\n",
    "LDA_fit_time = scores['fit_time'].mean()\n",
    "LDA_score_time = scores['score_time'].mean()\n",
    "LDA_accuracy = scores['test_accuracy'].mean()\n",
    "LDA_precision = scores['test_precision_macro'].mean()\n",
    "LDA_recall = scores['test_recall_macro'].mean()\n",
    "LDA_f1 = scores['test_f1_weighted'].mean()\n",
    "LDA_roc = scores['test_roc_auc'].mean()"
   ]
  },
  {
   "cell_type": "markdown",
   "metadata": {
    "_cell_guid": "fa5073a3-c9da-471a-85b1-bfbda2378904",
    "_uuid": "6100f38d78c3a8ae030fbc7490cc914ceb3edb7c"
   },
   "source": [
    "#### Quadratic Discriminant Analysis"
   ]
  },
  {
   "cell_type": "code",
   "execution_count": 72,
   "metadata": {
    "_cell_guid": "0752b84d-8675-40ce-b796-435ae9cad7ab",
    "_uuid": "3cd23487a58c024b0d0c1a89043cccbf22287d56",
    "collapsed": true
   },
   "outputs": [],
   "source": [
    "QDA = QuadraticDiscriminantAnalysis()\n",
    "\n",
    "scoring = ['accuracy', 'precision_macro', 'recall_macro' , 'f1_weighted', 'roc_auc']\n",
    "scores = cross_validate(QDA, X_train, y_train, scoring=scoring, cv=20)\n",
    "\n",
    "sorted(scores.keys())\n",
    "QDA_fit_time = scores['fit_time'].mean()\n",
    "QDA_score_time = scores['score_time'].mean()\n",
    "QDA_accuracy = scores['test_accuracy'].mean()\n",
    "QDA_precision = scores['test_precision_macro'].mean()\n",
    "QDA_recall = scores['test_recall_macro'].mean()\n",
    "QDA_f1 = scores['test_f1_weighted'].mean()\n",
    "QDA_roc = scores['test_roc_auc'].mean()"
   ]
  },
  {
   "cell_type": "markdown",
   "metadata": {
    "_cell_guid": "439e2c2b-d7ab-4797-b2bb-bfe0ca310f1c",
    "_uuid": "13b7219078b4ec1f6352ff7efb28a5a4c4e3a920"
   },
   "source": [
    "#### Random Forest Classifier"
   ]
  },
  {
   "cell_type": "code",
   "execution_count": 73,
   "metadata": {
    "_cell_guid": "903d7448-81e4-4b9e-9cbe-33c21a3cac22",
    "_uuid": "2d3b7975d1f57d9219ef561c42180da16af3056b",
    "collapsed": true
   },
   "outputs": [],
   "source": [
    "random_forest = RandomForestClassifier()\n",
    "\n",
    "scoring = ['accuracy', 'precision_macro', 'recall_macro' , 'f1_weighted', 'roc_auc']\n",
    "scores = cross_validate(random_forest, X_train, y_train, scoring=scoring, cv=20)\n",
    "\n",
    "sorted(scores.keys())\n",
    "forest_fit_time = scores['fit_time'].mean()\n",
    "forest_score_time = scores['score_time'].mean()\n",
    "forest_accuracy = scores['test_accuracy'].mean()\n",
    "forest_precision = scores['test_precision_macro'].mean()\n",
    "forest_recall = scores['test_recall_macro'].mean()\n",
    "forest_f1 = scores['test_f1_weighted'].mean()\n",
    "forest_roc = scores['test_roc_auc'].mean()"
   ]
  },
  {
   "cell_type": "markdown",
   "metadata": {
    "_cell_guid": "ae336d36-f222-4b3c-afe6-6d1ceffc510f",
    "_uuid": "cb68fcc2da68a8320676b8a082705ba8a0090db2"
   },
   "source": [
    "#### K-Nearest Neighbors"
   ]
  },
  {
   "cell_type": "code",
   "execution_count": 74,
   "metadata": {
    "_cell_guid": "9c9de8d7-b492-409c-bf5e-9820e049eebb",
    "_uuid": "5d7bc1d6f80314a242d650397bcfb5f0e47c00d9",
    "collapsed": true
   },
   "outputs": [],
   "source": [
    "KNN = KNeighborsClassifier()\n",
    "\n",
    "scoring = ['accuracy', 'precision_macro', 'recall_macro' , 'f1_weighted', 'roc_auc']\n",
    "scores = cross_validate(KNN, X_train, y_train, scoring=scoring, cv=20)\n",
    "\n",
    "sorted(scores.keys())\n",
    "KNN_fit_time = scores['fit_time'].mean()\n",
    "KNN_score_time = scores['score_time'].mean()\n",
    "KNN_accuracy = scores['test_accuracy'].mean()\n",
    "KNN_precision = scores['test_precision_macro'].mean()\n",
    "KNN_recall = scores['test_recall_macro'].mean()\n",
    "KNN_f1 = scores['test_f1_weighted'].mean()\n",
    "KNN_roc = scores['test_roc_auc'].mean()"
   ]
  },
  {
   "cell_type": "markdown",
   "metadata": {
    "_cell_guid": "4aeb6f75-107e-4677-bfe7-4e16bf5e3b19",
    "_uuid": "a383b889ff14d416a1ef6d1cff354cb3c21767da"
   },
   "source": [
    "#### Naive Bayes"
   ]
  },
  {
   "cell_type": "code",
   "execution_count": 75,
   "metadata": {
    "_cell_guid": "afb84980-af84-4f18-9b9a-5ab216d2233d",
    "_uuid": "114b20b1760207d8b92bb17666174b192dec27e8",
    "collapsed": true
   },
   "outputs": [],
   "source": [
    "bayes = GaussianNB()\n",
    "\n",
    "scoring = ['accuracy', 'precision_macro', 'recall_macro' , 'f1_weighted', 'roc_auc']\n",
    "scores = cross_validate(bayes, X_train, y_train, scoring=scoring, cv=20)\n",
    "\n",
    "sorted(scores.keys())\n",
    "bayes_fit_time = scores['fit_time'].mean()\n",
    "bayes_score_time = scores['score_time'].mean()\n",
    "bayes_accuracy = scores['test_accuracy'].mean()\n",
    "bayes_precision = scores['test_precision_macro'].mean()\n",
    "bayes_recall = scores['test_recall_macro'].mean()\n",
    "bayes_f1 = scores['test_f1_weighted'].mean()\n",
    "bayes_roc = scores['test_roc_auc'].mean()"
   ]
  },
  {
   "cell_type": "markdown",
   "metadata": {
    "_cell_guid": "f279f7b3-6060-4131-8dee-bbd954dd7bf4",
    "_uuid": "5eeb1c821a1fa5c85d1b745341357d8922d2e286"
   },
   "source": [
    "### Comparison <a class=\"anchor\" id=\"sum_6\"></a>"
   ]
  },
  {
   "cell_type": "code",
   "execution_count": 76,
   "metadata": {
    "_cell_guid": "28034c26-b7e0-40ef-b6e5-1a949153caaf",
    "_uuid": "457740623307740333b91f431d08c5bbdc06d399",
    "scrolled": true
   },
   "outputs": [
    {
     "data": {
      "text/html": [
       "<div>\n",
       "<style scoped>\n",
       "    .dataframe tbody tr th:only-of-type {\n",
       "        vertical-align: middle;\n",
       "    }\n",
       "\n",
       "    .dataframe tbody tr th {\n",
       "        vertical-align: top;\n",
       "    }\n",
       "\n",
       "    .dataframe thead th {\n",
       "        text-align: right;\n",
       "    }\n",
       "</style>\n",
       "<table border=\"1\" class=\"dataframe\">\n",
       "  <thead>\n",
       "    <tr style=\"text-align: right;\">\n",
       "      <th></th>\n",
       "      <th>Model</th>\n",
       "      <th>Fitting time</th>\n",
       "      <th>Scoring time</th>\n",
       "      <th>Accuracy</th>\n",
       "      <th>Precision</th>\n",
       "      <th>Recall</th>\n",
       "      <th>F1_score</th>\n",
       "      <th>AUC_ROC</th>\n",
       "    </tr>\n",
       "  </thead>\n",
       "  <tbody>\n",
       "    <tr>\n",
       "      <th>5</th>\n",
       "      <td>Random Forest</td>\n",
       "      <td>0.019746</td>\n",
       "      <td>0.006949</td>\n",
       "      <td>0.955117</td>\n",
       "      <td>0.956754</td>\n",
       "      <td>0.949702</td>\n",
       "      <td>0.954665</td>\n",
       "      <td>0.985714</td>\n",
       "    </tr>\n",
       "    <tr>\n",
       "      <th>3</th>\n",
       "      <td>Linear Discriminant Analysis</td>\n",
       "      <td>0.020771</td>\n",
       "      <td>0.006128</td>\n",
       "      <td>0.954644</td>\n",
       "      <td>0.965192</td>\n",
       "      <td>0.939583</td>\n",
       "      <td>0.953016</td>\n",
       "      <td>0.988690</td>\n",
       "    </tr>\n",
       "    <tr>\n",
       "      <th>4</th>\n",
       "      <td>Quadratic Discriminant Analysis</td>\n",
       "      <td>0.030104</td>\n",
       "      <td>0.004109</td>\n",
       "      <td>0.951703</td>\n",
       "      <td>0.953655</td>\n",
       "      <td>0.951515</td>\n",
       "      <td>0.951747</td>\n",
       "      <td>0.988095</td>\n",
       "    </tr>\n",
       "    <tr>\n",
       "      <th>0</th>\n",
       "      <td>Logistic Regression</td>\n",
       "      <td>0.005199</td>\n",
       "      <td>0.002582</td>\n",
       "      <td>0.947222</td>\n",
       "      <td>0.950305</td>\n",
       "      <td>0.940476</td>\n",
       "      <td>0.946847</td>\n",
       "      <td>0.991071</td>\n",
       "    </tr>\n",
       "    <tr>\n",
       "      <th>1</th>\n",
       "      <td>Decision Tree</td>\n",
       "      <td>0.004366</td>\n",
       "      <td>0.002542</td>\n",
       "      <td>0.947059</td>\n",
       "      <td>0.947214</td>\n",
       "      <td>0.944345</td>\n",
       "      <td>0.947020</td>\n",
       "      <td>0.944345</td>\n",
       "    </tr>\n",
       "    <tr>\n",
       "      <th>7</th>\n",
       "      <td>Bayes</td>\n",
       "      <td>0.001361</td>\n",
       "      <td>0.003089</td>\n",
       "      <td>0.934064</td>\n",
       "      <td>0.940789</td>\n",
       "      <td>0.922619</td>\n",
       "      <td>0.933142</td>\n",
       "      <td>0.988690</td>\n",
       "    </tr>\n",
       "    <tr>\n",
       "      <th>6</th>\n",
       "      <td>K-Nearest Neighbors</td>\n",
       "      <td>0.001186</td>\n",
       "      <td>0.004986</td>\n",
       "      <td>0.920141</td>\n",
       "      <td>0.926842</td>\n",
       "      <td>0.909740</td>\n",
       "      <td>0.919071</td>\n",
       "      <td>0.954843</td>\n",
       "    </tr>\n",
       "    <tr>\n",
       "      <th>2</th>\n",
       "      <td>Support Vector Machine</td>\n",
       "      <td>0.043532</td>\n",
       "      <td>0.004507</td>\n",
       "      <td>0.632104</td>\n",
       "      <td>0.316052</td>\n",
       "      <td>0.500000</td>\n",
       "      <td>0.489640</td>\n",
       "      <td>0.914989</td>\n",
       "    </tr>\n",
       "  </tbody>\n",
       "</table>\n",
       "</div>"
      ],
      "text/plain": [
       "                             Model  Fitting time  Scoring time  Accuracy  \\\n",
       "5                    Random Forest      0.019746      0.006949  0.955117   \n",
       "3     Linear Discriminant Analysis      0.020771      0.006128  0.954644   \n",
       "4  Quadratic Discriminant Analysis      0.030104      0.004109  0.951703   \n",
       "0              Logistic Regression      0.005199      0.002582  0.947222   \n",
       "1                    Decision Tree      0.004366      0.002542  0.947059   \n",
       "7                            Bayes      0.001361      0.003089  0.934064   \n",
       "6              K-Nearest Neighbors      0.001186      0.004986  0.920141   \n",
       "2           Support Vector Machine      0.043532      0.004507  0.632104   \n",
       "\n",
       "   Precision    Recall  F1_score   AUC_ROC  \n",
       "5   0.956754  0.949702  0.954665  0.985714  \n",
       "3   0.965192  0.939583  0.953016  0.988690  \n",
       "4   0.953655  0.951515  0.951747  0.988095  \n",
       "0   0.950305  0.940476  0.946847  0.991071  \n",
       "1   0.947214  0.944345  0.947020  0.944345  \n",
       "7   0.940789  0.922619  0.933142  0.988690  \n",
       "6   0.926842  0.909740  0.919071  0.954843  \n",
       "2   0.316052  0.500000  0.489640  0.914989  "
      ]
     },
     "execution_count": 76,
     "metadata": {},
     "output_type": "execute_result"
    }
   ],
   "source": [
    "models_tree = pd.DataFrame({\n",
    "    'Model'       : ['Logistic Regression', 'Decision Tree', 'Support Vector Machine', 'Linear Discriminant Analysis', 'Quadratic Discriminant Analysis', 'Random Forest', 'K-Nearest Neighbors', 'Bayes'],\n",
    "    'Fitting time': [LR_fit_time, dtree_fit_time, SVM_fit_time, LDA_fit_time, QDA_fit_time, forest_fit_time, KNN_fit_time, bayes_fit_time],\n",
    "    'Scoring time': [LR_score_time, dtree_score_time, SVM_score_time, LDA_score_time, QDA_score_time, forest_score_time, KNN_score_time, bayes_score_time],\n",
    "    'Accuracy'    : [LR_accuracy, dtree_accuracy, SVM_accuracy, LDA_accuracy, QDA_accuracy, forest_accuracy, KNN_accuracy, bayes_accuracy],\n",
    "    'Precision'   : [LR_precision, dtree_precision, SVM_precision, LDA_precision, QDA_precision, forest_precision, KNN_precision, bayes_precision],\n",
    "    'Recall'      : [LR_recall, dtree_recall, SVM_recall, LDA_recall, QDA_recall, forest_recall, KNN_recall, bayes_recall],\n",
    "    'F1_score'    : [LR_f1, dtree_f1, SVM_f1, LDA_f1, QDA_f1, forest_f1, KNN_f1, bayes_f1],\n",
    "    'AUC_ROC'     : [LR_roc, dtree_roc, SVM_roc, LDA_roc, QDA_roc, forest_roc, KNN_roc, bayes_roc],\n",
    "    }, columns = ['Model', 'Fitting time', 'Scoring time', 'Accuracy', 'Precision', 'Recall', 'F1_score', 'AUC_ROC'])\n",
    "\n",
    "models_tree.sort_values(by='Accuracy', ascending=False)"
   ]
  },
  {
   "cell_type": "markdown",
   "metadata": {
    "_cell_guid": "2d2e75a7-2700-46e4-af06-03fb2ab05e32",
    "_uuid": "61e5f2b61a24ebc48261e6e694dbba266d270d87"
   },
   "source": [
    "# General comparison <a class=\"anchor\" id=\"third_bullet\"></a>"
   ]
  },
  {
   "cell_type": "code",
   "execution_count": 77,
   "metadata": {
    "_cell_guid": "5cfbb4f2-e00f-42f4-bd65-7cbf27ed69b9",
    "_uuid": "7b016098950d1eb0db4b86e06771736274f8cb9b",
    "scrolled": false
   },
   "outputs": [
    {
     "data": {
      "text/html": [
       "<div>\n",
       "<style scoped>\n",
       "    .dataframe tbody tr th:only-of-type {\n",
       "        vertical-align: middle;\n",
       "    }\n",
       "\n",
       "    .dataframe tbody tr th {\n",
       "        vertical-align: top;\n",
       "    }\n",
       "\n",
       "    .dataframe thead th {\n",
       "        text-align: right;\n",
       "    }\n",
       "</style>\n",
       "<table border=\"1\" class=\"dataframe\">\n",
       "  <thead>\n",
       "    <tr style=\"text-align: right;\">\n",
       "      <th></th>\n",
       "      <th>W/out reduction</th>\n",
       "      <th>Accuracy</th>\n",
       "      <th>Correlation</th>\n",
       "      <th>Accuracy_corr</th>\n",
       "      <th>Linear+SFM</th>\n",
       "      <th>Accuracy_sfm</th>\n",
       "      <th>Linear+RFECV</th>\n",
       "      <th>Accuracy_RFECV</th>\n",
       "      <th>Extra trees</th>\n",
       "      <th>Accuracy_trees</th>\n",
       "      <th>Voting</th>\n",
       "      <th>Accuracy_voting</th>\n",
       "    </tr>\n",
       "  </thead>\n",
       "  <tbody>\n",
       "    <tr>\n",
       "      <th>3</th>\n",
       "      <td>Linear Discriminant Analysis</td>\n",
       "      <td>0.948757</td>\n",
       "      <td>Linear Discriminant Analysis</td>\n",
       "      <td>0.955263</td>\n",
       "      <td>Linear Discriminant Analysis</td>\n",
       "      <td>0.968231</td>\n",
       "      <td>Linear Discriminant Analysis</td>\n",
       "      <td>0.968275</td>\n",
       "      <td>Linear Discriminant Analysis</td>\n",
       "      <td>0.954644</td>\n",
       "      <td>NaN</td>\n",
       "      <td>NaN</td>\n",
       "    </tr>\n",
       "    <tr>\n",
       "      <th>4</th>\n",
       "      <td>Quadratic Discriminant Analysis</td>\n",
       "      <td>0.943480</td>\n",
       "      <td>Quadratic Discriminant Analysis</td>\n",
       "      <td>0.955263</td>\n",
       "      <td>Quadratic Discriminant Analysis</td>\n",
       "      <td>0.960307</td>\n",
       "      <td>Quadratic Discriminant Analysis</td>\n",
       "      <td>0.963012</td>\n",
       "      <td>Quadratic Discriminant Analysis</td>\n",
       "      <td>0.951703</td>\n",
       "      <td>NaN</td>\n",
       "      <td>NaN</td>\n",
       "    </tr>\n",
       "    <tr>\n",
       "      <th>0</th>\n",
       "      <td>Logistic Regression</td>\n",
       "      <td>0.943348</td>\n",
       "      <td>Logistic Regression</td>\n",
       "      <td>0.952485</td>\n",
       "      <td>Logistic Regression</td>\n",
       "      <td>0.951433</td>\n",
       "      <td>Logistic Regression</td>\n",
       "      <td>0.962556</td>\n",
       "      <td>Logistic Regression</td>\n",
       "      <td>0.947222</td>\n",
       "      <td>Ensebling_hard</td>\n",
       "      <td>0.958763</td>\n",
       "    </tr>\n",
       "    <tr>\n",
       "      <th>5</th>\n",
       "      <td>Random Forest</td>\n",
       "      <td>0.941126</td>\n",
       "      <td>Random Forest</td>\n",
       "      <td>0.957895</td>\n",
       "      <td>Random Forest</td>\n",
       "      <td>0.949225</td>\n",
       "      <td>Random Forest</td>\n",
       "      <td>0.968275</td>\n",
       "      <td>Random Forest</td>\n",
       "      <td>0.955117</td>\n",
       "      <td>NaN</td>\n",
       "      <td>NaN</td>\n",
       "    </tr>\n",
       "    <tr>\n",
       "      <th>6</th>\n",
       "      <td>K-Nearest Neighbors</td>\n",
       "      <td>0.935848</td>\n",
       "      <td>K-Nearest Neighbors</td>\n",
       "      <td>0.912865</td>\n",
       "      <td>K-Nearest Neighbors</td>\n",
       "      <td>0.938523</td>\n",
       "      <td>K-Nearest Neighbors</td>\n",
       "      <td>0.933462</td>\n",
       "      <td>K-Nearest Neighbors</td>\n",
       "      <td>0.920141</td>\n",
       "      <td>NaN</td>\n",
       "      <td>NaN</td>\n",
       "    </tr>\n",
       "    <tr>\n",
       "      <th>7</th>\n",
       "      <td>Bayes</td>\n",
       "      <td>0.930994</td>\n",
       "      <td>Bayes</td>\n",
       "      <td>0.941649</td>\n",
       "      <td>Bayes</td>\n",
       "      <td>0.920088</td>\n",
       "      <td>Bayes</td>\n",
       "      <td>0.946930</td>\n",
       "      <td>Bayes</td>\n",
       "      <td>0.934064</td>\n",
       "      <td>NaN</td>\n",
       "      <td>NaN</td>\n",
       "    </tr>\n",
       "    <tr>\n",
       "      <th>1</th>\n",
       "      <td>Decision Tree</td>\n",
       "      <td>0.913611</td>\n",
       "      <td>Decision Tree</td>\n",
       "      <td>0.926023</td>\n",
       "      <td>Decision Tree</td>\n",
       "      <td>0.917178</td>\n",
       "      <td>Decision Tree</td>\n",
       "      <td>0.920141</td>\n",
       "      <td>Decision Tree</td>\n",
       "      <td>0.947059</td>\n",
       "      <td>Ensembling_soft</td>\n",
       "      <td>0.963918</td>\n",
       "    </tr>\n",
       "    <tr>\n",
       "      <th>2</th>\n",
       "      <td>Support Vector Machine</td>\n",
       "      <td>0.656404</td>\n",
       "      <td>Support Vector Machine</td>\n",
       "      <td>0.629283</td>\n",
       "      <td>Support Vector Machine</td>\n",
       "      <td>0.618655</td>\n",
       "      <td>Support Vector Machine</td>\n",
       "      <td>0.632104</td>\n",
       "      <td>Support Vector Machine</td>\n",
       "      <td>0.632104</td>\n",
       "      <td>NaN</td>\n",
       "      <td>NaN</td>\n",
       "    </tr>\n",
       "  </tbody>\n",
       "</table>\n",
       "</div>"
      ],
      "text/plain": [
       "                   W/out reduction  Accuracy                      Correlation  \\\n",
       "3     Linear Discriminant Analysis  0.948757     Linear Discriminant Analysis   \n",
       "4  Quadratic Discriminant Analysis  0.943480  Quadratic Discriminant Analysis   \n",
       "0              Logistic Regression  0.943348              Logistic Regression   \n",
       "5                    Random Forest  0.941126                    Random Forest   \n",
       "6              K-Nearest Neighbors  0.935848              K-Nearest Neighbors   \n",
       "7                            Bayes  0.930994                            Bayes   \n",
       "1                    Decision Tree  0.913611                    Decision Tree   \n",
       "2           Support Vector Machine  0.656404           Support Vector Machine   \n",
       "\n",
       "   Accuracy_corr                       Linear+SFM  Accuracy_sfm  \\\n",
       "3       0.955263     Linear Discriminant Analysis      0.968231   \n",
       "4       0.955263  Quadratic Discriminant Analysis      0.960307   \n",
       "0       0.952485              Logistic Regression      0.951433   \n",
       "5       0.957895                    Random Forest      0.949225   \n",
       "6       0.912865              K-Nearest Neighbors      0.938523   \n",
       "7       0.941649                            Bayes      0.920088   \n",
       "1       0.926023                    Decision Tree      0.917178   \n",
       "2       0.629283           Support Vector Machine      0.618655   \n",
       "\n",
       "                      Linear+RFECV  Accuracy_RFECV  \\\n",
       "3     Linear Discriminant Analysis        0.968275   \n",
       "4  Quadratic Discriminant Analysis        0.963012   \n",
       "0              Logistic Regression        0.962556   \n",
       "5                    Random Forest        0.968275   \n",
       "6              K-Nearest Neighbors        0.933462   \n",
       "7                            Bayes        0.946930   \n",
       "1                    Decision Tree        0.920141   \n",
       "2           Support Vector Machine        0.632104   \n",
       "\n",
       "                       Extra trees  Accuracy_trees           Voting  \\\n",
       "3     Linear Discriminant Analysis        0.954644              NaN   \n",
       "4  Quadratic Discriminant Analysis        0.951703              NaN   \n",
       "0              Logistic Regression        0.947222   Ensebling_hard   \n",
       "5                    Random Forest        0.955117              NaN   \n",
       "6              K-Nearest Neighbors        0.920141              NaN   \n",
       "7                            Bayes        0.934064              NaN   \n",
       "1                    Decision Tree        0.947059  Ensembling_soft   \n",
       "2           Support Vector Machine        0.632104              NaN   \n",
       "\n",
       "   Accuracy_voting  \n",
       "3              NaN  \n",
       "4              NaN  \n",
       "0         0.958763  \n",
       "5              NaN  \n",
       "6              NaN  \n",
       "7              NaN  \n",
       "1         0.963918  \n",
       "2              NaN  "
      ]
     },
     "execution_count": 77,
     "metadata": {},
     "output_type": "execute_result"
    }
   ],
   "source": [
    "model_general = pd.concat([models_initial['Model'], models_initial['Accuracy'], \n",
    "                           models_correlation['Model'],models_correlation['Accuracy'],\n",
    "                          models_sfm['Model'], models_sfm['Accuracy'],\n",
    "                          models_rfecv['Model'], models_rfecv['Accuracy'],\n",
    "                          models_tree['Model'], models_tree['Accuracy'],\n",
    "                          models_ensembling['Model'], models_ensembling['Accuracy']]\n",
    "                          , axis=1)\n",
    "\n",
    "model_general.columns = ['W/out reduction', 'Accuracy', 'Correlation', 'Accuracy_corr',\n",
    "                        'Linear+SFM', 'Accuracy_sfm', 'Linear+RFECV', 'Accuracy_RFECV', 'Extra trees',\n",
    "                         'Accuracy_trees', 'Voting', 'Accuracy_voting']\n",
    "\n",
    "model_general.sort_values(by='Accuracy', ascending=False)"
   ]
  },
  {
   "cell_type": "markdown",
   "metadata": {
    "_cell_guid": "ff662065-8718-4cb6-932b-2cf4238f085d",
    "_uuid": "dbb5e15b291e388fb0cae499e32486575ee45101"
   },
   "source": [
    "Note! Logistic regression, Lineard and Quadratic Discriminant Analysis, and Random Forest algorithms are themselves used for adjusting number of features. That means that applying additional reduction (corelation, SelectFromModel, REFCV) the dimensionality can be reduced more that once."
   ]
  }
 ],
 "metadata": {
  "kernelspec": {
   "display_name": "Python 3",
   "language": "python",
   "name": "python3"
  },
  "language_info": {
   "codemirror_mode": {
    "name": "ipython",
    "version": 3
   },
   "file_extension": ".py",
   "mimetype": "text/x-python",
   "name": "python",
   "nbconvert_exporter": "python",
   "pygments_lexer": "ipython3",
   "version": "3.6.3"
  }
 },
 "nbformat": 4,
 "nbformat_minor": 1
}
