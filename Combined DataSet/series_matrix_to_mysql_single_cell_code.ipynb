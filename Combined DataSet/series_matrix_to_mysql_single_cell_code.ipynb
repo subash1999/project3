{
 "cells": [
  {
   "cell_type": "code",
   "execution_count": 2,
   "metadata": {},
   "outputs": [
    {
     "name": "stdout",
     "output_type": "stream",
     "text": [
      "e-tabm-158_series_matrix : 22216\n",
      "gse1456_series_matrix : 22284\n",
      "gse2034_series_matrix : 22284\n",
      "gse2990_series_matrix : 22284\n",
      "gse3494_series_matrix : 22284\n",
      "gse4922_series_matrix : 22284\n",
      "gse7390_series_matrix : 22284\n"
     ]
    }
   ],
   "source": [
    "import mysql.connector\n",
    "import pandas as pd\n",
    "import numpy as np\n",
    "mydb = mysql.connector.connect(\n",
    "    host=\"localhost\",\n",
    "    user=\"root\",\n",
    "    passwd=\"\",\n",
    "    database=\"data\"\n",
    ")\n",
    "mycursor = mydb.cursor()\n",
    "table_names = [\n",
    "    \"e-tabm-158_series_matrix\",\n",
    "    \"gse1456_series_matrix\",\n",
    "    \"gse2034_series_matrix\",\n",
    "    \"gse2990_series_matrix\",\n",
    "    \"gse3494_series_matrix\",\n",
    "    \"gse4922_series_matrix\",\n",
    "    \"gse7390_series_matrix\"]\n",
    "for table_name in table_names:\n",
    "    df = pd.read_csv(\"series_matrix/\"+table_name+\".csv\")\n",
    "    mycursor.execute(\"DROP TABLE IF EXISTS `\"+table_name+\"`;\")\n",
    "    sql = \"CREATE TABLE `\"+table_name+\"` (\"\n",
    "    count = 1\n",
    "    columns = \"(\"\n",
    "    for x in df.columns:\n",
    "        if count!= len(list(df.columns)) :\n",
    "            sql += \"`\"+x + \"` VARCHAR(20),\"\n",
    "            columns += \"`\"+x + \"`,\"\n",
    "        else:\n",
    "            sql += \"`\"+x + \"` VARCHAR(20)\"\n",
    "            columns += \"`\"+x + \"`)\"\n",
    "        count+=1\n",
    "    sql += \")\"\n",
    "    mycursor.execute(sql)\n",
    "    no_of_rows = 1\n",
    "    for x in df.iterrows():\n",
    "        insert = \"INSERT INTO `\"+table_name+\"` \"+columns+\" VALUES (\"\n",
    "        count = 1\n",
    "        for y in x[1]:\n",
    "            if count != len(list(x[1])):\n",
    "                insert += \"\\\"\"+str(y)+\"\\\",\"\n",
    "            else:\n",
    "                insert += \"\\\"\"+str(y)+\"\\\"\"\n",
    "            count+=1\n",
    "        insert += \")\"\n",
    "\n",
    "        mycursor.execute(insert)\n",
    "        no_of_rows +=1\n",
    "    mydb.commit()\n",
    "    print(table_name+\" : \"+ str(no_of_rows))"
   ]
  },
  {
   "cell_type": "code",
   "execution_count": null,
   "metadata": {},
   "outputs": [],
   "source": []
  }
 ],
 "metadata": {
  "kernelspec": {
   "display_name": "Python 3",
   "language": "python",
   "name": "python3"
  },
  "language_info": {
   "codemirror_mode": {
    "name": "ipython",
    "version": 3
   },
   "file_extension": ".py",
   "mimetype": "text/x-python",
   "name": "python",
   "nbconvert_exporter": "python",
   "pygments_lexer": "ipython3",
   "version": "3.7.4"
  }
 },
 "nbformat": 4,
 "nbformat_minor": 2
}
