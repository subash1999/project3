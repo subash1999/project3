{
 "cells": [
  {
   "cell_type": "code",
   "execution_count": 1,
   "metadata": {},
   "outputs": [],
   "source": [
    "import mysql.connector\n",
    "import pandas as pd\n",
    "import numpy as np"
   ]
  },
  {
   "cell_type": "code",
   "execution_count": 2,
   "metadata": {},
   "outputs": [],
   "source": [
    "mydb = mysql.connector.connect(\n",
    "    host=\"localhost\",\n",
    "    user=\"root\",\n",
    "    passwd=\"\",\n",
    "    database=\"data\"\n",
    ")"
   ]
  },
  {
   "cell_type": "code",
   "execution_count": 3,
   "metadata": {},
   "outputs": [],
   "source": [
    "mycursor = mydb.cursor()"
   ]
  },
  {
   "cell_type": "code",
   "execution_count": 4,
   "metadata": {},
   "outputs": [],
   "source": [
    "table_name = \"gse2034_series_matrix\""
   ]
  },
  {
   "cell_type": "code",
   "execution_count": 5,
   "metadata": {},
   "outputs": [],
   "source": [
    "df = pd.read_csv(\"series_matrix/\"+table_name+\".csv\")"
   ]
  },
  {
   "cell_type": "code",
   "execution_count": 6,
   "metadata": {},
   "outputs": [],
   "source": [
    "mycursor.execute(\"DROP TABLE IF EXISTS `\"+table_name+\"`;\")"
   ]
  },
  {
   "cell_type": "code",
   "execution_count": 7,
   "metadata": {},
   "outputs": [
    {
     "data": {
      "text/plain": [
       "'CREATE TABLE `gse2034_series_matrix` (`ID_REF` VARCHAR(40),`GSM36777` VARCHAR(40),`GSM36778` VARCHAR(40),`GSM36779` VARCHAR(40),`GSM36780` VARCHAR(40),`GSM36781` VARCHAR(40),`GSM36782` VARCHAR(40),`GSM36783` VARCHAR(40),`GSM36784` VARCHAR(40),`GSM36785` VARCHAR(40),`GSM36786` VARCHAR(40),`GSM36787` VARCHAR(40),`GSM36788` VARCHAR(40),`GSM36789` VARCHAR(40),`GSM36790` VARCHAR(40),`GSM36791` VARCHAR(40),`GSM36792` VARCHAR(40),`GSM36793` VARCHAR(40),`GSM36794` VARCHAR(40),`GSM36795` VARCHAR(40),`GSM36796` VARCHAR(40),`GSM36797` VARCHAR(40),`GSM36798` VARCHAR(40),`GSM36799` VARCHAR(40),`GSM36800` VARCHAR(40),`GSM36801` VARCHAR(40),`GSM36802` VARCHAR(40),`GSM36803` VARCHAR(40),`GSM36804` VARCHAR(40),`GSM36805` VARCHAR(40),`GSM36806` VARCHAR(40),`GSM36807` VARCHAR(40),`GSM36808` VARCHAR(40),`GSM36809` VARCHAR(40),`GSM36810` VARCHAR(40),`GSM36811` VARCHAR(40),`GSM36812` VARCHAR(40),`GSM36813` VARCHAR(40),`GSM36814` VARCHAR(40),`GSM36815` VARCHAR(40),`GSM36816` VARCHAR(40),`GSM36817` VARCHAR(40),`GSM36818` VARCHAR(40),`GSM36819` VARCHAR(40),`GSM36820` VARCHAR(40),`GSM36821` VARCHAR(40),`GSM36822` VARCHAR(40),`GSM36823` VARCHAR(40),`GSM36824` VARCHAR(40),`GSM36825` VARCHAR(40),`GSM36826` VARCHAR(40),`GSM36827` VARCHAR(40),`GSM36828` VARCHAR(40),`GSM36829` VARCHAR(40),`GSM36830` VARCHAR(40),`GSM36831` VARCHAR(40),`GSM36832` VARCHAR(40),`GSM36833` VARCHAR(40),`GSM36834` VARCHAR(40),`GSM36835` VARCHAR(40),`GSM36836` VARCHAR(40),`GSM36837` VARCHAR(40),`GSM36838` VARCHAR(40),`GSM36839` VARCHAR(40),`GSM36840` VARCHAR(40),`GSM36841` VARCHAR(40),`GSM36842` VARCHAR(40),`GSM36843` VARCHAR(40),`GSM36844` VARCHAR(40),`GSM36845` VARCHAR(40),`GSM36846` VARCHAR(40),`GSM36847` VARCHAR(40),`GSM36848` VARCHAR(40),`GSM36849` VARCHAR(40),`GSM36850` VARCHAR(40),`GSM36851` VARCHAR(40),`GSM36852` VARCHAR(40),`GSM36853` VARCHAR(40),`GSM36854` VARCHAR(40),`GSM36855` VARCHAR(40),`GSM36856` VARCHAR(40),`GSM36857` VARCHAR(40),`GSM36858` VARCHAR(40),`GSM36859` VARCHAR(40),`GSM36860` VARCHAR(40),`GSM36861` VARCHAR(40),`GSM36862` VARCHAR(40),`GSM36863` VARCHAR(40),`GSM36864` VARCHAR(40),`GSM36865` VARCHAR(40),`GSM36866` VARCHAR(40),`GSM36867` VARCHAR(40),`GSM36868` VARCHAR(40),`GSM36869` VARCHAR(40),`GSM36870` VARCHAR(40),`GSM36871` VARCHAR(40),`GSM36872` VARCHAR(40),`GSM36873` VARCHAR(40),`GSM36874` VARCHAR(40),`GSM36875` VARCHAR(40),`GSM36876` VARCHAR(40),`GSM36877` VARCHAR(40),`GSM36878` VARCHAR(40),`GSM36879` VARCHAR(40),`GSM36880` VARCHAR(40),`GSM36881` VARCHAR(40),`GSM36882` VARCHAR(40),`GSM36883` VARCHAR(40),`GSM36884` VARCHAR(40),`GSM36885` VARCHAR(40),`GSM36886` VARCHAR(40),`GSM36887` VARCHAR(40),`GSM36888` VARCHAR(40),`GSM36889` VARCHAR(40),`GSM36890` VARCHAR(40),`GSM36891` VARCHAR(40),`GSM36892` VARCHAR(40),`GSM36893` VARCHAR(40),`GSM36894` VARCHAR(40),`GSM36895` VARCHAR(40),`GSM36896` VARCHAR(40),`GSM36897` VARCHAR(40),`GSM36898` VARCHAR(40),`GSM36899` VARCHAR(40),`GSM36900` VARCHAR(40),`GSM36901` VARCHAR(40),`GSM36902` VARCHAR(40),`GSM36903` VARCHAR(40),`GSM36904` VARCHAR(40),`GSM36905` VARCHAR(40),`GSM36906` VARCHAR(40),`GSM36907` VARCHAR(40),`GSM36908` VARCHAR(40),`GSM36909` VARCHAR(40),`GSM36910` VARCHAR(40),`GSM36911` VARCHAR(40),`GSM36912` VARCHAR(40),`GSM36913` VARCHAR(40),`GSM36914` VARCHAR(40),`GSM36915` VARCHAR(40),`GSM36916` VARCHAR(40),`GSM36917` VARCHAR(40),`GSM36918` VARCHAR(40),`GSM36919` VARCHAR(40),`GSM36920` VARCHAR(40),`GSM36921` VARCHAR(40),`GSM36922` VARCHAR(40),`GSM36923` VARCHAR(40),`GSM36924` VARCHAR(40),`GSM36925` VARCHAR(40),`GSM36926` VARCHAR(40),`GSM36927` VARCHAR(40),`GSM36928` VARCHAR(40),`GSM36929` VARCHAR(40),`GSM36930` VARCHAR(40),`GSM36931` VARCHAR(40),`GSM36932` VARCHAR(40),`GSM36933` VARCHAR(40),`GSM36934` VARCHAR(40),`GSM36935` VARCHAR(40),`GSM36936` VARCHAR(40),`GSM36937` VARCHAR(40),`GSM36938` VARCHAR(40),`GSM36939` VARCHAR(40),`GSM36940` VARCHAR(40),`GSM36941` VARCHAR(40),`GSM36942` VARCHAR(40),`GSM36943` VARCHAR(40),`GSM36944` VARCHAR(40),`GSM36945` VARCHAR(40),`GSM36946` VARCHAR(40),`GSM36947` VARCHAR(40),`GSM36948` VARCHAR(40),`GSM36949` VARCHAR(40),`GSM36950` VARCHAR(40),`GSM36951` VARCHAR(40),`GSM36952` VARCHAR(40),`GSM36953` VARCHAR(40),`GSM36954` VARCHAR(40),`GSM36955` VARCHAR(40),`GSM36956` VARCHAR(40),`GSM36957` VARCHAR(40),`GSM36958` VARCHAR(40),`GSM36959` VARCHAR(40),`GSM36960` VARCHAR(40),`GSM36961` VARCHAR(40),`GSM36962` VARCHAR(40),`GSM36963` VARCHAR(40),`GSM36964` VARCHAR(40),`GSM36965` VARCHAR(40),`GSM36966` VARCHAR(40),`GSM36967` VARCHAR(40),`GSM36968` VARCHAR(40),`GSM36969` VARCHAR(40),`GSM36970` VARCHAR(40),`GSM36971` VARCHAR(40),`GSM36972` VARCHAR(40),`GSM36973` VARCHAR(40),`GSM36974` VARCHAR(40),`GSM36975` VARCHAR(40),`GSM36976` VARCHAR(40),`GSM36977` VARCHAR(40),`GSM36978` VARCHAR(40),`GSM36979` VARCHAR(40),`GSM36980` VARCHAR(40),`GSM36981` VARCHAR(40),`GSM36982` VARCHAR(40),`GSM36983` VARCHAR(40),`GSM36984` VARCHAR(40),`GSM36985` VARCHAR(40),`GSM36986` VARCHAR(40),`GSM36987` VARCHAR(40),`GSM36988` VARCHAR(40),`GSM36989` VARCHAR(40),`GSM36990` VARCHAR(40),`GSM36991` VARCHAR(40),`GSM36992` VARCHAR(40),`GSM36993` VARCHAR(40),`GSM36994` VARCHAR(40),`GSM36995` VARCHAR(40),`GSM36996` VARCHAR(40),`GSM36997` VARCHAR(40),`GSM36998` VARCHAR(40),`GSM36999` VARCHAR(40),`GSM37000` VARCHAR(40),`GSM37001` VARCHAR(40),`GSM37002` VARCHAR(40),`GSM37003` VARCHAR(40),`GSM37004` VARCHAR(40),`GSM37005` VARCHAR(40),`GSM37006` VARCHAR(40),`GSM37007` VARCHAR(40),`GSM37008` VARCHAR(40),`GSM37009` VARCHAR(40),`GSM37010` VARCHAR(40),`GSM37011` VARCHAR(40),`GSM37012` VARCHAR(40),`GSM37013` VARCHAR(40),`GSM37014` VARCHAR(40),`GSM37015` VARCHAR(40),`GSM37016` VARCHAR(40),`GSM37017` VARCHAR(40),`GSM37018` VARCHAR(40),`GSM37019` VARCHAR(40),`GSM37020` VARCHAR(40),`GSM37021` VARCHAR(40),`GSM37022` VARCHAR(40),`GSM37023` VARCHAR(40),`GSM37024` VARCHAR(40),`GSM37025` VARCHAR(40),`GSM37026` VARCHAR(40),`GSM37027` VARCHAR(40),`GSM37028` VARCHAR(40),`GSM37029` VARCHAR(40),`GSM37030` VARCHAR(40),`GSM37031` VARCHAR(40),`GSM37032` VARCHAR(40),`GSM37033` VARCHAR(40),`GSM37034` VARCHAR(40),`GSM37035` VARCHAR(40),`GSM37036` VARCHAR(40),`GSM37037` VARCHAR(40),`GSM37038` VARCHAR(40),`GSM37039` VARCHAR(40),`GSM37040` VARCHAR(40),`GSM37041` VARCHAR(40),`GSM37042` VARCHAR(40),`GSM37043` VARCHAR(40),`GSM37044` VARCHAR(40),`GSM37045` VARCHAR(40),`GSM37046` VARCHAR(40),`GSM37047` VARCHAR(40),`GSM37048` VARCHAR(40),`GSM37049` VARCHAR(40),`GSM37050` VARCHAR(40),`GSM37051` VARCHAR(40),`GSM37052` VARCHAR(40),`GSM37053` VARCHAR(40),`GSM37054` VARCHAR(40),`GSM37055` VARCHAR(40),`GSM37056` VARCHAR(40),`GSM37057` VARCHAR(40),`GSM37058` VARCHAR(40),`GSM37059` VARCHAR(40),`GSM37060` VARCHAR(40),`GSM37061` VARCHAR(40),`GSM37062` VARCHAR(40))'"
      ]
     },
     "execution_count": 7,
     "metadata": {},
     "output_type": "execute_result"
    }
   ],
   "source": [
    "sql = \"CREATE TABLE `\"+table_name+\"` (\"\n",
    "count = 1\n",
    "columns = \"(\"\n",
    "for x in df.columns:\n",
    "    if count!= len(list(df.columns)) :\n",
    "        sql += \"`\"+x + \"` VARCHAR(40),\"\n",
    "        columns += \"`\"+x + \"`,\"\n",
    "    else:\n",
    "        sql += \"`\"+x + \"` VARCHAR(40)\"\n",
    "        columns += \"`\"+x + \"`)\"\n",
    "    count+=1\n",
    "sql += \")\"\n",
    "sql"
   ]
  },
  {
   "cell_type": "code",
   "execution_count": 8,
   "metadata": {},
   "outputs": [
    {
     "ename": "ProgrammingError",
     "evalue": "1118 (42000): Row size too large (> 8126). Changing some columns to TEXT or BLOB may help. In current row format, BLOB prefix of 0 bytes is stored inline.",
     "output_type": "error",
     "traceback": [
      "\u001b[1;31m---------------------------------------------------------------------------\u001b[0m",
      "\u001b[1;31mProgrammingError\u001b[0m                          Traceback (most recent call last)",
      "\u001b[1;32m<ipython-input-8-797a2a6832d9>\u001b[0m in \u001b[0;36m<module>\u001b[1;34m\u001b[0m\n\u001b[1;32m----> 1\u001b[1;33m \u001b[0mmycursor\u001b[0m\u001b[1;33m.\u001b[0m\u001b[0mexecute\u001b[0m\u001b[1;33m(\u001b[0m\u001b[0msql\u001b[0m\u001b[1;33m)\u001b[0m\u001b[1;33m\u001b[0m\u001b[1;33m\u001b[0m\u001b[0m\n\u001b[0m",
      "\u001b[1;32mc:\\users\\subas\\appdata\\local\\programs\\python\\python37-32\\lib\\site-packages\\mysql\\connector\\cursor.py\u001b[0m in \u001b[0;36mexecute\u001b[1;34m(self, operation, params, multi)\u001b[0m\n\u001b[0;32m    567\u001b[0m \u001b[1;33m\u001b[0m\u001b[0m\n\u001b[0;32m    568\u001b[0m         \u001b[1;32mtry\u001b[0m\u001b[1;33m:\u001b[0m\u001b[1;33m\u001b[0m\u001b[1;33m\u001b[0m\u001b[0m\n\u001b[1;32m--> 569\u001b[1;33m             \u001b[0mself\u001b[0m\u001b[1;33m.\u001b[0m\u001b[0m_handle_result\u001b[0m\u001b[1;33m(\u001b[0m\u001b[0mself\u001b[0m\u001b[1;33m.\u001b[0m\u001b[0m_connection\u001b[0m\u001b[1;33m.\u001b[0m\u001b[0mcmd_query\u001b[0m\u001b[1;33m(\u001b[0m\u001b[0mstmt\u001b[0m\u001b[1;33m)\u001b[0m\u001b[1;33m)\u001b[0m\u001b[1;33m\u001b[0m\u001b[1;33m\u001b[0m\u001b[0m\n\u001b[0m\u001b[0;32m    570\u001b[0m         \u001b[1;32mexcept\u001b[0m \u001b[0merrors\u001b[0m\u001b[1;33m.\u001b[0m\u001b[0mInterfaceError\u001b[0m\u001b[1;33m:\u001b[0m\u001b[1;33m\u001b[0m\u001b[1;33m\u001b[0m\u001b[0m\n\u001b[0;32m    571\u001b[0m             \u001b[1;32mif\u001b[0m \u001b[0mself\u001b[0m\u001b[1;33m.\u001b[0m\u001b[0m_connection\u001b[0m\u001b[1;33m.\u001b[0m\u001b[0m_have_next_result\u001b[0m\u001b[1;33m:\u001b[0m  \u001b[1;31m# pylint: disable=W0212\u001b[0m\u001b[1;33m\u001b[0m\u001b[1;33m\u001b[0m\u001b[0m\n",
      "\u001b[1;32mc:\\users\\subas\\appdata\\local\\programs\\python\\python37-32\\lib\\site-packages\\mysql\\connector\\connection.py\u001b[0m in \u001b[0;36mcmd_query\u001b[1;34m(self, query, raw, buffered, raw_as_string)\u001b[0m\n\u001b[0;32m    588\u001b[0m         \u001b[1;32mif\u001b[0m \u001b[1;32mnot\u001b[0m \u001b[0misinstance\u001b[0m\u001b[1;33m(\u001b[0m\u001b[0mquery\u001b[0m\u001b[1;33m,\u001b[0m \u001b[0mbytes\u001b[0m\u001b[1;33m)\u001b[0m\u001b[1;33m:\u001b[0m\u001b[1;33m\u001b[0m\u001b[1;33m\u001b[0m\u001b[0m\n\u001b[0;32m    589\u001b[0m             \u001b[0mquery\u001b[0m \u001b[1;33m=\u001b[0m \u001b[0mquery\u001b[0m\u001b[1;33m.\u001b[0m\u001b[0mencode\u001b[0m\u001b[1;33m(\u001b[0m\u001b[1;34m'utf-8'\u001b[0m\u001b[1;33m)\u001b[0m\u001b[1;33m\u001b[0m\u001b[1;33m\u001b[0m\u001b[0m\n\u001b[1;32m--> 590\u001b[1;33m         \u001b[0mresult\u001b[0m \u001b[1;33m=\u001b[0m \u001b[0mself\u001b[0m\u001b[1;33m.\u001b[0m\u001b[0m_handle_result\u001b[0m\u001b[1;33m(\u001b[0m\u001b[0mself\u001b[0m\u001b[1;33m.\u001b[0m\u001b[0m_send_cmd\u001b[0m\u001b[1;33m(\u001b[0m\u001b[0mServerCmd\u001b[0m\u001b[1;33m.\u001b[0m\u001b[0mQUERY\u001b[0m\u001b[1;33m,\u001b[0m \u001b[0mquery\u001b[0m\u001b[1;33m)\u001b[0m\u001b[1;33m)\u001b[0m\u001b[1;33m\u001b[0m\u001b[1;33m\u001b[0m\u001b[0m\n\u001b[0m\u001b[0;32m    591\u001b[0m \u001b[1;33m\u001b[0m\u001b[0m\n\u001b[0;32m    592\u001b[0m         \u001b[1;32mif\u001b[0m \u001b[0mself\u001b[0m\u001b[1;33m.\u001b[0m\u001b[0m_have_next_result\u001b[0m\u001b[1;33m:\u001b[0m\u001b[1;33m\u001b[0m\u001b[1;33m\u001b[0m\u001b[0m\n",
      "\u001b[1;32mc:\\users\\subas\\appdata\\local\\programs\\python\\python37-32\\lib\\site-packages\\mysql\\connector\\connection.py\u001b[0m in \u001b[0;36m_handle_result\u001b[1;34m(self, packet)\u001b[0m\n\u001b[0;32m    476\u001b[0m             \u001b[1;32mreturn\u001b[0m \u001b[0mself\u001b[0m\u001b[1;33m.\u001b[0m\u001b[0m_handle_eof\u001b[0m\u001b[1;33m(\u001b[0m\u001b[0mpacket\u001b[0m\u001b[1;33m)\u001b[0m\u001b[1;33m\u001b[0m\u001b[1;33m\u001b[0m\u001b[0m\n\u001b[0;32m    477\u001b[0m         \u001b[1;32melif\u001b[0m \u001b[0mpacket\u001b[0m\u001b[1;33m[\u001b[0m\u001b[1;36m4\u001b[0m\u001b[1;33m]\u001b[0m \u001b[1;33m==\u001b[0m \u001b[1;36m255\u001b[0m\u001b[1;33m:\u001b[0m\u001b[1;33m\u001b[0m\u001b[1;33m\u001b[0m\u001b[0m\n\u001b[1;32m--> 478\u001b[1;33m             \u001b[1;32mraise\u001b[0m \u001b[0merrors\u001b[0m\u001b[1;33m.\u001b[0m\u001b[0mget_exception\u001b[0m\u001b[1;33m(\u001b[0m\u001b[0mpacket\u001b[0m\u001b[1;33m)\u001b[0m\u001b[1;33m\u001b[0m\u001b[1;33m\u001b[0m\u001b[0m\n\u001b[0m\u001b[0;32m    479\u001b[0m \u001b[1;33m\u001b[0m\u001b[0m\n\u001b[0;32m    480\u001b[0m         \u001b[1;31m# We have a text result set\u001b[0m\u001b[1;33m\u001b[0m\u001b[1;33m\u001b[0m\u001b[1;33m\u001b[0m\u001b[0m\n",
      "\u001b[1;31mProgrammingError\u001b[0m: 1118 (42000): Row size too large (> 8126). Changing some columns to TEXT or BLOB may help. In current row format, BLOB prefix of 0 bytes is stored inline."
     ]
    }
   ],
   "source": [
    "mycursor.execute(sql)"
   ]
  },
  {
   "cell_type": "code",
   "execution_count": null,
   "metadata": {},
   "outputs": [],
   "source": [
    "no_of_rows = 1\n",
    "for x in df.iterrows():\n",
    "    insert = \"INSERT INTO `\"+table_name+\"` \"+columns+\" VALUES (\"\n",
    "    count = 1\n",
    "    for y in x[1]:\n",
    "        if count != len(list(x[1])):\n",
    "            insert += \"\\\"\"+str(y)+\"\\\",\"\n",
    "        else:\n",
    "            insert += \"\\\"\"+str(y)+\"\\\"\"\n",
    "        count+=1\n",
    "    insert += \")\"\n",
    "\n",
    "    mycursor.execute(insert)\n",
    "    print(no_of_rows)\n",
    "    no_of_rows +=1\n",
    "mydb.commit()"
   ]
  },
  {
   "cell_type": "code",
   "execution_count": null,
   "metadata": {},
   "outputs": [],
   "source": []
  },
  {
   "cell_type": "code",
   "execution_count": null,
   "metadata": {},
   "outputs": [],
   "source": []
  }
 ],
 "metadata": {
  "kernelspec": {
   "display_name": "Python 3",
   "language": "python",
   "name": "python3"
  },
  "language_info": {
   "codemirror_mode": {
    "name": "ipython",
    "version": 3
   },
   "file_extension": ".py",
   "mimetype": "text/x-python",
   "name": "python",
   "nbconvert_exporter": "python",
   "pygments_lexer": "ipython3",
   "version": "3.7.4"
  }
 },
 "nbformat": 4,
 "nbformat_minor": 2
}
