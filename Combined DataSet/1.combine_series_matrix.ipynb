{
 "cells": [
  {
   "cell_type": "code",
   "execution_count": 1,
   "metadata": {},
   "outputs": [],
   "source": [
    "import pandas as pd\n",
    "import numpy as np"
   ]
  },
  {
   "cell_type": "code",
   "execution_count": 2,
   "metadata": {},
   "outputs": [],
   "source": [
    "table_names = [\n",
    "    \"gse1456_series_matrix\",\n",
    "    \"gse2034_series_matrix\",\n",
    "    \"gse2990_series_matrix\",\n",
    "    \"gse3494_series_matrix\",\n",
    "    \"gse4922_series_matrix\",\n",
    "    \"gse7390_series_matrix\",\n",
    "    \"e-tabm-158_series_matrix\",]"
   ]
  },
  {
   "cell_type": "code",
   "execution_count": 3,
   "metadata": {},
   "outputs": [],
   "source": [
    " gse1456 = pd.read_csv(\"series_matrix/\"+table_names[0]+\".csv\")"
   ]
  },
  {
   "cell_type": "code",
   "execution_count": 4,
   "metadata": {},
   "outputs": [],
   "source": [
    " gse2034 = pd.read_csv(\"series_matrix/\"+table_names[1]+\".csv\")"
   ]
  },
  {
   "cell_type": "code",
   "execution_count": 5,
   "metadata": {},
   "outputs": [],
   "source": [
    " gse2990 = pd.read_csv(\"series_matrix/\"+table_names[2]+\".csv\")"
   ]
  },
  {
   "cell_type": "code",
   "execution_count": 6,
   "metadata": {},
   "outputs": [],
   "source": [
    " gse3494 = pd.read_csv(\"series_matrix/\"+table_names[3]+\".csv\")"
   ]
  },
  {
   "cell_type": "code",
   "execution_count": 7,
   "metadata": {},
   "outputs": [],
   "source": [
    " gse4922 = pd.read_csv(\"series_matrix/\"+table_names[4]+\".csv\")"
   ]
  },
  {
   "cell_type": "code",
   "execution_count": 8,
   "metadata": {},
   "outputs": [],
   "source": [
    " gse7390 = pd.read_csv(\"series_matrix/\"+table_names[5]+\".csv\")"
   ]
  },
  {
   "cell_type": "code",
   "execution_count": 9,
   "metadata": {},
   "outputs": [],
   "source": [
    "e_tabm = pd.read_csv(\"series_matrix/\"+table_names[6]+\".csv\")"
   ]
  },
  {
   "cell_type": "code",
   "execution_count": null,
   "metadata": {},
   "outputs": [],
   "source": []
  },
  {
   "cell_type": "code",
   "execution_count": 10,
   "metadata": {},
   "outputs": [],
   "source": [
    "merged_inner = pd.merge(left=gse1456,right=gse2034, left_on='ID_REF', right_on='ID_REF')"
   ]
  },
  {
   "cell_type": "code",
   "execution_count": 11,
   "metadata": {},
   "outputs": [
    {
     "data": {
      "text/html": [
       "<div>\n",
       "<style scoped>\n",
       "    .dataframe tbody tr th:only-of-type {\n",
       "        vertical-align: middle;\n",
       "    }\n",
       "\n",
       "    .dataframe tbody tr th {\n",
       "        vertical-align: top;\n",
       "    }\n",
       "\n",
       "    .dataframe thead th {\n",
       "        text-align: right;\n",
       "    }\n",
       "</style>\n",
       "<table border=\"1\" class=\"dataframe\">\n",
       "  <thead>\n",
       "    <tr style=\"text-align: right;\">\n",
       "      <th></th>\n",
       "      <th>ID_REF</th>\n",
       "      <th>GSM107072</th>\n",
       "      <th>GSM107073</th>\n",
       "      <th>GSM107074</th>\n",
       "      <th>GSM107075</th>\n",
       "      <th>GSM107076</th>\n",
       "      <th>GSM107077</th>\n",
       "      <th>GSM107078</th>\n",
       "      <th>GSM107079</th>\n",
       "      <th>GSM107080</th>\n",
       "      <th>...</th>\n",
       "      <th>GSM37053</th>\n",
       "      <th>GSM37054</th>\n",
       "      <th>GSM37055</th>\n",
       "      <th>GSM37056</th>\n",
       "      <th>GSM37057</th>\n",
       "      <th>GSM37058</th>\n",
       "      <th>GSM37059</th>\n",
       "      <th>GSM37060</th>\n",
       "      <th>GSM37061</th>\n",
       "      <th>GSM37062</th>\n",
       "    </tr>\n",
       "  </thead>\n",
       "  <tbody>\n",
       "    <tr>\n",
       "      <th>0</th>\n",
       "      <td>1007_s_at</td>\n",
       "      <td>8.936222</td>\n",
       "      <td>9.127841</td>\n",
       "      <td>9.277649</td>\n",
       "      <td>9.100607</td>\n",
       "      <td>9.072174</td>\n",
       "      <td>9.694112</td>\n",
       "      <td>8.965544</td>\n",
       "      <td>9.157924</td>\n",
       "      <td>8.766354</td>\n",
       "      <td>...</td>\n",
       "      <td>4058.2</td>\n",
       "      <td>4017.6</td>\n",
       "      <td>2841.0</td>\n",
       "      <td>2914.2</td>\n",
       "      <td>3681.0</td>\n",
       "      <td>3066.9</td>\n",
       "      <td>2773.0</td>\n",
       "      <td>2984.3</td>\n",
       "      <td>3540.0</td>\n",
       "      <td>2620.0</td>\n",
       "    </tr>\n",
       "    <tr>\n",
       "      <th>1</th>\n",
       "      <td>1053_at</td>\n",
       "      <td>6.065584</td>\n",
       "      <td>6.807857</td>\n",
       "      <td>6.093245</td>\n",
       "      <td>5.687522</td>\n",
       "      <td>6.116815</td>\n",
       "      <td>5.656566</td>\n",
       "      <td>6.196974</td>\n",
       "      <td>6.207242</td>\n",
       "      <td>6.208822</td>\n",
       "      <td>...</td>\n",
       "      <td>183.4</td>\n",
       "      <td>356.1</td>\n",
       "      <td>234.6</td>\n",
       "      <td>169.4</td>\n",
       "      <td>94.5</td>\n",
       "      <td>265.5</td>\n",
       "      <td>209.8</td>\n",
       "      <td>160.0</td>\n",
       "      <td>285.7</td>\n",
       "      <td>180.5</td>\n",
       "    </tr>\n",
       "    <tr>\n",
       "      <th>2</th>\n",
       "      <td>117_at</td>\n",
       "      <td>6.436126</td>\n",
       "      <td>6.554243</td>\n",
       "      <td>6.186594</td>\n",
       "      <td>5.952927</td>\n",
       "      <td>6.622426</td>\n",
       "      <td>6.626264</td>\n",
       "      <td>6.593130</td>\n",
       "      <td>6.393989</td>\n",
       "      <td>5.829035</td>\n",
       "      <td>...</td>\n",
       "      <td>326.6</td>\n",
       "      <td>234.9</td>\n",
       "      <td>369.6</td>\n",
       "      <td>149.5</td>\n",
       "      <td>236.4</td>\n",
       "      <td>347.9</td>\n",
       "      <td>226.7</td>\n",
       "      <td>252.9</td>\n",
       "      <td>135.1</td>\n",
       "      <td>191.8</td>\n",
       "    </tr>\n",
       "    <tr>\n",
       "      <th>3</th>\n",
       "      <td>121_at</td>\n",
       "      <td>8.054085</td>\n",
       "      <td>8.308390</td>\n",
       "      <td>8.270896</td>\n",
       "      <td>8.069885</td>\n",
       "      <td>8.019180</td>\n",
       "      <td>8.170112</td>\n",
       "      <td>8.120518</td>\n",
       "      <td>8.136754</td>\n",
       "      <td>8.309964</td>\n",
       "      <td>...</td>\n",
       "      <td>1041.3</td>\n",
       "      <td>1195.6</td>\n",
       "      <td>751.5</td>\n",
       "      <td>1117.8</td>\n",
       "      <td>1022.4</td>\n",
       "      <td>1127.4</td>\n",
       "      <td>1071.8</td>\n",
       "      <td>1178.5</td>\n",
       "      <td>1256.7</td>\n",
       "      <td>1284.6</td>\n",
       "    </tr>\n",
       "    <tr>\n",
       "      <th>4</th>\n",
       "      <td>1255_g_at</td>\n",
       "      <td>5.226878</td>\n",
       "      <td>5.266029</td>\n",
       "      <td>5.694295</td>\n",
       "      <td>4.927552</td>\n",
       "      <td>4.871362</td>\n",
       "      <td>4.973852</td>\n",
       "      <td>5.587933</td>\n",
       "      <td>5.209231</td>\n",
       "      <td>4.729894</td>\n",
       "      <td>...</td>\n",
       "      <td>143.5</td>\n",
       "      <td>32.7</td>\n",
       "      <td>62.6</td>\n",
       "      <td>43.0</td>\n",
       "      <td>100.5</td>\n",
       "      <td>47.0</td>\n",
       "      <td>45.1</td>\n",
       "      <td>146.3</td>\n",
       "      <td>75.9</td>\n",
       "      <td>87.4</td>\n",
       "    </tr>\n",
       "  </tbody>\n",
       "</table>\n",
       "<p>5 rows × 446 columns</p>\n",
       "</div>"
      ],
      "text/plain": [
       "      ID_REF  GSM107072  GSM107073  GSM107074  GSM107075  GSM107076  \\\n",
       "0  1007_s_at   8.936222   9.127841   9.277649   9.100607   9.072174   \n",
       "1    1053_at   6.065584   6.807857   6.093245   5.687522   6.116815   \n",
       "2     117_at   6.436126   6.554243   6.186594   5.952927   6.622426   \n",
       "3     121_at   8.054085   8.308390   8.270896   8.069885   8.019180   \n",
       "4  1255_g_at   5.226878   5.266029   5.694295   4.927552   4.871362   \n",
       "\n",
       "   GSM107077  GSM107078  GSM107079  GSM107080  ...  GSM37053  GSM37054  \\\n",
       "0   9.694112   8.965544   9.157924   8.766354  ...    4058.2    4017.6   \n",
       "1   5.656566   6.196974   6.207242   6.208822  ...     183.4     356.1   \n",
       "2   6.626264   6.593130   6.393989   5.829035  ...     326.6     234.9   \n",
       "3   8.170112   8.120518   8.136754   8.309964  ...    1041.3    1195.6   \n",
       "4   4.973852   5.587933   5.209231   4.729894  ...     143.5      32.7   \n",
       "\n",
       "   GSM37055  GSM37056  GSM37057  GSM37058  GSM37059  GSM37060  GSM37061  \\\n",
       "0    2841.0    2914.2    3681.0    3066.9    2773.0    2984.3    3540.0   \n",
       "1     234.6     169.4      94.5     265.5     209.8     160.0     285.7   \n",
       "2     369.6     149.5     236.4     347.9     226.7     252.9     135.1   \n",
       "3     751.5    1117.8    1022.4    1127.4    1071.8    1178.5    1256.7   \n",
       "4      62.6      43.0     100.5      47.0      45.1     146.3      75.9   \n",
       "\n",
       "   GSM37062  \n",
       "0    2620.0  \n",
       "1     180.5  \n",
       "2     191.8  \n",
       "3    1284.6  \n",
       "4      87.4  \n",
       "\n",
       "[5 rows x 446 columns]"
      ]
     },
     "execution_count": 11,
     "metadata": {},
     "output_type": "execute_result"
    }
   ],
   "source": [
    "merged_inner.head()"
   ]
  },
  {
   "cell_type": "code",
   "execution_count": 12,
   "metadata": {},
   "outputs": [
    {
     "data": {
      "text/plain": [
       "(22283, 160)"
      ]
     },
     "execution_count": 12,
     "metadata": {},
     "output_type": "execute_result"
    }
   ],
   "source": [
    "gse1456.shape"
   ]
  },
  {
   "cell_type": "code",
   "execution_count": 13,
   "metadata": {},
   "outputs": [
    {
     "data": {
      "text/plain": [
       "(22283, 287)"
      ]
     },
     "execution_count": 13,
     "metadata": {},
     "output_type": "execute_result"
    }
   ],
   "source": [
    "gse2034.shape"
   ]
  },
  {
   "cell_type": "code",
   "execution_count": 14,
   "metadata": {},
   "outputs": [
    {
     "data": {
      "text/plain": [
       "(22283, 190)"
      ]
     },
     "execution_count": 14,
     "metadata": {},
     "output_type": "execute_result"
    }
   ],
   "source": [
    "gse2990.shape"
   ]
  },
  {
   "cell_type": "code",
   "execution_count": 15,
   "metadata": {},
   "outputs": [
    {
     "data": {
      "text/plain": [
       "(22283, 252)"
      ]
     },
     "execution_count": 15,
     "metadata": {},
     "output_type": "execute_result"
    }
   ],
   "source": [
    "gse3494.shape"
   ]
  },
  {
   "cell_type": "code",
   "execution_count": 16,
   "metadata": {},
   "outputs": [
    {
     "data": {
      "text/plain": [
       "(22283, 290)"
      ]
     },
     "execution_count": 16,
     "metadata": {},
     "output_type": "execute_result"
    }
   ],
   "source": [
    "gse4922.shape"
   ]
  },
  {
   "cell_type": "code",
   "execution_count": 17,
   "metadata": {},
   "outputs": [
    {
     "data": {
      "text/plain": [
       "(22283, 199)"
      ]
     },
     "execution_count": 17,
     "metadata": {},
     "output_type": "execute_result"
    }
   ],
   "source": [
    "gse7390.shape"
   ]
  },
  {
   "cell_type": "code",
   "execution_count": 18,
   "metadata": {},
   "outputs": [
    {
     "data": {
      "text/plain": [
       "(22215, 119)"
      ]
     },
     "execution_count": 18,
     "metadata": {},
     "output_type": "execute_result"
    }
   ],
   "source": [
    "e_tabm.shape"
   ]
  },
  {
   "cell_type": "code",
   "execution_count": 19,
   "metadata": {},
   "outputs": [],
   "source": [
    "merged_inner = pd.merge(left=merged_inner,right=gse2990, left_on='ID_REF', right_on='ID_REF')"
   ]
  },
  {
   "cell_type": "code",
   "execution_count": 20,
   "metadata": {},
   "outputs": [
    {
     "data": {
      "text/plain": [
       "(22283, 635)"
      ]
     },
     "execution_count": 20,
     "metadata": {},
     "output_type": "execute_result"
    }
   ],
   "source": [
    "merged_inner.shape"
   ]
  },
  {
   "cell_type": "code",
   "execution_count": 21,
   "metadata": {},
   "outputs": [],
   "source": [
    "merged_inner = pd.merge(left=merged_inner,right=gse3494, left_on='ID_REF', right_on='ID_REF')"
   ]
  },
  {
   "cell_type": "code",
   "execution_count": 22,
   "metadata": {},
   "outputs": [],
   "source": [
    "merged_inner = pd.merge(left=merged_inner,right=gse4922, left_on='ID_REF', right_on='ID_REF')"
   ]
  },
  {
   "cell_type": "code",
   "execution_count": 23,
   "metadata": {},
   "outputs": [],
   "source": [
    "merged_inner = pd.merge(left=merged_inner,right=gse7390, left_on='ID_REF', right_on='ID_REF')"
   ]
  },
  {
   "cell_type": "code",
   "execution_count": 24,
   "metadata": {},
   "outputs": [],
   "source": [
    "# for x in range(0,68,1):\n",
    "#     merged_inner = merged_inner.drop(merged_inner.shape[0]-1)"
   ]
  },
  {
   "cell_type": "code",
   "execution_count": 25,
   "metadata": {},
   "outputs": [],
   "source": [
    "# merged_inner.to_csv(\"merged.csv\",index=False)"
   ]
  },
  {
   "cell_type": "code",
   "execution_count": 26,
   "metadata": {},
   "outputs": [],
   "source": [
    "# merged_inner = pd.read_csv(\"merged.csv\")"
   ]
  },
  {
   "cell_type": "code",
   "execution_count": 27,
   "metadata": {},
   "outputs": [],
   "source": [
    "merged_inner = pd.merge(left=merged_inner,right=e_tabm, left_on='ID_REF', right_on='ID_REF')"
   ]
  },
  {
   "cell_type": "code",
   "execution_count": 28,
   "metadata": {},
   "outputs": [
    {
     "data": {
      "text/plain": [
       "(22215, 1491)"
      ]
     },
     "execution_count": 28,
     "metadata": {},
     "output_type": "execute_result"
    }
   ],
   "source": [
    "merged_inner.shape"
   ]
  },
  {
   "cell_type": "code",
   "execution_count": 29,
   "metadata": {},
   "outputs": [],
   "source": [
    "merged_inner.to_csv(\"combined_series_matrix.csv\",index=False)"
   ]
  },
  {
   "cell_type": "code",
   "execution_count": null,
   "metadata": {},
   "outputs": [],
   "source": []
  }
 ],
 "metadata": {
  "kernelspec": {
   "display_name": "Python 3",
   "language": "python",
   "name": "python3"
  },
  "language_info": {
   "codemirror_mode": {
    "name": "ipython",
    "version": 3
   },
   "file_extension": ".py",
   "mimetype": "text/x-python",
   "name": "python",
   "nbconvert_exporter": "python",
   "pygments_lexer": "ipython3",
   "version": "3.7.4"
  }
 },
 "nbformat": 4,
 "nbformat_minor": 2
}
